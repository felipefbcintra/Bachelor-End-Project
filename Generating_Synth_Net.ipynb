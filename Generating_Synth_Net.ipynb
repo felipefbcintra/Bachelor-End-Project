{
 "cells": [
  {
   "cell_type": "code",
   "execution_count": 2,
   "metadata": {},
   "outputs": [],
   "source": [
    "import networkx as nx\n",
    "import numpy as np\n",
    "import matplotlib.pyplot as plt\n",
    "import seaborn as sns\n",
    "sns.set_theme()\n",
    "import json\n",
    "import pickle\n",
    "from networkx.generators.community import LFR_benchmark_graph\n",
    "from ktools import *"
   ]
  },
  {
   "cell_type": "markdown",
   "metadata": {},
   "source": [
    "importing random state\n"
   ]
  },
  {
   "cell_type": "code",
   "execution_count": 3,
   "metadata": {},
   "outputs": [],
   "source": [
    "def save_random_state():\n",
    "    random_state = np.random.get_state()\n",
    "    enc = random_state[0]\n",
    "    random_state_integers = random_state[1]\n",
    "    random_state_params = random_state[2:]\n",
    "\n",
    "    np.savetxt(\"random_state_integers.txt\", random_state_integers)\n",
    "\n",
    "    with open('random_state_params.txt', 'w') as fp:\n",
    "        for item in random_state_params:\n",
    "            # write each item on a new line\n",
    "            fp.write(\"%s\\n\" % item)"
   ]
  },
  {
   "cell_type": "code",
   "execution_count": 3,
   "metadata": {},
   "outputs": [],
   "source": [
    "#save_random_state()"
   ]
  },
  {
   "cell_type": "markdown",
   "metadata": {},
   "source": [
    "# Importing Data"
   ]
  },
  {
   "cell_type": "code",
   "execution_count": 4,
   "metadata": {},
   "outputs": [],
   "source": [
    "def create_adjacency(df:pd.DataFrame)->np.array:\n",
    "    m = max(max(df[\"zero\"].value_counts().index), max(df[\"one\"].value_counts().index)) + 1\n",
    "    A = np.zeros((m,m))\n",
    "    a,b = df[\"zero\"].to_numpy(dtype=int), df[\"one\"].to_numpy(dtype=int)\n",
    "\n",
    "    A[a,b] =1\n",
    "            \n",
    "    return A"
   ]
  },
  {
   "cell_type": "code",
   "execution_count": 5,
   "metadata": {},
   "outputs": [],
   "source": [
    "def import_random_state():\n",
    "    random_state_integers = np.loadtxt(\"random_state_integers.txt\")\n",
    "    enc=\"MT19937\"\n",
    "    params = []\n",
    "    with open(r'random_state_params.txt', 'r') as fp:\n",
    "        for line in fp:\n",
    "            # remove linebreak from a current name\n",
    "            # linebreak is the last character of each line\n",
    "            x = line[:-1]\n",
    "\n",
    "            # add current item to the list\n",
    "            params.append(x)\n",
    "\n",
    "    params[0] = int(params[0])\n",
    "    params[1] = int(params[1])\n",
    "    params[2] = float(params[2])\n",
    "\n",
    "    params.insert(0,enc)\n",
    "    params.insert(1, random_state_integers)\n",
    "    \n",
    "    return tuple(params)"
   ]
  },
  {
   "cell_type": "code",
   "execution_count": 6,
   "metadata": {},
   "outputs": [],
   "source": [
    "np.random.set_state(import_random_state())"
   ]
  },
  {
   "cell_type": "code",
   "execution_count": 8,
   "metadata": {},
   "outputs": [
    {
     "data": {
      "text/html": [
       "<div>\n",
       "<style scoped>\n",
       "    .dataframe tbody tr th:only-of-type {\n",
       "        vertical-align: middle;\n",
       "    }\n",
       "\n",
       "    .dataframe tbody tr th {\n",
       "        vertical-align: top;\n",
       "    }\n",
       "\n",
       "    .dataframe thead th {\n",
       "        text-align: right;\n",
       "    }\n",
       "</style>\n",
       "<table border=\"1\" class=\"dataframe\">\n",
       "  <thead>\n",
       "    <tr style=\"text-align: right;\">\n",
       "      <th></th>\n",
       "      <th>zero</th>\n",
       "      <th>one</th>\n",
       "      <th>d</th>\n",
       "      <th>w</th>\n",
       "    </tr>\n",
       "  </thead>\n",
       "  <tbody>\n",
       "    <tr>\n",
       "      <th>0</th>\n",
       "      <td>168</td>\n",
       "      <td>472</td>\n",
       "      <td>(168, 472)</td>\n",
       "      <td>668</td>\n",
       "    </tr>\n",
       "    <tr>\n",
       "      <th>1</th>\n",
       "      <td>168</td>\n",
       "      <td>912</td>\n",
       "      <td>(168, 912)</td>\n",
       "      <td>1212</td>\n",
       "    </tr>\n",
       "    <tr>\n",
       "      <th>2</th>\n",
       "      <td>2</td>\n",
       "      <td>790</td>\n",
       "      <td>(2, 790)</td>\n",
       "      <td>229</td>\n",
       "    </tr>\n",
       "    <tr>\n",
       "      <th>3</th>\n",
       "      <td>2</td>\n",
       "      <td>322</td>\n",
       "      <td>(2, 322)</td>\n",
       "      <td>10</td>\n",
       "    </tr>\n",
       "    <tr>\n",
       "      <th>4</th>\n",
       "      <td>2</td>\n",
       "      <td>790</td>\n",
       "      <td>(2, 790)</td>\n",
       "      <td>229</td>\n",
       "    </tr>\n",
       "    <tr>\n",
       "      <th>...</th>\n",
       "      <td>...</td>\n",
       "      <td>...</td>\n",
       "      <td>...</td>\n",
       "      <td>...</td>\n",
       "    </tr>\n",
       "    <tr>\n",
       "      <th>332328</th>\n",
       "      <td>324</td>\n",
       "      <td>367</td>\n",
       "      <td>(324, 367)</td>\n",
       "      <td>1</td>\n",
       "    </tr>\n",
       "    <tr>\n",
       "      <th>332329</th>\n",
       "      <td>790</td>\n",
       "      <td>126</td>\n",
       "      <td>(790, 126)</td>\n",
       "      <td>150</td>\n",
       "    </tr>\n",
       "    <tr>\n",
       "      <th>332330</th>\n",
       "      <td>790</td>\n",
       "      <td>126</td>\n",
       "      <td>(790, 126)</td>\n",
       "      <td>150</td>\n",
       "    </tr>\n",
       "    <tr>\n",
       "      <th>332331</th>\n",
       "      <td>782</td>\n",
       "      <td>126</td>\n",
       "      <td>(782, 126)</td>\n",
       "      <td>54</td>\n",
       "    </tr>\n",
       "    <tr>\n",
       "      <th>332332</th>\n",
       "      <td>685</td>\n",
       "      <td>643</td>\n",
       "      <td>(685, 643)</td>\n",
       "      <td>139</td>\n",
       "    </tr>\n",
       "  </tbody>\n",
       "</table>\n",
       "<p>332333 rows × 4 columns</p>\n",
       "</div>"
      ],
      "text/plain": [
       "        zero  one           d     w\n",
       "0        168  472  (168, 472)   668\n",
       "1        168  912  (168, 912)  1212\n",
       "2          2  790    (2, 790)   229\n",
       "3          2  322    (2, 322)    10\n",
       "4          2  790    (2, 790)   229\n",
       "...      ...  ...         ...   ...\n",
       "332328   324  367  (324, 367)     1\n",
       "332329   790  126  (790, 126)   150\n",
       "332330   790  126  (790, 126)   150\n",
       "332331   782  126  (782, 126)    54\n",
       "332332   685  643  (685, 643)   139\n",
       "\n",
       "[332333 rows x 4 columns]"
      ]
     },
     "execution_count": 8,
     "metadata": {},
     "output_type": "execute_result"
    }
   ],
   "source": [
    "data = pd.read_csv(r\"data\\email-Eu-core-temporal.txt.gz\")\n",
    "data = data.map(str.split)\n",
    "series_d, series_0,  series_1, t = data.map(lambda x:(x[0], x[1])).values.flatten(),data.map(lambda x:x[0]).values.flatten(), data.map(lambda x:x[1]).values.flatten(), data.map(lambda x:x[2]).values.flatten()\n",
    "\n",
    "series_d = pd.Series(series_d)\n",
    "wt = pd.Series(series_d).value_counts()\n",
    "\n",
    "\n",
    "to_integer = np.vectorize(int)\n",
    "edges = pd.DataFrame({\"zero\": to_integer(series_0), \"one\": to_integer(series_1), \"d\": series_d, \"w\": series_d.map(lambda x: wt[x])})\n",
    "\n",
    "\n",
    "edges"
   ]
  },
  {
   "cell_type": "code",
   "execution_count": 25,
   "metadata": {},
   "outputs": [
    {
     "data": {
      "text/html": [
       "<div>\n",
       "<style scoped>\n",
       "    .dataframe tbody tr th:only-of-type {\n",
       "        vertical-align: middle;\n",
       "    }\n",
       "\n",
       "    .dataframe tbody tr th {\n",
       "        vertical-align: top;\n",
       "    }\n",
       "\n",
       "    .dataframe thead th {\n",
       "        text-align: right;\n",
       "    }\n",
       "</style>\n",
       "<table border=\"1\" class=\"dataframe\">\n",
       "  <thead>\n",
       "    <tr style=\"text-align: right;\">\n",
       "      <th></th>\n",
       "      <th>zero</th>\n",
       "      <th>one</th>\n",
       "    </tr>\n",
       "  </thead>\n",
       "  <tbody>\n",
       "    <tr>\n",
       "      <th>0</th>\n",
       "      <td>2</td>\n",
       "      <td>3</td>\n",
       "    </tr>\n",
       "    <tr>\n",
       "      <th>1</th>\n",
       "      <td>2</td>\n",
       "      <td>4</td>\n",
       "    </tr>\n",
       "    <tr>\n",
       "      <th>2</th>\n",
       "      <td>5</td>\n",
       "      <td>6</td>\n",
       "    </tr>\n",
       "    <tr>\n",
       "      <th>3</th>\n",
       "      <td>5</td>\n",
       "      <td>7</td>\n",
       "    </tr>\n",
       "    <tr>\n",
       "      <th>4</th>\n",
       "      <td>8</td>\n",
       "      <td>9</td>\n",
       "    </tr>\n",
       "    <tr>\n",
       "      <th>...</th>\n",
       "      <td>...</td>\n",
       "      <td>...</td>\n",
       "    </tr>\n",
       "    <tr>\n",
       "      <th>25565</th>\n",
       "      <td>420</td>\n",
       "      <td>143</td>\n",
       "    </tr>\n",
       "    <tr>\n",
       "      <th>25566</th>\n",
       "      <td>174</td>\n",
       "      <td>859</td>\n",
       "    </tr>\n",
       "    <tr>\n",
       "      <th>25567</th>\n",
       "      <td>440</td>\n",
       "      <td>460</td>\n",
       "    </tr>\n",
       "    <tr>\n",
       "      <th>25568</th>\n",
       "      <td>52</td>\n",
       "      <td>786</td>\n",
       "    </tr>\n",
       "    <tr>\n",
       "      <th>25569</th>\n",
       "      <td>506</td>\n",
       "      <td>932</td>\n",
       "    </tr>\n",
       "  </tbody>\n",
       "</table>\n",
       "<p>25570 rows × 2 columns</p>\n",
       "</div>"
      ],
      "text/plain": [
       "       zero  one\n",
       "0         2    3\n",
       "1         2    4\n",
       "2         5    6\n",
       "3         5    7\n",
       "4         8    9\n",
       "...     ...  ...\n",
       "25565   420  143\n",
       "25566   174  859\n",
       "25567   440  460\n",
       "25568    52  786\n",
       "25569   506  932\n",
       "\n",
       "[25570 rows x 2 columns]"
      ]
     },
     "execution_count": 25,
     "metadata": {},
     "output_type": "execute_result"
    }
   ],
   "source": [
    "#handling the edges\n",
    "data = pd.read_csv(r\"data\\email-Eu-core.txt.gz\")\n",
    "data = data.map(str.split)\n",
    "series_0 = data.map(lambda x:x[0]).values.flatten()\n",
    "series_1 = data.map(lambda x:x[1]).values.flatten()\n",
    "\n",
    "to_integer = np.vectorize(int)\n",
    "series_0 = to_integer(series_0)\n",
    "\n",
    "\n",
    "df = pd.DataFrame({\"zero\": to_integer(series_0), \"one\": to_integer(series_1)})\n",
    "df = df.dropna()\n",
    "df"
   ]
  },
  {
   "cell_type": "code",
   "execution_count": 26,
   "metadata": {},
   "outputs": [],
   "source": [
    "# Handling the Labels\n",
    "labels = pd.read_csv(r\"data\\email-Eu-core-department-labels.txt.gz\")\n",
    "\n",
    "labels= labels.map(str.split)\n",
    "series_0 = labels.map(lambda x:x[0]).values.flatten()\n",
    "series_1 = labels.map(lambda x:x[1]).values.flatten()\n",
    "\n",
    "to_integer = np.vectorize(int)\n",
    "series_0 = to_integer(series_0)\n",
    "labels = pd.DataFrame({\"node\": to_integer(series_0), \"label\": to_integer(series_1)})\n",
    "labels = labels.dropna()"
   ]
  },
  {
   "cell_type": "code",
   "execution_count": 27,
   "metadata": {},
   "outputs": [],
   "source": [
    "comms = {label: list(labels[labels[\"label\"] == label][\"node\"]) for label in labels[\"label\"].unique()}\n",
    "labels[\"community\"] = labels[\"label\"].map(comms)"
   ]
  },
  {
   "cell_type": "code",
   "execution_count": 28,
   "metadata": {},
   "outputs": [],
   "source": [
    "A = create_adjacency(df)\n",
    "eucore = nx.from_numpy_array(A)\n",
    "nx.set_node_attributes(eucore, labels[\"community\"], \"community\")\n",
    "nx.set_node_attributes(eucore, labels[\"label\"], \"label\")\n",
    "eucore.remove_node(1004)\n"
   ]
  },
  {
   "cell_type": "code",
   "execution_count": 29,
   "metadata": {},
   "outputs": [
    {
     "name": "stdout",
     "output_type": "stream",
     "text": [
      "mixing parameter eucore: 0.06838781421256855\n"
     ]
    }
   ],
   "source": [
    "mu = nx.attribute_assortativity_coefficient(eucore, \"label\")\n",
    "\n",
    "print(f\"mixing parameter eucore: {mu}\")"
   ]
  },
  {
   "cell_type": "markdown",
   "metadata": {},
   "source": [
    "# Importing Data"
   ]
  },
  {
   "cell_type": "markdown",
   "metadata": {},
   "source": [
    "## Generating Synthetic Networks"
   ]
  },
  {
   "cell_type": "code",
   "execution_count": 30,
   "metadata": {},
   "outputs": [],
   "source": [
    "def net_comm_stats(G: nx.Graph, title:str, node_size=300, show_graph=False)->dict:\n",
    "    \"\"\"Creates a dictionary of summary statistics for a list of communties\n",
    "\n",
    "    Args:\n",
    "        G nx.Graph: Graph that originated the communities\n",
    "        title str: Title of the graph\n",
    "    Returns:\n",
    "        dict: summary statistics\n",
    "    \"\"\"    \n",
    "    comms = {frozenset(G.nodes[v][\"community\"]) for v in G}\n",
    "    comms = [list(x) for x in comms]\n",
    "\n",
    "    # ------------------------- create summary statistics ------------------------ #\n",
    "    stats = {}\n",
    "    stats[\"n_of_nodes\"] = len(G.nodes)\n",
    "    stats[\"n_edges\"] = len(G.edges)\n",
    "\n",
    "    stats[\"a_comm_size\"] = np.mean([len(c) for c in comms])\n",
    "    stats[\"var_comm_size\"] = np.var([len(c) for c in comms])\n",
    "\n",
    "    stats[\"a_deg\"] = np.mean([x for x in dict(nx.degree(G)).values()])\n",
    "    stats[\"min_deg\"] = np.min([x for x in dict(nx.degree(G)).values()])\n",
    "    stats[\"max_deg\"] = np.max([x for x in dict(nx.degree(G)).values()])\n",
    "    \n",
    "    stats[\"a_btw_centrality\"] = np.mean([x for x in nx.betweenness_centrality(G).values()])\n",
    "\n",
    "    if show_graph:\n",
    "        color_dict = {}\n",
    "\n",
    "        a = [frozenset(G.nodes[v]['community']) for v in G]    \n",
    "\n",
    "        for node in a:\n",
    "            if node not in color_dict:\n",
    "                color_dict[node] = 0\n",
    "\n",
    "        for i,key in enumerate(color_dict.keys()):\n",
    "            color_dict[key] = plt.colormaps[\"tab20\"](i)\n",
    "\n",
    "        pos = nx.kamada_kawai_layout(G)\n",
    "        node_colors = [color_dict[frozenset(G.nodes[node]['community'])] for node in G.nodes]\n",
    "        nx.draw(G, node_color=node_colors, node_size=node_size, font_size=16,  arrows=True, pos=pos, with_labels=True)\n",
    "        plt.title(f\"Graph of the {title} network, with underlying communities\", fontsize=16)\n",
    "\n",
    "    return stats\n"
   ]
  },
  {
   "cell_type": "code",
   "execution_count": 31,
   "metadata": {},
   "outputs": [],
   "source": [
    "def gen_net(n:int, tau1:float, tau2:float, mu:float, name, kw ={}):\n",
    "    \"\"\"Generates network with params, saves file to pickle\n",
    "\n",
    "    Args:\n",
    "        n (int): size of net\n",
    "        tau1 (float): exponent param dist\n",
    "        tau2 (float): exponent param dist 2\n",
    "        mu (float): mixing param\n",
    "        name (_type_): name of the save file\n",
    "        kw (dict, optional): kw args. Defaults to {}.\n",
    "\n",
    "    Returns:\n",
    "        None\n",
    "    \"\"\"\n",
    "    n = n\n",
    "    tau1 = tau1\n",
    "    tau2 = tau2\n",
    "    mu = mu\n",
    "    cond = False\n",
    "    counter = 1\n",
    "    \n",
    "    while not cond:\n",
    "        try:\n",
    "            print(f\"{counter}\")\n",
    "            G = LFR_benchmark_graph(\n",
    "                n, tau1, tau2, mu, **kw)\n",
    "            cond = True\n",
    "            \n",
    "        except:\n",
    "            counter +=1\n",
    "\n",
    "    a = [G.nodes[v][\"community\"] for v in G]\n",
    "    I = flow_id_from_graph(G)\n",
    "    G = nx.from_numpy_array(I)\n",
    "    nx.set_node_attributes(G, dict(enumerate(a)), \"community\")\n",
    "    pickle.dump(G, open(f'{name}.pickle', 'wb'))\n",
    "\n"
   ]
  },
  {
   "cell_type": "code",
   "execution_count": 38,
   "metadata": {},
   "outputs": [
    {
     "name": "stdout",
     "output_type": "stream",
     "text": [
      "1\n",
      "2\n",
      "3\n"
     ]
    }
   ],
   "source": [
    "n = 2500\n",
    "tau1 = 2.5\n",
    "tau2 = 1.5\n",
    "mu = 0.225\n",
    "kw = {\"min_community\":10,\n",
    "      \"average_degree\":30,\n",
    "      \"max_iters\":1000}\n",
    "name = \"large250\"\n",
    "\n",
    "cond = False\n",
    "counter = 1\n",
    "\n",
    "while not cond:\n",
    "      try:\n",
    "            print(f\"{counter}\")\n",
    "            G = LFR_benchmark_graph(\n",
    "                  n, tau1, tau2, mu, **kw)\n",
    "            cond = True\n",
    "      except:\n",
    "            counter +=1\n",
    "\n",
    "pickle.dump(G, open(f'{name}.pickle', 'wb'))"
   ]
  },
  {
   "cell_type": "code",
   "execution_count": 19,
   "metadata": {},
   "outputs": [],
   "source": [
    "name = 'large250.pickle'\n",
    "I =np.loadtxt(\"large.txt\")\n",
    "G = pickle.load(open('large250.pickle', 'rb'))"
   ]
  },
  {
   "cell_type": "code",
   "execution_count": 20,
   "metadata": {},
   "outputs": [],
   "source": [
    "a = [G.nodes[v][\"community\"] for v in G]\n",
    "G = nx.from_numpy_array(I)\n",
    "nx.set_node_attributes(G, dict(enumerate(a)), \"community\")\n",
    "pickle.dump(G, open(f'{name}', 'wb'))"
   ]
  },
  {
   "cell_type": "code",
   "execution_count": 21,
   "metadata": {},
   "outputs": [
    {
     "data": {
      "text/plain": [
       "17321"
      ]
     },
     "execution_count": 21,
     "metadata": {},
     "output_type": "execute_result"
    }
   ],
   "source": [
    "len(G.edges)"
   ]
  },
  {
   "cell_type": "markdown",
   "metadata": {},
   "source": [
    "### Small50"
   ]
  },
  {
   "cell_type": "code",
   "execution_count": 83,
   "metadata": {},
   "outputs": [
    {
     "name": "stdout",
     "output_type": "stream",
     "text": [
      "1\n"
     ]
    },
    {
     "name": "stderr",
     "output_type": "stream",
     "text": [
      "100%|██████████| 50/50 [00:00<00:00, 55.36it/s]\n"
     ]
    }
   ],
   "source": [
    "\n",
    "n = 50\n",
    "tau1 = 3\n",
    "tau2 = 1.5\n",
    "mu = 0.225\n",
    "kw = {\"min_community\":6,\n",
    "      \"average_degree\":4,\n",
    "      \"max_iters\":1000}\n",
    "name = \"small50\"\n",
    "\n",
    "G = gen_net(n, tau1, tau2, mu, name, kw)"
   ]
  },
  {
   "cell_type": "code",
   "execution_count": 84,
   "metadata": {},
   "outputs": [
    {
     "data": {
      "text/plain": [
       "{'n_of_nodes': 50,\n",
       " 'n_edges': 160,\n",
       " 'a_comm_size': 7.142857142857143,\n",
       " 'var_comm_size': 0.9795918367346939,\n",
       " 'a_deg': 6.4,\n",
       " 'min_deg': 0,\n",
       " 'max_deg': 15,\n",
       " 'a_btw_centrality': 0.03562925170068028}"
      ]
     },
     "execution_count": 84,
     "metadata": {},
     "output_type": "execute_result"
    },
    {
     "data": {
      "image/png": "[encoded data removed]",
      "text/plain": [
       "<Figure size 640x480 with 1 Axes>"
      ]
     },
     "metadata": {},
     "output_type": "display_data"
    }
   ],
   "source": [
    "G = pickle.load(open('small50.pickle', 'rb'))\n",
    "net_comm_stats(G, \"small50\", show_graph=True)"
   ]
  },
  {
   "cell_type": "markdown",
   "metadata": {},
   "source": [
    "## Medium 250"
   ]
  },
  {
   "cell_type": "code",
   "execution_count": 85,
   "metadata": {},
   "outputs": [
    {
     "name": "stdout",
     "output_type": "stream",
     "text": [
      "1\n"
     ]
    },
    {
     "name": "stderr",
     "output_type": "stream",
     "text": [
      "  0%|          | 0/250 [00:00<?, ?it/s]"
     ]
    },
    {
     "name": "stderr",
     "output_type": "stream",
     "text": [
      "100%|██████████| 250/250 [02:51<00:00,  1.46it/s]\n"
     ]
    }
   ],
   "source": [
    "n = 250\n",
    "tau1 = 2.5\n",
    "tau2 = 1.5\n",
    "mu = 0.225\n",
    "kw = {\"min_community\":10,\n",
    "      \"average_degree\":6,\n",
    "      \"max_iters\":1000}\n",
    "name = \"medium250\"\n",
    "\n",
    "G = gen_net(n, tau1, tau2, mu, name, kw)"
   ]
  },
  {
   "cell_type": "code",
   "execution_count": 86,
   "metadata": {},
   "outputs": [
    {
     "data": {
      "text/plain": [
       "{'n_of_nodes': 250,\n",
       " 'n_edges': 3937,\n",
       " 'a_comm_size': 17.857142857142858,\n",
       " 'var_comm_size': 34.55102040816327,\n",
       " 'a_deg': 31.496,\n",
       " 'min_deg': 0,\n",
       " 'max_deg': 117,\n",
       " 'a_btw_centrality': 0.004991061018266615}"
      ]
     },
     "execution_count": 86,
     "metadata": {},
     "output_type": "execute_result"
    }
   ],
   "source": [
    "G = pickle.load(open('medium250.pickle', 'rb'))\n",
    "net_comm_stats(G, \"medium250\", 50)"
   ]
  },
  {
   "cell_type": "markdown",
   "metadata": {},
   "source": [
    "## Large 2500"
   ]
  },
  {
   "cell_type": "code",
   "execution_count": 10,
   "metadata": {},
   "outputs": [],
   "source": [
    "from networkx.generators.community import LFR_benchmark_graph\n",
    "n = 1000\n",
    "tau1 = 2.5\n",
    "tau2 = 1.5\n",
    "mu = 0.225\n",
    "G = LFR_benchmark_graph(\n",
    "    n, tau1, tau2, mu, average_degree=30, min_community=20\n",
    ")\n",
    "x = nx.to_numpy_array(G)\n",
    "np.savetxt(\"large_no_flow.txt\",x)\n"
   ]
  },
  {
   "cell_type": "code",
   "execution_count": 8,
   "metadata": {},
   "outputs": [],
   "source": [
    "I = np.loadtxt(\"large_no_flow.txt\")"
   ]
  },
  {
   "cell_type": "code",
   "execution_count": 13,
   "metadata": {},
   "outputs": [],
   "source": [
    "a = [G.nodes[v][\"community\"] for v in G]\n",
    "\n",
    "G = nx.from_numpy_array(I)\n",
    "\n",
    "nx.set_node_attributes(G, dict(enumerate(a)), \"community\")\n",
    "pickle.dump(G, open('large250.pickle', 'wb'))\n"
   ]
  },
  {
   "cell_type": "markdown",
   "metadata": {},
   "source": [
    "## Generating Transfer Learning Training Sets"
   ]
  },
  {
   "cell_type": "code",
   "execution_count": 89,
   "metadata": {},
   "outputs": [
    {
     "name": "stdout",
     "output_type": "stream",
     "text": [
      "1\n",
      "2\n",
      "3\n",
      "4\n"
     ]
    },
    {
     "name": "stderr",
     "output_type": "stream",
     "text": [
      "100%|██████████| 250/250 [05:18<00:00,  1.27s/it]\n"
     ]
    }
   ],
   "source": [
    "n = 250\n",
    "tau1 = 2.5\n",
    "tau2 = 1.5\n",
    "mu = 0.06\n",
    "\n",
    "kw = {\"average_degree\":33/4,\n",
    "      \"min_community\":10,\n",
    "      \"max_iters\":1000}\n",
    "name = \"transfer250\"\n",
    "G = gen_net(n, tau1, tau2, mu, name, kw)"
   ]
  },
  {
   "cell_type": "markdown",
   "metadata": {},
   "source": [
    "## Generating mu sets"
   ]
  },
  {
   "cell_type": "code",
   "execution_count": 15,
   "metadata": {},
   "outputs": [
    {
     "name": "stdout",
     "output_type": "stream",
     "text": [
      "1\n",
      "2\n",
      "3\n",
      "4\n",
      "5\n",
      "6\n",
      "7\n"
     ]
    },
    {
     "name": "stderr",
     "output_type": "stream",
     "text": [
      "100%|██████████| 250/250 [03:02<00:00,  1.37it/s]\n"
     ]
    },
    {
     "name": "stdout",
     "output_type": "stream",
     "text": [
      "1\n",
      "2\n"
     ]
    },
    {
     "name": "stderr",
     "output_type": "stream",
     "text": [
      "100%|██████████| 250/250 [03:39<00:00,  1.14it/s]\n"
     ]
    },
    {
     "name": "stdout",
     "output_type": "stream",
     "text": [
      "1\n",
      "2\n"
     ]
    },
    {
     "name": "stderr",
     "output_type": "stream",
     "text": [
      "100%|██████████| 250/250 [03:14<00:00,  1.29it/s]\n"
     ]
    },
    {
     "name": "stdout",
     "output_type": "stream",
     "text": [
      "1\n"
     ]
    },
    {
     "name": "stderr",
     "output_type": "stream",
     "text": [
      "100%|██████████| 250/250 [08:29<00:00,  2.04s/it] \n"
     ]
    },
    {
     "name": "stdout",
     "output_type": "stream",
     "text": [
      "1\n",
      "2\n"
     ]
    },
    {
     "name": "stderr",
     "output_type": "stream",
     "text": [
      "100%|██████████| 250/250 [33:40<00:00,  8.08s/it]   \n"
     ]
    },
    {
     "name": "stdout",
     "output_type": "stream",
     "text": [
      "1\n"
     ]
    },
    {
     "name": "stderr",
     "output_type": "stream",
     "text": [
      "100%|██████████| 250/250 [04:02<00:00,  1.03it/s]\n"
     ]
    },
    {
     "name": "stdout",
     "output_type": "stream",
     "text": [
      "1\n"
     ]
    },
    {
     "name": "stderr",
     "output_type": "stream",
     "text": [
      "100%|██████████| 250/250 [04:14<00:00,  1.02s/it]\n"
     ]
    },
    {
     "name": "stdout",
     "output_type": "stream",
     "text": [
      "1\n"
     ]
    },
    {
     "name": "stderr",
     "output_type": "stream",
     "text": [
      "100%|██████████| 250/250 [04:29<00:00,  1.08s/it]\n"
     ]
    }
   ],
   "source": [
    "n = 250\n",
    "tau1 = 2.5\n",
    "tau2 = 1.5\n",
    "kw = {\"min_community\":10,\n",
    "      \"average_degree\":6,\n",
    "      \"max_iters\":1000}\n",
    "\n",
    "for mu in np.arange(0.1,0.9, 0.1):\n",
    "    name = f\"medium250_{mu}\"\n",
    "    G = gen_net(n, tau1, tau2, mu, name, kw)"
   ]
  },
  {
   "cell_type": "code",
   "execution_count": 69,
   "metadata": {},
   "outputs": [
    {
     "data": {
      "text/plain": [
       "15"
      ]
     },
     "execution_count": 69,
     "metadata": {},
     "output_type": "execute_result"
    }
   ],
   "source": [
    "G_small = pickle.load(open('small50.pickle', 'rb'))\n",
    "\n",
    "G_small.nodes[0][\"community\"]\n",
    "communities = {frozenset(G_small.nodes[node][\"community\"]) for node in G_small.nodes}\n",
    "\n",
    "np.average([len(com) for com in communities])\n",
    "np.var([len(com) for com in communities])\n",
    "\n",
    "\n",
    "np.max([y for x,y in G_small.degree])"
   ]
  },
  {
   "cell_type": "code",
   "execution_count": 43,
   "metadata": {},
   "outputs": [],
   "source": [
    "G_medium = pickle.load(open('medium250.pickle', 'rb'))"
   ]
  },
  {
   "cell_type": "code",
   "execution_count": 68,
   "metadata": {},
   "outputs": [
    {
     "data": {
      "text/plain": [
       "117"
      ]
     },
     "execution_count": 68,
     "metadata": {},
     "output_type": "execute_result"
    }
   ],
   "source": [
    "communities = {frozenset(G_medium.nodes[node][\"community\"]) for node in G_medium.nodes}\n",
    "\n",
    "np.average([len(com) for com in communities])\n",
    "np.var([len(com) for com in communities])   \n",
    "np.max([y for x,y in G_medium.degree])"
   ]
  },
  {
   "cell_type": "code",
   "execution_count": 46,
   "metadata": {},
   "outputs": [],
   "source": [
    "G_large = pickle.load(open('large250.pickle', 'rb'))\n"
   ]
  },
  {
   "cell_type": "code",
   "execution_count": 67,
   "metadata": {},
   "outputs": [
    {
     "data": {
      "text/plain": [
       "472"
      ]
     },
     "execution_count": 67,
     "metadata": {},
     "output_type": "execute_result"
    }
   ],
   "source": [
    "communities = {frozenset(G_large.nodes[node][\"community\"]) for node in G_large.nodes}\n",
    "\n",
    "np.average([len(com) for com in communities])\n",
    "np.var([len(com) for com in communities])\n",
    "np.max([y for x,y in G_large.degree])"
   ]
  },
  {
   "cell_type": "code",
   "execution_count": null,
   "metadata": {},
   "outputs": [],
   "source": []
  }
 ],
 "metadata": {
  "kernelspec": {
   "display_name": ".venv",
   "language": "python",
   "name": "python3"
  },
  "language_info": {
   "codemirror_mode": {
    "name": "ipython",
    "version": 3
   },
   "file_extension": ".py",
   "mimetype": "text/x-python",
   "name": "python",
   "nbconvert_exporter": "python",
   "pygments_lexer": "ipython3",
   "version": "3.12.2"
  }
 },
 "nbformat": 4,
 "nbformat_minor": 2
}

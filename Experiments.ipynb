{
 "cells": [
  {
   "cell_type": "code",
   "execution_count": 300,
   "metadata": {},
   "outputs": [],
   "source": [
    "import networkx as nx\n",
    "import numpy as np\n",
    "import matplotlib.pyplot as plt\n",
    "import seaborn as sns\n",
    "sns.set_theme()\n",
    "import pickle\n",
    "import sklearn as sk\n",
    "from sklearn.metrics import accuracy_score, balanced_accuracy_score\n",
    "from munkres import Munkres\n",
    "import pandas as pd\n",
    "from ktools import *\n",
    "import igraph as ig\n",
    "import leidenalg\n",
    "import tqdm\n",
    "from collections import defaultdict"
   ]
  },
  {
   "cell_type": "code",
   "execution_count": 301,
   "metadata": {},
   "outputs": [],
   "source": [
    "res = {}\n"
   ]
  },
  {
   "cell_type": "code",
   "execution_count": 302,
   "metadata": {},
   "outputs": [],
   "source": [
    "label_colors = {\"louvain\":sns.color_palette()[0],\n",
    "                \"leiden\": sns.color_palette()[1],\n",
    "                \"gn\":sns.color_palette()[2]}"
   ]
  },
  {
   "cell_type": "markdown",
   "metadata": {},
   "source": [
    "# Importing Data"
   ]
  },
  {
   "cell_type": "markdown",
   "metadata": {},
   "source": [
    "Data Set"
   ]
  },
  {
   "cell_type": "code",
   "execution_count": 303,
   "metadata": {},
   "outputs": [],
   "source": [
    "def create_adjacency(df:pd.DataFrame)->np.array:\n",
    "    m = max(max(df[\"zero\"].value_counts().index), max(df[\"one\"].value_counts().index)) + 1\n",
    "    A = np.zeros((m,m))\n",
    "    a,b = df[\"zero\"].to_numpy(dtype=int), df[\"one\"].to_numpy(dtype=int)\n",
    "\n",
    "    A[a,b] =1\n",
    "            \n",
    "    return A"
   ]
  },
  {
   "cell_type": "code",
   "execution_count": 304,
   "metadata": {},
   "outputs": [
    {
     "data": {
      "text/html": [
       "<div>\n",
       "<style scoped>\n",
       "    .dataframe tbody tr th:only-of-type {\n",
       "        vertical-align: middle;\n",
       "    }\n",
       "\n",
       "    .dataframe tbody tr th {\n",
       "        vertical-align: top;\n",
       "    }\n",
       "\n",
       "    .dataframe thead th {\n",
       "        text-align: right;\n",
       "    }\n",
       "</style>\n",
       "<table border=\"1\" class=\"dataframe\">\n",
       "  <thead>\n",
       "    <tr style=\"text-align: right;\">\n",
       "      <th></th>\n",
       "      <th>zero</th>\n",
       "      <th>one</th>\n",
       "      <th>d</th>\n",
       "      <th>w</th>\n",
       "    </tr>\n",
       "  </thead>\n",
       "  <tbody>\n",
       "    <tr>\n",
       "      <th>0</th>\n",
       "      <td>168</td>\n",
       "      <td>472</td>\n",
       "      <td>(168, 472)</td>\n",
       "      <td>668</td>\n",
       "    </tr>\n",
       "    <tr>\n",
       "      <th>1</th>\n",
       "      <td>168</td>\n",
       "      <td>912</td>\n",
       "      <td>(168, 912)</td>\n",
       "      <td>1212</td>\n",
       "    </tr>\n",
       "    <tr>\n",
       "      <th>2</th>\n",
       "      <td>2</td>\n",
       "      <td>790</td>\n",
       "      <td>(2, 790)</td>\n",
       "      <td>229</td>\n",
       "    </tr>\n",
       "    <tr>\n",
       "      <th>3</th>\n",
       "      <td>2</td>\n",
       "      <td>322</td>\n",
       "      <td>(2, 322)</td>\n",
       "      <td>10</td>\n",
       "    </tr>\n",
       "    <tr>\n",
       "      <th>4</th>\n",
       "      <td>2</td>\n",
       "      <td>790</td>\n",
       "      <td>(2, 790)</td>\n",
       "      <td>229</td>\n",
       "    </tr>\n",
       "    <tr>\n",
       "      <th>...</th>\n",
       "      <td>...</td>\n",
       "      <td>...</td>\n",
       "      <td>...</td>\n",
       "      <td>...</td>\n",
       "    </tr>\n",
       "    <tr>\n",
       "      <th>332328</th>\n",
       "      <td>324</td>\n",
       "      <td>367</td>\n",
       "      <td>(324, 367)</td>\n",
       "      <td>1</td>\n",
       "    </tr>\n",
       "    <tr>\n",
       "      <th>332329</th>\n",
       "      <td>790</td>\n",
       "      <td>126</td>\n",
       "      <td>(790, 126)</td>\n",
       "      <td>150</td>\n",
       "    </tr>\n",
       "    <tr>\n",
       "      <th>332330</th>\n",
       "      <td>790</td>\n",
       "      <td>126</td>\n",
       "      <td>(790, 126)</td>\n",
       "      <td>150</td>\n",
       "    </tr>\n",
       "    <tr>\n",
       "      <th>332331</th>\n",
       "      <td>782</td>\n",
       "      <td>126</td>\n",
       "      <td>(782, 126)</td>\n",
       "      <td>54</td>\n",
       "    </tr>\n",
       "    <tr>\n",
       "      <th>332332</th>\n",
       "      <td>685</td>\n",
       "      <td>643</td>\n",
       "      <td>(685, 643)</td>\n",
       "      <td>139</td>\n",
       "    </tr>\n",
       "  </tbody>\n",
       "</table>\n",
       "<p>332333 rows × 4 columns</p>\n",
       "</div>"
      ],
      "text/plain": [
       "        zero  one           d     w\n",
       "0        168  472  (168, 472)   668\n",
       "1        168  912  (168, 912)  1212\n",
       "2          2  790    (2, 790)   229\n",
       "3          2  322    (2, 322)    10\n",
       "4          2  790    (2, 790)   229\n",
       "...      ...  ...         ...   ...\n",
       "332328   324  367  (324, 367)     1\n",
       "332329   790  126  (790, 126)   150\n",
       "332330   790  126  (790, 126)   150\n",
       "332331   782  126  (782, 126)    54\n",
       "332332   685  643  (685, 643)   139\n",
       "\n",
       "[332333 rows x 4 columns]"
      ]
     },
     "execution_count": 304,
     "metadata": {},
     "output_type": "execute_result"
    }
   ],
   "source": [
    "data = pd.read_csv(r\"data\\email-Eu-core-temporal.txt.gz\")\n",
    "data = data.map(str.split)\n",
    "series_d, series_0,  series_1, t = data.map(lambda x:(x[0], x[1])).values.flatten(),data.map(lambda x:x[0]).values.flatten(), data.map(lambda x:x[1]).values.flatten(), data.map(lambda x:x[2]).values.flatten()\n",
    "\n",
    "series_d = pd.Series(series_d)\n",
    "wt = pd.Series(series_d).value_counts()\n",
    "\n",
    "\n",
    "to_integer = np.vectorize(int)\n",
    "edges = pd.DataFrame({\"zero\": to_integer(series_0), \"one\": to_integer(series_1), \"d\": series_d, \"w\": series_d.map(lambda x: wt[x])})\n",
    "\n",
    "\n",
    "edges"
   ]
  },
  {
   "cell_type": "code",
   "execution_count": 305,
   "metadata": {},
   "outputs": [
    {
     "data": {
      "text/html": [
       "<div>\n",
       "<style scoped>\n",
       "    .dataframe tbody tr th:only-of-type {\n",
       "        vertical-align: middle;\n",
       "    }\n",
       "\n",
       "    .dataframe tbody tr th {\n",
       "        vertical-align: top;\n",
       "    }\n",
       "\n",
       "    .dataframe thead th {\n",
       "        text-align: right;\n",
       "    }\n",
       "</style>\n",
       "<table border=\"1\" class=\"dataframe\">\n",
       "  <thead>\n",
       "    <tr style=\"text-align: right;\">\n",
       "      <th></th>\n",
       "      <th>zero</th>\n",
       "      <th>one</th>\n",
       "      <th>d</th>\n",
       "      <th>w</th>\n",
       "    </tr>\n",
       "  </thead>\n",
       "  <tbody>\n",
       "    <tr>\n",
       "      <th>0</th>\n",
       "      <td>168</td>\n",
       "      <td>472</td>\n",
       "      <td>(168, 472)</td>\n",
       "      <td>668</td>\n",
       "    </tr>\n",
       "    <tr>\n",
       "      <th>1</th>\n",
       "      <td>168</td>\n",
       "      <td>912</td>\n",
       "      <td>(168, 912)</td>\n",
       "      <td>1212</td>\n",
       "    </tr>\n",
       "    <tr>\n",
       "      <th>2</th>\n",
       "      <td>2</td>\n",
       "      <td>790</td>\n",
       "      <td>(2, 790)</td>\n",
       "      <td>229</td>\n",
       "    </tr>\n",
       "    <tr>\n",
       "      <th>3</th>\n",
       "      <td>2</td>\n",
       "      <td>322</td>\n",
       "      <td>(2, 322)</td>\n",
       "      <td>10</td>\n",
       "    </tr>\n",
       "    <tr>\n",
       "      <th>4</th>\n",
       "      <td>2</td>\n",
       "      <td>790</td>\n",
       "      <td>(2, 790)</td>\n",
       "      <td>229</td>\n",
       "    </tr>\n",
       "    <tr>\n",
       "      <th>...</th>\n",
       "      <td>...</td>\n",
       "      <td>...</td>\n",
       "      <td>...</td>\n",
       "      <td>...</td>\n",
       "    </tr>\n",
       "    <tr>\n",
       "      <th>332328</th>\n",
       "      <td>324</td>\n",
       "      <td>367</td>\n",
       "      <td>(324, 367)</td>\n",
       "      <td>1</td>\n",
       "    </tr>\n",
       "    <tr>\n",
       "      <th>332329</th>\n",
       "      <td>790</td>\n",
       "      <td>126</td>\n",
       "      <td>(790, 126)</td>\n",
       "      <td>150</td>\n",
       "    </tr>\n",
       "    <tr>\n",
       "      <th>332330</th>\n",
       "      <td>790</td>\n",
       "      <td>126</td>\n",
       "      <td>(790, 126)</td>\n",
       "      <td>150</td>\n",
       "    </tr>\n",
       "    <tr>\n",
       "      <th>332331</th>\n",
       "      <td>782</td>\n",
       "      <td>126</td>\n",
       "      <td>(782, 126)</td>\n",
       "      <td>54</td>\n",
       "    </tr>\n",
       "    <tr>\n",
       "      <th>332332</th>\n",
       "      <td>685</td>\n",
       "      <td>643</td>\n",
       "      <td>(685, 643)</td>\n",
       "      <td>139</td>\n",
       "    </tr>\n",
       "  </tbody>\n",
       "</table>\n",
       "<p>332333 rows × 4 columns</p>\n",
       "</div>"
      ],
      "text/plain": [
       "        zero  one           d     w\n",
       "0        168  472  (168, 472)   668\n",
       "1        168  912  (168, 912)  1212\n",
       "2          2  790    (2, 790)   229\n",
       "3          2  322    (2, 322)    10\n",
       "4          2  790    (2, 790)   229\n",
       "...      ...  ...         ...   ...\n",
       "332328   324  367  (324, 367)     1\n",
       "332329   790  126  (790, 126)   150\n",
       "332330   790  126  (790, 126)   150\n",
       "332331   782  126  (782, 126)    54\n",
       "332332   685  643  (685, 643)   139\n",
       "\n",
       "[332333 rows x 4 columns]"
      ]
     },
     "execution_count": 305,
     "metadata": {},
     "output_type": "execute_result"
    }
   ],
   "source": [
    "edges"
   ]
  },
  {
   "cell_type": "code",
   "execution_count": 306,
   "metadata": {},
   "outputs": [
    {
     "data": {
      "text/html": [
       "<div>\n",
       "<style scoped>\n",
       "    .dataframe tbody tr th:only-of-type {\n",
       "        vertical-align: middle;\n",
       "    }\n",
       "\n",
       "    .dataframe tbody tr th {\n",
       "        vertical-align: top;\n",
       "    }\n",
       "\n",
       "    .dataframe thead th {\n",
       "        text-align: right;\n",
       "    }\n",
       "</style>\n",
       "<table border=\"1\" class=\"dataframe\">\n",
       "  <thead>\n",
       "    <tr style=\"text-align: right;\">\n",
       "      <th></th>\n",
       "      <th>zero</th>\n",
       "      <th>one</th>\n",
       "    </tr>\n",
       "  </thead>\n",
       "  <tbody>\n",
       "    <tr>\n",
       "      <th>0</th>\n",
       "      <td>2</td>\n",
       "      <td>3</td>\n",
       "    </tr>\n",
       "    <tr>\n",
       "      <th>1</th>\n",
       "      <td>2</td>\n",
       "      <td>4</td>\n",
       "    </tr>\n",
       "    <tr>\n",
       "      <th>2</th>\n",
       "      <td>5</td>\n",
       "      <td>6</td>\n",
       "    </tr>\n",
       "    <tr>\n",
       "      <th>3</th>\n",
       "      <td>5</td>\n",
       "      <td>7</td>\n",
       "    </tr>\n",
       "    <tr>\n",
       "      <th>4</th>\n",
       "      <td>8</td>\n",
       "      <td>9</td>\n",
       "    </tr>\n",
       "    <tr>\n",
       "      <th>...</th>\n",
       "      <td>...</td>\n",
       "      <td>...</td>\n",
       "    </tr>\n",
       "    <tr>\n",
       "      <th>25565</th>\n",
       "      <td>420</td>\n",
       "      <td>143</td>\n",
       "    </tr>\n",
       "    <tr>\n",
       "      <th>25566</th>\n",
       "      <td>174</td>\n",
       "      <td>859</td>\n",
       "    </tr>\n",
       "    <tr>\n",
       "      <th>25567</th>\n",
       "      <td>440</td>\n",
       "      <td>460</td>\n",
       "    </tr>\n",
       "    <tr>\n",
       "      <th>25568</th>\n",
       "      <td>52</td>\n",
       "      <td>786</td>\n",
       "    </tr>\n",
       "    <tr>\n",
       "      <th>25569</th>\n",
       "      <td>506</td>\n",
       "      <td>932</td>\n",
       "    </tr>\n",
       "  </tbody>\n",
       "</table>\n",
       "<p>25570 rows × 2 columns</p>\n",
       "</div>"
      ],
      "text/plain": [
       "       zero  one\n",
       "0         2    3\n",
       "1         2    4\n",
       "2         5    6\n",
       "3         5    7\n",
       "4         8    9\n",
       "...     ...  ...\n",
       "25565   420  143\n",
       "25566   174  859\n",
       "25567   440  460\n",
       "25568    52  786\n",
       "25569   506  932\n",
       "\n",
       "[25570 rows x 2 columns]"
      ]
     },
     "execution_count": 306,
     "metadata": {},
     "output_type": "execute_result"
    }
   ],
   "source": [
    "#handling the edges\n",
    "data = pd.read_csv(r\"data\\email-Eu-core.txt.gz\")\n",
    "data = data.map(str.split)\n",
    "series_0 = data.map(lambda x:x[0]).values.flatten()\n",
    "series_1 = data.map(lambda x:x[1]).values.flatten()\n",
    "\n",
    "to_integer = np.vectorize(int)\n",
    "series_0 = to_integer(series_0)\n",
    "\n",
    "\n",
    "df = pd.DataFrame({\"zero\": to_integer(series_0), \"one\": to_integer(series_1)})\n",
    "df = df.dropna()\n",
    "df"
   ]
  },
  {
   "cell_type": "code",
   "execution_count": 307,
   "metadata": {},
   "outputs": [],
   "source": [
    "# Handling the Labels\n",
    "labels = pd.read_csv(r\"data\\email-Eu-core-department-labels.txt.gz\")\n",
    "\n",
    "labels= labels.map(str.split)\n",
    "series_0 = labels.map(lambda x:x[0]).values.flatten()\n",
    "series_1 = labels.map(lambda x:x[1]).values.flatten()\n",
    "\n",
    "to_integer = np.vectorize(int)\n",
    "series_0 = to_integer(series_0)\n",
    "labels = pd.DataFrame({\"node\": to_integer(series_0), \"label\": to_integer(series_1)})\n",
    "labels = labels.dropna()"
   ]
  },
  {
   "cell_type": "code",
   "execution_count": 308,
   "metadata": {},
   "outputs": [],
   "source": [
    "comms = {label: list(labels[labels[\"label\"] == label][\"node\"]) for label in labels[\"label\"].unique()}\n",
    "labels[\"community\"] = labels[\"label\"].map(comms)"
   ]
  },
  {
   "cell_type": "code",
   "execution_count": 309,
   "metadata": {},
   "outputs": [],
   "source": [
    "A = create_adjacency(df)\n",
    "eucore = nx.from_numpy_array(A)\n",
    "nx.set_node_attributes(eucore, labels[\"community\"], \"community\")\n",
    "eucore.remove_node(1004)"
   ]
  },
  {
   "cell_type": "code",
   "execution_count": null,
   "metadata": {},
   "outputs": [],
   "source": []
  },
  {
   "cell_type": "markdown",
   "metadata": {},
   "source": [
    "Random Networks\n"
   ]
  },
  {
   "cell_type": "code",
   "execution_count": 310,
   "metadata": {},
   "outputs": [],
   "source": [
    "def import_random_state():\n",
    "    random_state_integers = np.loadtxt(\"random_state_integers.txt\")\n",
    "    enc=\"MT19937\"\n",
    "    params = []\n",
    "    with open(r'random_state_params.txt', 'r') as fp:\n",
    "        for line in fp:\n",
    "            # remove linebreak from a current name\n",
    "            # linebreak is the last character of each line\n",
    "            x = line[:-1]\n",
    "\n",
    "            # add current item to the list\n",
    "            params.append(x)\n",
    "\n",
    "    params[0] = int(params[0])\n",
    "    params[1] = int(params[1])\n",
    "    params[2] = float(params[2])\n",
    "\n",
    "    params.insert(0,enc)\n",
    "    params.insert(1, random_state_integers)\n",
    "    \n",
    "    return tuple(params)"
   ]
  },
  {
   "cell_type": "code",
   "execution_count": 311,
   "metadata": {},
   "outputs": [],
   "source": [
    "np.random.set_state(import_random_state())"
   ]
  },
  {
   "cell_type": "code",
   "execution_count": 312,
   "metadata": {},
   "outputs": [],
   "source": [
    "G_small = pickle.load(open('small50.pickle', 'rb'))"
   ]
  },
  {
   "cell_type": "code",
   "execution_count": 313,
   "metadata": {},
   "outputs": [],
   "source": [
    "G_medium = pickle.load(open('medium250.pickle', 'rb'))"
   ]
  },
  {
   "cell_type": "code",
   "execution_count": 314,
   "metadata": {},
   "outputs": [],
   "source": [
    "G_large = pickle.load(open('large250.pickle', 'rb'))"
   ]
  },
  {
   "cell_type": "code",
   "execution_count": 315,
   "metadata": {},
   "outputs": [],
   "source": [
    "def create_gcl(G):\n",
    "    ground = {frozenset(G.nodes[v][\"community\"]) for v in G}\n",
    "\n",
    "    # ----------------------------- generating_labels ---------------------------- #\n",
    "    ground_community_labels = {}\n",
    "    counter =0\n",
    "\n",
    "    for i in ground:\n",
    "        if i not in ground_community_labels:\n",
    "            ground_community_labels[i] = counter\n",
    "            counter += 1\n",
    "\n",
    "    gcl = [ground_community_labels[frozenset(G.nodes[node][\"community\"])]  for node in G.nodes]\n",
    "\n",
    "    return gcl"
   ]
  },
  {
   "cell_type": "code",
   "execution_count": 316,
   "metadata": {},
   "outputs": [],
   "source": [
    "def create_lcl(comms,G):\n",
    "    \"\"\"create labels for the outcome communities commmunties\n",
    "    \"\"\"\n",
    "    counter = 0    \n",
    "    community_dict = {}\n",
    "    for i in comms:\n",
    "        if i not in community_dict:\n",
    "            community_dict[i] = counter\n",
    "        counter += 1\n",
    "\n",
    "    lcl = []\n",
    "    for node in G.nodes:\n",
    "        c = [x for x in comms if node in x]\n",
    "        c = c[0]\n",
    "        lcl.append(community_dict[c])\n",
    "\n",
    "    return lcl"
   ]
  },
  {
   "cell_type": "markdown",
   "metadata": {},
   "source": [
    "# Creating Baselines"
   ]
  },
  {
   "cell_type": "markdown",
   "metadata": {},
   "source": [
    "### Baseline Louvain"
   ]
  },
  {
   "cell_type": "code",
   "execution_count": 317,
   "metadata": {},
   "outputs": [],
   "source": [
    "def baseline_metrics_louvain(G, n=15):\n",
    "    ground = {frozenset(G.nodes[v][\"community\"]) for v in G}\n",
    "\n",
    "    stats_dict = {}\n",
    "    # ----------------------------- generating_labels ---------------------------- #\n",
    "    gcl = create_gcl(G)\n",
    "\n",
    "    generated_communities = [nx.community.louvain_communities(G, weight=None) for _ in range(n)]\n",
    "    \n",
    "    #calculating modularity    \n",
    "    stats_dict[\"a_modularity\"]  = np.mean([nx.community.modularity(G,c) for c in generated_communities])\n",
    "    stats_dict[\"var_modularity\"]  = np.var([nx.community.modularity(G,c) for c in generated_communities])\n",
    "\n",
    "    #calculating nmi and kappa\n",
    "    l_nmi = []\n",
    "    l_kappa = []\n",
    "    l_accur = []\n",
    "\n",
    "\n",
    "    for _ in range(n):\n",
    "        counter =0\n",
    "        comms = nx.community.louvain_communities(G)\n",
    "        comms = [frozenset(i) for i in comms]\n",
    "\n",
    "        lcl = create_lcl(comms,G)\n",
    "\n",
    "        l_nmi.append(sk.metrics.cluster.normalized_mutual_info_score(gcl, lcl))\n",
    "\n",
    "        #calculating kappa   \n",
    "        l_kappa.append(total_kappa(gcl, lcl))\n",
    "        l_accur.append(total_accuracy(gcl, lcl))\n",
    "\n",
    "\n",
    "    stats_dict[\"a_nmi\"]  = np.mean(l_nmi)\n",
    "    stats_dict[\"var_nmi\"]  = np.var(l_nmi) \n",
    "\n",
    "    stats_dict[\"a_kappa\"]  = np.mean(l_kappa)\n",
    "    stats_dict[\"var_kappa\"]  = np.var(l_kappa) \n",
    "    stats_dict[\"accuracy\"] = np.mean(l_accur)\n",
    "\n",
    "    return stats_dict"
   ]
  },
  {
   "cell_type": "code",
   "execution_count": 318,
   "metadata": {},
   "outputs": [
    {
     "data": {
      "text/plain": [
       "{'a_modularity': 0.22040372463510147,\n",
       " 'var_modularity': 7.341418713230742e-05,\n",
       " 'a_nmi': 0.406818467214035,\n",
       " 'var_nmi': 0.0029729149646155356,\n",
       " 'a_kappa': 0.21489653562151592,\n",
       " 'var_kappa': 0.03167928754064294,\n",
       " 'accuracy': 0.2332045295682035}"
      ]
     },
     "execution_count": 318,
     "metadata": {},
     "output_type": "execute_result"
    }
   ],
   "source": [
    "res[\"louvain_small\"] =baseline_metrics_louvain(G_small)\n",
    "res[\"louvain_small\"]"
   ]
  },
  {
   "cell_type": "code",
   "execution_count": 319,
   "metadata": {},
   "outputs": [],
   "source": [
    "res[\"louvain_medium\"] = baseline_metrics_louvain(G_medium)"
   ]
  },
  {
   "cell_type": "code",
   "execution_count": 320,
   "metadata": {},
   "outputs": [],
   "source": [
    "res[\"louvain_large\"] = baseline_metrics_louvain(G_large)"
   ]
  },
  {
   "cell_type": "code",
   "execution_count": 321,
   "metadata": {},
   "outputs": [],
   "source": [
    "res[\"louvain_eucore\"] = baseline_metrics_louvain(eucore)"
   ]
  },
  {
   "cell_type": "markdown",
   "metadata": {},
   "source": [
    "### Baseline Leiden"
   ]
  },
  {
   "cell_type": "code",
   "execution_count": 322,
   "metadata": {},
   "outputs": [],
   "source": [
    "def run_leiden(G):\n",
    "    \"\"\"\"Runs the Leidein Algorithm in a graph G\"\"\"\n",
    "    h = ig.Graph.from_networkx(G)\n",
    "    partition = leidenalg.find_partition(h, leidenalg.ModularityVertexPartition, weights=\"weight\")\n",
    "    communities = [[] for _ in range(len(partition))]\n",
    "    # Fill the communities with vertex indices\n",
    "    for vertex, community in enumerate(partition.membership):\n",
    "        communities[community].append(vertex)\n",
    "\n",
    "    return communities    "
   ]
  },
  {
   "cell_type": "code",
   "execution_count": 323,
   "metadata": {},
   "outputs": [],
   "source": [
    "def baseline_metrics_leiden(G, n=15):\n",
    "    ground = {frozenset(G.nodes[v][\"community\"]) for v in G}\n",
    "\n",
    "    stats_dict = {}\n",
    "    # ----------------------------- generating_labels ---------------------------- #\n",
    "    gcl = create_gcl(G)\n",
    "\n",
    "    generated_communities = [run_leiden(G) for _ in range(10)]\n",
    "    \n",
    "    #calculating modularity    \n",
    "    stats_dict[\"a_modularity\"]  = np.mean([nx.community.modularity(G,c) for c in generated_communities])\n",
    "    stats_dict[\"var_modularity\"]  = np.var([nx.community.modularity(G,c) for c in generated_communities])\n",
    "\n",
    "    #calculating nmi and kappa\n",
    "    l_nmi = []\n",
    "    l_kappa = []\n",
    "\n",
    "\n",
    "    for _ in range(n):\n",
    "        counter =0\n",
    "        comms = run_leiden(G)\n",
    "        comms = [frozenset(i) for i in comms]\n",
    "\n",
    "        lcl = create_lcl(comms,G)\n",
    "\n",
    "        l_nmi.append(sk.metrics.cluster.normalized_mutual_info_score(gcl, lcl))\n",
    "\n",
    "        #calculating kappa   \n",
    "        l_kappa.append(total_kappa(gcl, lcl))\n",
    "\n",
    "\n",
    "    stats_dict[\"a_nmi\"]  = np.mean(l_nmi)\n",
    "    stats_dict[\"var_nmi\"]  = np.var(l_nmi) \n",
    "\n",
    "    stats_dict[\"a_kappa\"]  = np.mean(l_kappa)\n",
    "    stats_dict[\"var_kappa\"]  = np.var(l_kappa) \n",
    "\n",
    "\n",
    "    return stats_dict\n",
    "\n"
   ]
  },
  {
   "cell_type": "code",
   "execution_count": 324,
   "metadata": {},
   "outputs": [],
   "source": [
    "res[\"leiden_small\"] = baseline_metrics_leiden(G_small)"
   ]
  },
  {
   "cell_type": "code",
   "execution_count": 325,
   "metadata": {},
   "outputs": [],
   "source": [
    "res[\"leiden_medium\"] = baseline_metrics_leiden(G_medium)"
   ]
  },
  {
   "cell_type": "code",
   "execution_count": 326,
   "metadata": {},
   "outputs": [
    {
     "name": "stderr",
     "output_type": "stream",
     "text": [
      "c:\\Users\\Felipe Cintra\\Documents\\TUE_2324\\JBG-100 BEP\\Code2\\.venv\\Lib\\site-packages\\leidenalg\\VertexPartition.py:388: SyntaxWarning: invalid escape sequence '\\m'\n",
      "  \"\"\" Implements modularity. This quality function is well-defined only for positive edge weights.\n",
      "c:\\Users\\Felipe Cintra\\Documents\\TUE_2324\\JBG-100 BEP\\Code2\\.venv\\Lib\\site-packages\\leidenalg\\VertexPartition.py:761: SyntaxWarning: invalid escape sequence '\\m'\n",
      "  \"\"\" Implements Reichardt and Bornholdt's Potts model with a configuration null model.\n"
     ]
    },
    {
     "ename": "KeyError",
     "evalue": "'Attribute does not exist'",
     "output_type": "error",
     "traceback": [
      "\u001b[1;31m---------------------------------------------------------------------------\u001b[0m",
      "\u001b[1;31mKeyError\u001b[0m                                  Traceback (most recent call last)",
      "Cell \u001b[1;32mIn[326], line 1\u001b[0m\n\u001b[1;32m----> 1\u001b[0m res[\u001b[38;5;124m\"\u001b[39m\u001b[38;5;124mleiden_large\u001b[39m\u001b[38;5;124m\"\u001b[39m] \u001b[38;5;241m=\u001b[39m \u001b[43mbaseline_metrics_leiden\u001b[49m\u001b[43m(\u001b[49m\u001b[43mG_large\u001b[49m\u001b[43m)\u001b[49m\n",
      "Cell \u001b[1;32mIn[323], line 8\u001b[0m, in \u001b[0;36mbaseline_metrics_leiden\u001b[1;34m(G, n)\u001b[0m\n\u001b[0;32m      5\u001b[0m \u001b[38;5;66;03m# ----------------------------- generating_labels ---------------------------- #\u001b[39;00m\n\u001b[0;32m      6\u001b[0m gcl \u001b[38;5;241m=\u001b[39m create_gcl(G)\n\u001b[1;32m----> 8\u001b[0m generated_communities \u001b[38;5;241m=\u001b[39m [\u001b[43mrun_leiden\u001b[49m\u001b[43m(\u001b[49m\u001b[43mG\u001b[49m\u001b[43m)\u001b[49m \u001b[38;5;28;01mfor\u001b[39;00m _ \u001b[38;5;129;01min\u001b[39;00m \u001b[38;5;28mrange\u001b[39m(\u001b[38;5;241m10\u001b[39m)]\n\u001b[0;32m     10\u001b[0m \u001b[38;5;66;03m#calculating modularity    \u001b[39;00m\n\u001b[0;32m     11\u001b[0m stats_dict[\u001b[38;5;124m\"\u001b[39m\u001b[38;5;124ma_modularity\u001b[39m\u001b[38;5;124m\"\u001b[39m]  \u001b[38;5;241m=\u001b[39m np\u001b[38;5;241m.\u001b[39mmean([nx\u001b[38;5;241m.\u001b[39mcommunity\u001b[38;5;241m.\u001b[39mmodularity(G,c) \u001b[38;5;28;01mfor\u001b[39;00m c \u001b[38;5;129;01min\u001b[39;00m generated_communities])\n",
      "Cell \u001b[1;32mIn[322], line 4\u001b[0m, in \u001b[0;36mrun_leiden\u001b[1;34m(G)\u001b[0m\n\u001b[0;32m      2\u001b[0m \u001b[38;5;250m\u001b[39m\u001b[38;5;124;03m\"\"\"\"Runs the Leidein Algorithm in a graph G\"\"\"\u001b[39;00m\n\u001b[0;32m      3\u001b[0m h \u001b[38;5;241m=\u001b[39m ig\u001b[38;5;241m.\u001b[39mGraph\u001b[38;5;241m.\u001b[39mfrom_networkx(G)\n\u001b[1;32m----> 4\u001b[0m partition \u001b[38;5;241m=\u001b[39m \u001b[43mleidenalg\u001b[49m\u001b[38;5;241;43m.\u001b[39;49m\u001b[43mfind_partition\u001b[49m\u001b[43m(\u001b[49m\u001b[43mh\u001b[49m\u001b[43m,\u001b[49m\u001b[43m \u001b[49m\u001b[43mleidenalg\u001b[49m\u001b[38;5;241;43m.\u001b[39;49m\u001b[43mModularityVertexPartition\u001b[49m\u001b[43m,\u001b[49m\u001b[43m \u001b[49m\u001b[43mweights\u001b[49m\u001b[38;5;241;43m=\u001b[39;49m\u001b[38;5;124;43m\"\u001b[39;49m\u001b[38;5;124;43mweight\u001b[39;49m\u001b[38;5;124;43m\"\u001b[39;49m\u001b[43m)\u001b[49m\n\u001b[0;32m      5\u001b[0m communities \u001b[38;5;241m=\u001b[39m [[] \u001b[38;5;28;01mfor\u001b[39;00m _ \u001b[38;5;129;01min\u001b[39;00m \u001b[38;5;28mrange\u001b[39m(\u001b[38;5;28mlen\u001b[39m(partition))]\n\u001b[0;32m      6\u001b[0m \u001b[38;5;66;03m# Fill the communities with vertex indices\u001b[39;00m\n",
      "File \u001b[1;32mc:\\Users\\Felipe Cintra\\Documents\\TUE_2324\\JBG-100 BEP\\Code2\\.venv\\Lib\\site-packages\\leidenalg\\functions.py:81\u001b[0m, in \u001b[0;36mfind_partition\u001b[1;34m(graph, partition_type, initial_membership, weights, n_iterations, max_comm_size, seed, **kwargs)\u001b[0m\n\u001b[0;32m     79\u001b[0m \u001b[38;5;28;01mif\u001b[39;00m \u001b[38;5;129;01mnot\u001b[39;00m weights \u001b[38;5;129;01mis\u001b[39;00m \u001b[38;5;28;01mNone\u001b[39;00m:\n\u001b[0;32m     80\u001b[0m   kwargs[\u001b[38;5;124m'\u001b[39m\u001b[38;5;124mweights\u001b[39m\u001b[38;5;124m'\u001b[39m] \u001b[38;5;241m=\u001b[39m weights\n\u001b[1;32m---> 81\u001b[0m partition \u001b[38;5;241m=\u001b[39m \u001b[43mpartition_type\u001b[49m\u001b[43m(\u001b[49m\u001b[43mgraph\u001b[49m\u001b[43m,\u001b[49m\n\u001b[0;32m     82\u001b[0m \u001b[43m                           \u001b[49m\u001b[43minitial_membership\u001b[49m\u001b[38;5;241;43m=\u001b[39;49m\u001b[43minitial_membership\u001b[49m\u001b[43m,\u001b[49m\n\u001b[0;32m     83\u001b[0m \u001b[43m                           \u001b[49m\u001b[38;5;241;43m*\u001b[39;49m\u001b[38;5;241;43m*\u001b[39;49m\u001b[43mkwargs\u001b[49m\u001b[43m)\u001b[49m\n\u001b[0;32m     84\u001b[0m optimiser \u001b[38;5;241m=\u001b[39m Optimiser()\n\u001b[0;32m     86\u001b[0m optimiser\u001b[38;5;241m.\u001b[39mmax_comm_size \u001b[38;5;241m=\u001b[39m max_comm_size\n",
      "File \u001b[1;32mc:\\Users\\Felipe Cintra\\Documents\\TUE_2324\\JBG-100 BEP\\Code2\\.venv\\Lib\\site-packages\\leidenalg\\VertexPartition.py:451\u001b[0m, in \u001b[0;36mModularityVertexPartition.__init__\u001b[1;34m(self, graph, initial_membership, weights)\u001b[0m\n\u001b[0;32m    449\u001b[0m \u001b[38;5;28;01mif\u001b[39;00m weights \u001b[38;5;129;01mis\u001b[39;00m \u001b[38;5;129;01mnot\u001b[39;00m \u001b[38;5;28;01mNone\u001b[39;00m:\n\u001b[0;32m    450\u001b[0m   \u001b[38;5;28;01mif\u001b[39;00m \u001b[38;5;28misinstance\u001b[39m(weights, \u001b[38;5;28mstr\u001b[39m):\n\u001b[1;32m--> 451\u001b[0m     weights \u001b[38;5;241m=\u001b[39m \u001b[43mgraph\u001b[49m\u001b[38;5;241;43m.\u001b[39;49m\u001b[43mes\u001b[49m\u001b[43m[\u001b[49m\u001b[43mweights\u001b[49m\u001b[43m]\u001b[49m\n\u001b[0;32m    452\u001b[0m   \u001b[38;5;28;01melse\u001b[39;00m:\n\u001b[0;32m    453\u001b[0m     \u001b[38;5;66;03m# Make sure it is a list\u001b[39;00m\n\u001b[0;32m    454\u001b[0m     weights \u001b[38;5;241m=\u001b[39m \u001b[38;5;28mlist\u001b[39m(weights)\n",
      "\u001b[1;31mKeyError\u001b[0m: 'Attribute does not exist'"
     ]
    }
   ],
   "source": [
    "res[\"leiden_large\"] = baseline_metrics_leiden(G_large)"
   ]
  },
  {
   "cell_type": "code",
   "execution_count": null,
   "metadata": {},
   "outputs": [],
   "source": [
    "res[\"leiden_eucore\"] = baseline_metrics_leiden(eucore)"
   ]
  },
  {
   "cell_type": "markdown",
   "metadata": {},
   "source": [
    "### Baseline GN"
   ]
  },
  {
   "cell_type": "code",
   "execution_count": null,
   "metadata": {},
   "outputs": [],
   "source": [
    "# nx.community.girvan_newman(G_medium)\n",
    "# comp = nx.community.girvan_newman(G_large)\n",
    "# gn = tuple(sorted(c) for c in next(comp))\n",
    "\n",
    "# gn_communities = {}\n",
    "\n",
    "# for communities in tqdm.tqdm(np.itertools.islice(comp, 3)):\n",
    "#     print(tuple(sorted(c) for c in communities))"
   ]
  },
  {
   "cell_type": "code",
   "execution_count": null,
   "metadata": {},
   "outputs": [],
   "source": [
    "def baseline_metrics_gn(G, n=15):\n",
    "    ground = {frozenset(G.nodes[v][\"community\"]) for v in G}\n",
    "    \n",
    "    stats_dict = {}\n",
    "    # ----------------------------- generating_labels ---------------------------- #\n",
    "    ground_community_labels = {}\n",
    "    counter =0\n",
    "\n",
    "    for i in ground:\n",
    "        if i not in ground_community_labels:\n",
    "            ground_community_labels[i] = counter\n",
    "            counter += 1\n",
    "\n",
    "    gcl = [ground_community_labels[frozenset(G.nodes[node][\"community\"])]  for node in G.nodes]\n",
    "    \n",
    "    nx.community.girvan_newman(G)\n",
    "    comp = nx.community.girvan_newman(G)\n",
    "    gn = tuple(sorted(c) for c in next(comp))\n",
    "\n",
    "    generated_communities = [{frozenset(c) for c in gn}] \n",
    "    #calculating modularity    \n",
    "    stats_dict[\"a_modularity\"]  = np.mean([nx.community.modularity(G,c) for c in generated_communities])\n",
    "    stats_dict[\"var_modularity\"]  = np.var([nx.community.modularity(G,c) for c in generated_communities])\n",
    "\n",
    "    #calculating nmi and kappa\n",
    "    l_nmi = []\n",
    "    l_kappa = []\n",
    "    \n",
    "    comms = frozenset(generated_communities[0]) \n",
    "    counter = 0\n",
    "\n",
    "\n",
    "    community_dict = {}\n",
    "    for i in comms:\n",
    "        if i not in community_dict:\n",
    "            community_dict[i] = counter\n",
    "        counter += 1\n",
    "\n",
    "    lcl = []\n",
    "    for node in G.nodes:\n",
    "        c = [x for x in comms if node in x]\n",
    "        c = c[0]\n",
    "        lcl.append(community_dict[c])\n",
    "\n",
    "    l_nmi.append(sk.metrics.cluster.normalized_mutual_info_score(gcl, lcl))\n",
    "\n",
    "    #calculating kappa   \n",
    "    l_kappa.append(total_kappa(gcl, lcl))\n",
    "\n",
    "\n",
    "    stats_dict[\"a_nmi\"]  = np.mean(l_nmi)\n",
    "    stats_dict[\"var_nmi\"]  = np.var(l_nmi) \n",
    "\n",
    "    stats_dict[\"a_kappa\"]  = np.mean(l_kappa)\n",
    "    stats_dict[\"var_kappa\"]  = np.var(l_kappa) \n",
    "\n",
    "\n",
    "    return stats_dict"
   ]
  },
  {
   "cell_type": "code",
   "execution_count": null,
   "metadata": {},
   "outputs": [],
   "source": [
    "res[\"gn_small\"] = baseline_metrics_gn(G_small)"
   ]
  },
  {
   "cell_type": "code",
   "execution_count": null,
   "metadata": {},
   "outputs": [],
   "source": [
    "res[\"gn_medium\"] = baseline_metrics_gn(G_medium)\n"
   ]
  },
  {
   "cell_type": "code",
   "execution_count": null,
   "metadata": {},
   "outputs": [],
   "source": [
    "res[\"gn_large\"] =  baseline_metrics_gn(G_medium)"
   ]
  },
  {
   "cell_type": "code",
   "execution_count": null,
   "metadata": {},
   "outputs": [],
   "source": [
    "# res[\"gn_eucore\"] = baseline_metrics_gn(eucore)"
   ]
  },
  {
   "cell_type": "code",
   "execution_count": null,
   "metadata": {},
   "outputs": [
    {
     "data": {
      "text/plain": [
       "dict_keys(['louvain_small', 'louvain_medium', 'louvain_large', 'louvain_eucore', 'leiden_small', 'leiden_medium', 'leiden_large', 'leiden_eucore', 'gn_small', 'gn_medium', 'gn_large'])"
      ]
     },
     "execution_count": 270,
     "metadata": {},
     "output_type": "execute_result"
    }
   ],
   "source": [
    "modularities = [res[key][\"a_modularity\"] for key in res ]\n",
    "nmis = [res[key][\"a_nmi\"] for key in res ]\n",
    "kappas = [res[key][\"a_kappa\"] for key in res ]\n",
    "\n",
    "\n",
    "\n",
    "colors = [label_colors[str(key).split(\"_\")[0]] for key in res]\n",
    "res.keys()\n"
   ]
  },
  {
   "cell_type": "code",
   "execution_count": null,
   "metadata": {},
   "outputs": [
    {
     "name": "stderr",
     "output_type": "stream",
     "text": [
      "C:\\Users\\Felipe Cintra\\AppData\\Local\\Temp\\ipykernel_21500\\2088141532.py:5: UserWarning: set_ticklabels() should only be used with a fixed number of ticks, i.e. after set_ticks() or using a FixedLocator.\n",
      "  ax[0].set_xticklabels(ax[0].get_xticklabels(),  rotation=45, horizontalalignment=\"right\")\n",
      "C:\\Users\\Felipe Cintra\\AppData\\Local\\Temp\\ipykernel_21500\\2088141532.py:11: UserWarning: set_ticklabels() should only be used with a fixed number of ticks, i.e. after set_ticks() or using a FixedLocator.\n",
      "  ax[1].set_xticklabels(ax[0].get_xticklabels(),  rotation=45, horizontalalignment=\"right\")\n",
      "C:\\Users\\Felipe Cintra\\AppData\\Local\\Temp\\ipykernel_21500\\2088141532.py:16: UserWarning: set_ticklabels() should only be used with a fixed number of ticks, i.e. after set_ticks() or using a FixedLocator.\n",
      "  ax[2].set_xticklabels(ax[0].get_xticklabels(),  rotation=45, horizontalalignment=\"right\")\n"
     ]
    },
    {
     "data": {
      "text/plain": [
       "Text(0.5, 0.98, 'Performance Metrics of Baseline Algorithms')"
      ]
     },
     "execution_count": 271,
     "metadata": {},
     "output_type": "execute_result"
    },
    {
     "data": {
      "image/png": "[encoded data removed]",
      "text/plain": [
       "<Figure size 1800x400 with 3 Axes>"
      ]
     },
     "metadata": {},
     "output_type": "display_data"
    }
   ],
   "source": [
    "fig, ax = plt.subplots(1,3, figsize=(18,4))\n",
    "\n",
    "# modularity\n",
    "ax[0].bar([key for key in res], modularities, color=colors)\n",
    "ax[0].set_xticklabels(ax[0].get_xticklabels(),  rotation=45, horizontalalignment=\"right\")\n",
    "ax[0].set_title(\"Modularity\", fontsize=16)\n",
    "\n",
    "\n",
    "# nmi\n",
    "ax[1].bar([key for key in res], nmis, color=colors)\n",
    "ax[1].set_xticklabels(ax[0].get_xticklabels(),  rotation=45, horizontalalignment=\"right\")\n",
    "ax[1].set_title(\"NMI\", fontsize=16)\n",
    "\n",
    "# kappa\n",
    "ax[2].bar([key for key in res], kappas, color=colors)\n",
    "ax[2].set_xticklabels(ax[0].get_xticklabels(),  rotation=45, horizontalalignment=\"right\")\n",
    "ax[2].set_title(\"Kappa\", fontsize=16)\n",
    "\n",
    "plt.subplots_adjust(top=0.8)\n",
    "plt.suptitle(\"Performance Metrics of Baseline Algorithms\", fontsize=20)\n"
   ]
  },
  {
   "cell_type": "code",
   "execution_count": null,
   "metadata": {},
   "outputs": [],
   "source": [
    "res_flow_capacity = {}\n",
    "alpha_mod = {}"
   ]
  },
  {
   "cell_type": "code",
   "execution_count": null,
   "metadata": {},
   "outputs": [],
   "source": [
    "def flow_capacity_louvain_mod(G, quality=\"m\"):\n",
    "    metrics = []\n",
    "    alpha_vals = np.arange(0,1, 0.1)\n",
    "    gcl = create_gcl(G)\n",
    "    \n",
    "    for alpha in alpha_vals: #training\n",
    "        A = nx.adjacency_matrix(G, weight=None)\n",
    "        I = nx.adjacency_matrix(G, weight=\"weight\")/np.sum(nx.adjacency_matrix(G, weight=\"weight\"))\n",
    "        F = (1-alpha)*A + alpha*I\n",
    "        F = nx.from_numpy_array(F)\n",
    "        # ---------------------------------- running algorithm --------------------------------- #\n",
    "\n",
    " \n",
    "        generated_communities = [nx.community.louvain_communities(F, weight=\"weight\") for _ in tqdm.tqdm(range(5))]\n",
    "\n",
    "\n",
    "        if quality == \"m\":   # metric = modularity\n",
    "            metrics.append(np.mean([nx.community.modularity(G,c) for c in generated_communities]))\n",
    "\n",
    "        else:\n",
    "            l = []\n",
    "\n",
    "            for comms in generated_communities:\n",
    "                comms = [frozenset(i) for i in comms]\n",
    "                lcl = create_lcl(comms,G)\n",
    "\n",
    "                if quality == \"n\":\n",
    "                    l.append(sk.metrics.cluster.normalized_mutual_info_score(gcl, lcl)) # metric nmi\n",
    "                else:\n",
    "                    l.append(total_kappa(gcl, lcl)) # metric kappa\n",
    "\n",
    "            metrics.append(np.mean(l)) \n",
    "\n",
    "\n",
    "\n",
    "    # ------------------------- applying trained version ------------------------- #\n",
    "\n",
    "    alpha_index, max_metric = metrics.index(max(metrics)), max(metrics) #gets index with highest alpha value, gets highest metric value\n",
    "    max_alpha = alpha_vals[alpha_index]\n",
    "\n",
    "    I = nx.adjacency_matrix(G, weight=\"weight\")/np.sum(nx.adjacency_matrix(G, weight=\"weight\"))\n",
    "    F = (1-max_alpha)*A + max_alpha*I\n",
    "    \n",
    "    F = nx.from_numpy_array(F)\n",
    "\n",
    "    stats_dict = {}\n",
    "    # ----------------------------- generating_labels ---------------------------- #\n",
    "\n",
    "\n",
    "    generated_communities = [nx.community.louvain_communities(F) for _ in range(10)]\n",
    "    \n",
    "    #calculating modularity    \n",
    "    stats_dict[\"a_modularity\"]  = np.mean([nx.community.modularity(G,c) for c in generated_communities])\n",
    "    stats_dict[\"var_modularity\"]  = np.var([nx.community.modularity(G,c) for c in generated_communities])\n",
    "\n",
    "    #calculating nmi and kappa\n",
    "    l_nmi = []\n",
    "    l_kappa = []\n",
    "    l_accur = []\n",
    "\n",
    "\n",
    "    for _ in range(15):\n",
    "        counter =0\n",
    "        comms = nx.community.louvain_communities(F)\n",
    "        comms = [frozenset(i) for i in comms]\n",
    "\n",
    "        lcl = create_lcl(comms,G)\n",
    "\n",
    "        l_nmi.append(sk.metrics.cluster.normalized_mutual_info_score(gcl, lcl))\n",
    "\n",
    "        #calculating kappa   \n",
    "        l_kappa.append(total_kappa(gcl, lcl))\n",
    "        l_accur.append(total_accuracy(gcl, lcl))\n",
    "\n",
    "\n",
    "    stats_dict[\"a_nmi\"]  = np.mean(l_nmi)\n",
    "    stats_dict[\"var_nmi\"]  = np.var(l_nmi) \n",
    "\n",
    "    stats_dict[\"a_kappa\"]  = np.mean(l_kappa)\n",
    "    stats_dict[\"var_kappa\"]  = np.var(l_kappa) \n",
    "    stats_dict[\"accuracy\"] = np.mean(l_accur)\n",
    "\n",
    "    \n",
    "    return stats_dict, max_alpha, metrics"
   ]
  },
  {
   "cell_type": "code",
   "execution_count": null,
   "metadata": {},
   "outputs": [
    {
     "name": "stderr",
     "output_type": "stream",
     "text": [
      "100%|██████████| 5/5 [00:00<00:00, 242.51it/s]\n",
      "100%|██████████| 5/5 [00:00<00:00, 344.28it/s]\n",
      "100%|██████████| 5/5 [00:00<00:00, 285.95it/s]\n",
      "100%|██████████| 5/5 [00:00<00:00, 242.86it/s]\n",
      "100%|██████████| 5/5 [00:00<00:00, 273.13it/s]\n",
      "100%|██████████| 5/5 [00:00<00:00, 301.25it/s]\n",
      "100%|██████████| 5/5 [00:00<00:00, 230.78it/s]\n",
      "100%|██████████| 5/5 [00:00<00:00, 250.17it/s]\n",
      "100%|██████████| 5/5 [00:00<00:00, 228.89it/s]\n",
      "100%|██████████| 5/5 [00:00<00:00, 306.09it/s]\n"
     ]
    }
   ],
   "source": [
    "stats, alpha, max_mod = flow_capacity_louvain_mod(G_small, quality=\"q\")\n",
    "res_flow_capacity[\"louvain_small_modularity\"] =  stats\n",
    "alpha_mod[\"louvain_small_modularity\"] = [alpha, max_mod]"
   ]
  },
  {
   "cell_type": "code",
   "execution_count": null,
   "metadata": {},
   "outputs": [
    {
     "name": "stderr",
     "output_type": "stream",
     "text": [
      "100%|██████████| 5/5 [00:00<00:00, 312.52it/s]\n",
      "100%|██████████| 5/5 [00:00<00:00, 287.08it/s]\n",
      "100%|██████████| 5/5 [00:00<00:00, 216.83it/s]\n",
      "100%|██████████| 5/5 [00:00<00:00, 231.63it/s]\n",
      "100%|██████████| 5/5 [00:00<00:00, 202.81it/s]\n",
      "100%|██████████| 5/5 [00:00<00:00, 298.96it/s]\n",
      "100%|██████████| 5/5 [00:00<00:00, 288.07it/s]\n",
      "100%|██████████| 5/5 [00:00<00:00, 232.44it/s]\n",
      "100%|██████████| 5/5 [00:00<00:00, 296.38it/s]\n",
      "100%|██████████| 5/5 [00:00<00:00, 254.84it/s]\n"
     ]
    }
   ],
   "source": [
    "stats, alpha, max_mod = flow_capacity_louvain_mod(G_small, quality=\"k\")\n",
    "res_flow_capacity[\"louvain_small_kappa\"] =  stats\n",
    "alpha_mod[\"louvain_small_kappa\"] = [alpha, max_mod]"
   ]
  },
  {
   "cell_type": "code",
   "execution_count": null,
   "metadata": {},
   "outputs": [
    {
     "name": "stderr",
     "output_type": "stream",
     "text": [
      "100%|██████████| 5/5 [00:00<00:00,  7.66it/s]\n",
      "100%|██████████| 5/5 [00:00<00:00,  7.33it/s]\n",
      "100%|██████████| 5/5 [00:00<00:00,  6.56it/s]\n",
      "100%|██████████| 5/5 [00:00<00:00,  7.94it/s]\n",
      "100%|██████████| 5/5 [00:00<00:00,  8.42it/s]\n",
      "100%|██████████| 5/5 [00:00<00:00,  7.05it/s]\n",
      "100%|██████████| 5/5 [00:00<00:00,  7.58it/s]\n",
      "100%|██████████| 5/5 [00:00<00:00,  7.20it/s]\n",
      "100%|██████████| 5/5 [00:00<00:00,  7.11it/s]\n",
      "100%|██████████| 5/5 [00:00<00:00,  7.35it/s]\n"
     ]
    }
   ],
   "source": [
    "stats, alpha, max_mod = flow_capacity_louvain_mod(G_medium, quality=\"q\")\n",
    "res_flow_capacity[\"louvain_medium_nmi\"] =  stats\n",
    "alpha_mod[\"louvain_medium_nmi\"] = [alpha, max_mod]\n"
   ]
  },
  {
   "cell_type": "code",
   "execution_count": null,
   "metadata": {},
   "outputs": [
    {
     "name": "stderr",
     "output_type": "stream",
     "text": [
      "100%|██████████| 5/5 [00:00<00:00,  8.66it/s]\n",
      "100%|██████████| 5/5 [00:00<00:00,  7.93it/s]\n",
      "100%|██████████| 5/5 [00:00<00:00,  8.86it/s]\n",
      "100%|██████████| 5/5 [00:00<00:00,  9.02it/s]\n",
      "100%|██████████| 5/5 [00:00<00:00,  7.22it/s]\n",
      "100%|██████████| 5/5 [00:00<00:00,  8.96it/s]\n",
      "100%|██████████| 5/5 [00:00<00:00,  9.08it/s]\n",
      "100%|██████████| 5/5 [00:00<00:00,  9.11it/s]\n",
      "100%|██████████| 5/5 [00:01<00:00,  3.99it/s]\n",
      "100%|██████████| 5/5 [00:00<00:00,  7.33it/s]\n"
     ]
    }
   ],
   "source": [
    "stats, alpha, max_mod = flow_capacity_louvain_mod(G_medium, quality=\"k\")\n",
    "res_flow_capacity[\"louvain_medium_kappa\"] =  stats\n",
    "alpha_mod[\"louvain_medium_kappa\"] = [alpha, max_mod]"
   ]
  },
  {
   "cell_type": "code",
   "execution_count": null,
   "metadata": {},
   "outputs": [
    {
     "name": "stderr",
     "output_type": "stream",
     "text": [
      "100%|██████████| 5/5 [00:00<00:00,  7.43it/s]\n",
      "100%|██████████| 5/5 [00:00<00:00,  7.34it/s]\n",
      "100%|██████████| 5/5 [00:00<00:00,  8.17it/s]\n",
      "100%|██████████| 5/5 [00:00<00:00,  9.25it/s]\n",
      "100%|██████████| 5/5 [00:00<00:00,  8.01it/s]\n",
      "100%|██████████| 5/5 [00:00<00:00,  7.79it/s]\n",
      "100%|██████████| 5/5 [00:00<00:00,  8.21it/s]\n",
      "100%|██████████| 5/5 [00:00<00:00,  8.00it/s]\n",
      "100%|██████████| 5/5 [00:00<00:00,  6.72it/s]\n",
      "100%|██████████| 5/5 [00:00<00:00,  7.04it/s]\n"
     ]
    }
   ],
   "source": [
    "stats, alpha, max_mod = flow_capacity_louvain_mod(G_medium, quality=\"n\")\n",
    "res_flow_capacity[\"louvain_medium_nmi\"] =  stats\n",
    "alpha_mod[\"louvain_medium_nmi\"] = [alpha, max_mod]"
   ]
  },
  {
   "cell_type": "code",
   "execution_count": null,
   "metadata": {},
   "outputs": [
    {
     "name": "stderr",
     "output_type": "stream",
     "text": [
      "100%|██████████| 5/5 [00:01<00:00,  3.96it/s]\n",
      "100%|██████████| 5/5 [00:01<00:00,  3.84it/s]\n",
      "100%|██████████| 5/5 [00:01<00:00,  4.31it/s]\n",
      "100%|██████████| 5/5 [00:01<00:00,  3.96it/s]\n",
      "100%|██████████| 5/5 [00:01<00:00,  3.29it/s]\n",
      "100%|██████████| 5/5 [00:01<00:00,  4.18it/s]\n",
      "100%|██████████| 5/5 [00:01<00:00,  4.58it/s]\n",
      "100%|██████████| 5/5 [00:01<00:00,  3.89it/s]\n",
      "100%|██████████| 5/5 [00:01<00:00,  4.38it/s]\n",
      "100%|██████████| 5/5 [00:01<00:00,  4.82it/s]\n"
     ]
    },
    {
     "data": {
      "text/plain": [
       "({'a_modularity': 0.4308130792771318,\n",
       "  'var_modularity': 1.8394878158785198e-06,\n",
       "  'a_nmi': 0.1477209090801545,\n",
       "  'var_nmi': 2.5963420709214128e-05,\n",
       "  'a_kappa': 0.02864192972533468,\n",
       "  'var_kappa': 0.00044487958137153324,\n",
       "  'accuracy': 0.008358172057729988},\n",
       " 0.9,\n",
       " [0.019715108422488158,\n",
       "  0.021913504713487676,\n",
       "  0.02291277575485109,\n",
       "  0.02171365050521499,\n",
       "  0.02051452525557889,\n",
       "  0.01751671213148864,\n",
       "  0.024711463629305243,\n",
       "  0.021313942088669623,\n",
       "  0.02710971412857744,\n",
       "  0.02990767304439501])"
      ]
     },
     "execution_count": 279,
     "metadata": {},
     "output_type": "execute_result"
    }
   ],
   "source": [
    "stats, alpha, max_mod = flow_capacity_louvain_mod(eucore, quality=\"k\")\n",
    "res_flow_capacity[\"louvain_eucore_kappa\"] =  stats\n",
    "alpha_mod[\"louvain_eucore_kappa\"] = [alpha, max_mod]\n",
    "\n",
    "stats, alpha, max_mod"
   ]
  },
  {
   "cell_type": "code",
   "execution_count": null,
   "metadata": {},
   "outputs": [
    {
     "name": "stderr",
     "output_type": "stream",
     "text": [
      "100%|██████████| 5/5 [00:01<00:00,  4.16it/s]\n",
      "100%|██████████| 5/5 [00:01<00:00,  4.77it/s]\n",
      "100%|██████████| 5/5 [00:01<00:00,  4.93it/s]\n",
      "100%|██████████| 5/5 [00:01<00:00,  3.51it/s]\n",
      "100%|██████████| 5/5 [00:01<00:00,  3.91it/s]\n",
      "100%|██████████| 5/5 [00:01<00:00,  4.13it/s]\n",
      "100%|██████████| 5/5 [00:01<00:00,  4.27it/s]\n",
      "100%|██████████| 5/5 [00:01<00:00,  4.85it/s]\n",
      "100%|██████████| 5/5 [00:01<00:00,  4.31it/s]\n",
      "100%|██████████| 5/5 [00:01<00:00,  4.36it/s]\n"
     ]
    },
    {
     "data": {
      "text/plain": [
       "({'a_modularity': 0.43114144162621704,\n",
       "  'var_modularity': 2.375417023144583e-06,\n",
       "  'a_nmi': 0.15143572090562737,\n",
       "  'var_nmi': 4.9898759561503614e-05,\n",
       "  'a_kappa': 0.01778318440918555,\n",
       "  'var_kappa': 0.00015090863577827716,\n",
       "  'accuracy': 0.006928307673612401},\n",
       " 0.0,\n",
       " [0.02830883937821354,\n",
       "  0.018316128964579372,\n",
       "  0.013119919549489606,\n",
       "  0.011920794299853505,\n",
       "  0.025510880462395975,\n",
       "  0.021114087880396943,\n",
       "  0.01931540000594279,\n",
       "  0.02351233837966914,\n",
       "  0.019315400005942795,\n",
       "  0.023112629963123778])"
      ]
     },
     "execution_count": 280,
     "metadata": {},
     "output_type": "execute_result"
    }
   ],
   "source": [
    "stats, alpha, max_mod = flow_capacity_louvain_mod(eucore, quality=\"q\")\n",
    "res_flow_capacity[\"louvain_eucore_modularity\"] =  stats\n",
    "alpha_mod[\"louvain_eucore_modularity\"] = [alpha, max_mod]\n",
    "\n",
    "\n",
    "stats, alpha, max_mod"
   ]
  },
  {
   "cell_type": "code",
   "execution_count": null,
   "metadata": {},
   "outputs": [
    {
     "name": "stderr",
     "output_type": "stream",
     "text": [
      "100%|██████████| 5/5 [00:01<00:00,  4.90it/s]\n",
      "100%|██████████| 5/5 [00:01<00:00,  4.17it/s]\n",
      "100%|██████████| 5/5 [00:01<00:00,  3.97it/s]\n",
      "100%|██████████| 5/5 [00:01<00:00,  3.98it/s]\n",
      "100%|██████████| 5/5 [00:01<00:00,  4.35it/s]\n",
      "100%|██████████| 5/5 [00:01<00:00,  4.65it/s]\n",
      "100%|██████████| 5/5 [00:01<00:00,  4.18it/s]\n",
      "100%|██████████| 5/5 [00:01<00:00,  4.19it/s]\n",
      "100%|██████████| 5/5 [00:01<00:00,  4.12it/s]\n",
      "100%|██████████| 5/5 [00:01<00:00,  4.46it/s]\n"
     ]
    },
    {
     "data": {
      "text/plain": [
       "({'a_modularity': 0.43058284141798236,\n",
       "  'var_modularity': 3.5685827187667446e-06,\n",
       "  'a_nmi': 0.14926550816525747,\n",
       "  'var_nmi': 6.960603101801811e-05,\n",
       "  'a_kappa': 0.01931540000594279,\n",
       "  'var_kappa': 0.000286754810968639,\n",
       "  'accuracy': 0.006305525224661249},\n",
       " 0.8,\n",
       " [0.14815605804770288,\n",
       "  0.15035568266637397,\n",
       "  0.1472154105086003,\n",
       "  0.14983891049520387,\n",
       "  0.14962287799007928,\n",
       "  0.14655355362816508,\n",
       "  0.14731526744071413,\n",
       "  0.14576277614069072,\n",
       "  0.1509386988777087,\n",
       "  0.14421120943644344])"
      ]
     },
     "execution_count": 281,
     "metadata": {},
     "output_type": "execute_result"
    }
   ],
   "source": [
    "stats, alpha, max_mod = flow_capacity_louvain_mod(eucore, quality=\"n\")\n",
    "res_flow_capacity[\"louvain_eucore_nmi\"] =  stats\n",
    "alpha_mod[\"louvain_eucore_nmi\"] = [alpha, max_mod]\n",
    "\n",
    "stats, alpha, max_mod"
   ]
  },
  {
   "cell_type": "code",
   "execution_count": null,
   "metadata": {},
   "outputs": [],
   "source": [
    "d = {0.1:1, 0.2:5, 0.3:4, 0.4:1}\n"
   ]
  },
  {
   "cell_type": "code",
   "execution_count": 330,
   "metadata": {},
   "outputs": [],
   "source": [
    "def flow_capacity_leiden(G, quality=\"m\"):\n",
    "    metrics = []\n",
    "    alpha_vals = np.arange(0,1, 0.1)\n",
    "    gcl = create_gcl(G)\n",
    "    \n",
    "    for alpha in alpha_vals: #training\n",
    "        A = nx.adjacency_matrix(G, weight=None)\n",
    "        I = nx.adjacency_matrix(G, weight=\"weight\")/np.sum(nx.adjacency_matrix(G, weight=\"weight\"))\n",
    "        F = (1-alpha)*A + alpha*I\n",
    "        F = nx.from_numpy_array(F)\n",
    "        # ---------------------------------- running algorithm --------------------------------- #\n",
    "\n",
    " \n",
    "        generated_communities = [run_leiden(F) for _ in tqdm.tqdm(range(10))]\n",
    "\n",
    "\n",
    "        if quality == \"m\":   # metric = modularity\n",
    "            metrics.append(np.mean([nx.community.modularity(G,c) for c in generated_communities]))\n",
    "\n",
    "        else:\n",
    "            l = []\n",
    "\n",
    "            for comms in generated_communities:\n",
    "                comms = [frozenset(i) for i in comms]\n",
    "                lcl = create_lcl(comms,G)\n",
    "\n",
    "                if quality == \"n\":\n",
    "                    l.append(sk.metrics.cluster.normalized_mutual_info_score(gcl, lcl)) # metric nmi\n",
    "                else:\n",
    "                    l.append(total_kappa(gcl, lcl)) # metric kappa\n",
    "\n",
    "            metrics.append(np.mean(l)) \n",
    "\n",
    "\n",
    "\n",
    "    # ------------------------- applying trained version ------------------------- #\n",
    "\n",
    "    alpha_index, max_metric = metrics.index(max(metrics)), max(metrics) #gets index with highest alpha value, gets highest metric value\n",
    "    max_alpha = alpha_vals[alpha_index]\n",
    "\n",
    "    I = nx.adjacency_matrix(G, weight=\"weight\")/np.sum(nx.adjacency_matrix(G, weight=\"weight\"))\n",
    "    F = (1-max_alpha)*A + max_alpha*I\n",
    "    \n",
    "    F = nx.from_numpy_array(F)\n",
    "\n",
    "    stats_dict = {}\n",
    "    # ----------------------------- generating_labels ---------------------------- #\n",
    "\n",
    "\n",
    "    generated_communities = [run_leiden(F) for _ in tqdm.tqdm(range(10))]\n",
    "    \n",
    "    #calculating modularity    \n",
    "    stats_dict[\"a_modularity\"]  = np.mean([nx.community.modularity(G,c) for c in generated_communities])\n",
    "    stats_dict[\"var_modularity\"]  = np.var([nx.community.modularity(G,c) for c in generated_communities])\n",
    "\n",
    "    #calculating nmi and kappa\n",
    "    l_nmi = []\n",
    "    l_kappa = []\n",
    "    l_accur = []\n",
    "\n",
    "\n",
    "    for _ in range(15):\n",
    "        counter =0\n",
    "        comms = nx.community.louvain_communities(F)\n",
    "        comms = [frozenset(i) for i in comms]\n",
    "\n",
    "        lcl = create_lcl(comms,G)\n",
    "\n",
    "        l_nmi.append(sk.metrics.cluster.normalized_mutual_info_score(gcl, lcl))\n",
    "\n",
    "        #calculating kappa   \n",
    "        l_kappa.append(total_kappa(gcl, lcl))\n",
    "        l_accur.append(total_accuracy(gcl, lcl))\n",
    "\n",
    "\n",
    "    stats_dict[\"a_nmi\"]  = np.mean(l_nmi)\n",
    "    stats_dict[\"var_nmi\"]  = np.var(l_nmi) \n",
    "\n",
    "    stats_dict[\"a_kappa\"]  = np.mean(l_kappa)\n",
    "    stats_dict[\"var_kappa\"]  = np.var(l_kappa) \n",
    "    stats_dict[\"accuracy\"] = np.mean(l_accur)\n",
    "\n",
    "    \n",
    "    return stats_dict, max_alpha, metrics"
   ]
  },
  {
   "cell_type": "code",
   "execution_count": 334,
   "metadata": {},
   "outputs": [
    {
     "name": "stderr",
     "output_type": "stream",
     "text": [
      "100%|██████████| 10/10 [00:00<00:00, 833.13it/s]"
     ]
    },
    {
     "name": "stderr",
     "output_type": "stream",
     "text": [
      "\n",
      "100%|██████████| 10/10 [00:00<00:00, 1072.16it/s]\n",
      "100%|██████████| 10/10 [00:00<00:00, 812.79it/s]\n",
      "100%|██████████| 10/10 [00:00<00:00, 833.82it/s]\n",
      "100%|██████████| 10/10 [00:00<00:00, 1249.31it/s]\n",
      "100%|██████████| 10/10 [00:00<00:00, 709.26it/s]\n",
      "100%|██████████| 10/10 [00:00<00:00, 902.10it/s]\n",
      "100%|██████████| 10/10 [00:00<00:00, 602.25it/s]\n",
      "100%|██████████| 10/10 [00:00<00:00, 1148.87it/s]\n",
      "100%|██████████| 10/10 [00:00<00:00, 833.15it/s]\n",
      "100%|██████████| 10/10 [00:00<00:00, 1139.32it/s]\n"
     ]
    }
   ],
   "source": [
    "stats, alpha, max_mod = flow_capacity_leiden(G_small, quality=\"q\")\n",
    "res_flow_capacity[\"leiden_small_modularity\"] =  stats\n",
    "alpha_mod[\"leiden_small_modularity\"] = [alpha, max_mod]"
   ]
  },
  {
   "cell_type": "code",
   "execution_count": 338,
   "metadata": {},
   "outputs": [
    {
     "name": "stderr",
     "output_type": "stream",
     "text": [
      "100%|██████████| 10/10 [00:00<00:00, 28.36it/s]\n",
      "100%|██████████| 10/10 [00:00<00:00, 37.47it/s]\n",
      "100%|██████████| 10/10 [00:00<00:00, 35.72it/s]\n",
      "100%|██████████| 10/10 [00:00<00:00, 39.56it/s]\n",
      "100%|██████████| 10/10 [00:00<00:00, 30.63it/s]\n",
      "100%|██████████| 10/10 [00:00<00:00, 32.90it/s]\n",
      "100%|██████████| 10/10 [00:00<00:00, 43.59it/s]\n",
      "100%|██████████| 10/10 [00:00<00:00, 40.24it/s]\n",
      "100%|██████████| 10/10 [00:00<00:00, 44.48it/s]\n",
      "100%|██████████| 10/10 [00:00<00:00, 45.09it/s]\n",
      "100%|██████████| 10/10 [00:00<00:00, 37.85it/s]\n"
     ]
    }
   ],
   "source": [
    "stats, alpha, max_mod = flow_capacity_leiden(G_medium, quality=\"q\")\n",
    "res_flow_capacity[\"leiden_medium_modularity\"] =  stats\n",
    "alpha_mod[\"leiden_medium_modularity\"] = [alpha, max_mod]"
   ]
  },
  {
   "cell_type": "code",
   "execution_count": 339,
   "metadata": {},
   "outputs": [
    {
     "name": "stderr",
     "output_type": "stream",
     "text": [
      "100%|██████████| 10/10 [00:00<00:00, 18.56it/s]\n",
      "100%|██████████| 10/10 [00:00<00:00, 19.98it/s]\n",
      "100%|██████████| 10/10 [00:00<00:00, 20.77it/s]\n",
      "100%|██████████| 10/10 [00:00<00:00, 27.27it/s]\n",
      "100%|██████████| 10/10 [00:00<00:00, 26.23it/s]\n",
      "100%|██████████| 10/10 [00:00<00:00, 25.03it/s]\n",
      "100%|██████████| 10/10 [00:00<00:00, 26.57it/s]\n",
      "100%|██████████| 10/10 [00:00<00:00, 22.96it/s]\n",
      "100%|██████████| 10/10 [00:00<00:00, 25.49it/s]\n",
      "100%|██████████| 10/10 [00:00<00:00, 24.09it/s]\n",
      "100%|██████████| 10/10 [00:00<00:00, 25.87it/s]\n"
     ]
    }
   ],
   "source": [
    "stats, alpha, max_mod = flow_capacity_leiden(eucore, quality=\"q\")\n",
    "res_flow_capacity[\"leiden_eucore_modularity\"] =  stats\n",
    "alpha_mod[\"leiden_eucore_modularity\"] = [alpha, max_mod]"
   ]
  },
  {
   "cell_type": "code",
   "execution_count": 341,
   "metadata": {},
   "outputs": [
    {
     "name": "stderr",
     "output_type": "stream",
     "text": [
      "100%|██████████| 10/10 [00:00<00:00, 833.08it/s]"
     ]
    },
    {
     "name": "stderr",
     "output_type": "stream",
     "text": [
      "\n",
      "100%|██████████| 10/10 [00:00<00:00, 833.26it/s]\n",
      "100%|██████████| 10/10 [00:00<00:00, 830.34it/s]\n",
      "100%|██████████| 10/10 [00:00<00:00, 867.86it/s]\n",
      "100%|██████████| 10/10 [00:00<00:00, 832.37it/s]\n",
      "100%|██████████| 10/10 [00:00<00:00, 913.81it/s]\n",
      "100%|██████████| 10/10 [00:00<00:00, 598.83it/s]\n",
      "100%|██████████| 10/10 [00:00<00:00, 1249.61it/s]\n",
      "100%|██████████| 10/10 [00:00<00:00, 864.56it/s]\n",
      "100%|██████████| 10/10 [00:00<00:00, 1247.41it/s]\n",
      "100%|██████████| 10/10 [00:00<00:00, 565.43it/s]\n"
     ]
    }
   ],
   "source": [
    "stats, alpha, max_mod = flow_capacity_leiden(G_small, quality=\"k\")\n",
    "res_flow_capacity[\"leiden_small_kappa\"] =  stats\n",
    "alpha_mod[\"leiden_small_kappa\"] = [alpha, max_mod]"
   ]
  },
  {
   "cell_type": "code",
   "execution_count": 342,
   "metadata": {},
   "outputs": [
    {
     "name": "stderr",
     "output_type": "stream",
     "text": [
      "100%|██████████| 10/10 [00:00<00:00, 25.18it/s]\n",
      "100%|██████████| 10/10 [00:00<00:00, 32.34it/s]\n",
      "100%|██████████| 10/10 [00:00<00:00, 32.78it/s]\n",
      "100%|██████████| 10/10 [00:00<00:00, 33.57it/s]\n",
      "100%|██████████| 10/10 [00:00<00:00, 31.04it/s]\n",
      "100%|██████████| 10/10 [00:00<00:00, 30.04it/s]\n",
      "100%|██████████| 10/10 [00:00<00:00, 30.74it/s]\n",
      "100%|██████████| 10/10 [00:00<00:00, 42.51it/s]\n",
      "100%|██████████| 10/10 [00:00<00:00, 40.41it/s]\n",
      "100%|██████████| 10/10 [00:00<00:00, 39.03it/s]\n",
      "100%|██████████| 10/10 [00:00<00:00, 39.46it/s]\n"
     ]
    }
   ],
   "source": [
    "stats, alpha, max_mod = flow_capacity_leiden(G_medium, quality=\"k\")\n",
    "res_flow_capacity[\"leiden_medium_kappa\"] =  stats\n",
    "alpha_mod[\"leiden_medium_kappa\"] = [alpha, max_mod]"
   ]
  },
  {
   "cell_type": "code",
   "execution_count": 343,
   "metadata": {},
   "outputs": [
    {
     "name": "stderr",
     "output_type": "stream",
     "text": [
      "100%|██████████| 10/10 [00:00<00:00, 18.34it/s]\n",
      "100%|██████████| 10/10 [00:00<00:00, 18.55it/s]\n",
      "100%|██████████| 10/10 [00:00<00:00, 19.85it/s]\n",
      "100%|██████████| 10/10 [00:00<00:00, 20.16it/s]\n",
      "100%|██████████| 10/10 [00:00<00:00, 24.10it/s]\n",
      "100%|██████████| 10/10 [00:00<00:00, 24.83it/s]\n",
      "100%|██████████| 10/10 [00:00<00:00, 26.10it/s]\n",
      "100%|██████████| 10/10 [00:00<00:00, 25.62it/s]\n",
      "100%|██████████| 10/10 [00:00<00:00, 26.18it/s]\n",
      "100%|██████████| 10/10 [00:00<00:00, 21.74it/s]\n",
      "100%|██████████| 10/10 [00:00<00:00, 23.47it/s]\n"
     ]
    }
   ],
   "source": [
    "stats, alpha, max_mod = flow_capacity_leiden(eucore, quality=\"k\")\n",
    "res_flow_capacity[\"leiden_eucore_kappa\"] =  stats\n",
    "alpha_mod[\"leiden_eucore_kappa\"] = [alpha, max_mod]"
   ]
  },
  {
   "cell_type": "code",
   "execution_count": 344,
   "metadata": {},
   "outputs": [
    {
     "name": "stderr",
     "output_type": "stream",
     "text": [
      "100%|██████████| 10/10 [00:00<00:00, 716.89it/s]\n",
      "100%|██████████| 10/10 [00:00<00:00, 998.98it/s]\n",
      "100%|██████████| 10/10 [00:00<00:00, 624.70it/s]\n",
      "100%|██████████| 10/10 [00:00<00:00, 496.79it/s]\n",
      "100%|██████████| 10/10 [00:00<00:00, 833.44it/s]\n",
      "100%|██████████| 10/10 [00:00<00:00, 639.43it/s]\n",
      "100%|██████████| 10/10 [00:00<00:00, 832.52it/s]\n",
      "100%|██████████| 10/10 [00:00<00:00, 807.72it/s]\n",
      "100%|██████████| 10/10 [00:00<00:00, 834.85it/s]\n",
      "100%|██████████| 10/10 [00:00<00:00, 1240.26it/s]\n",
      "100%|██████████| 10/10 [00:00<00:00, 834.06it/s]\n",
      "100%|██████████| 10/10 [00:00<00:00, 30.64it/s]\n",
      "100%|██████████| 10/10 [00:00<00:00, 31.71it/s]\n",
      "100%|██████████| 10/10 [00:00<00:00, 31.83it/s]\n",
      "100%|██████████| 10/10 [00:00<00:00, 31.37it/s]\n",
      "100%|██████████| 10/10 [00:00<00:00, 28.75it/s]\n",
      "100%|██████████| 10/10 [00:00<00:00, 36.94it/s]\n",
      "100%|██████████| 10/10 [00:00<00:00, 39.43it/s]\n",
      "100%|██████████| 10/10 [00:00<00:00, 41.99it/s]\n",
      "100%|██████████| 10/10 [00:00<00:00, 42.40it/s]\n",
      "100%|██████████| 10/10 [00:00<00:00, 40.66it/s]\n",
      "100%|██████████| 10/10 [00:00<00:00, 42.19it/s]\n",
      "100%|██████████| 10/10 [00:00<00:00, 24.73it/s]\n",
      "100%|██████████| 10/10 [00:00<00:00, 27.06it/s]\n",
      "100%|██████████| 10/10 [00:00<00:00, 25.45it/s]\n",
      "100%|██████████| 10/10 [00:00<00:00, 25.93it/s]\n",
      "100%|██████████| 10/10 [00:00<00:00, 23.47it/s]\n",
      "100%|██████████| 10/10 [00:00<00:00, 24.00it/s]\n",
      "100%|██████████| 10/10 [00:00<00:00, 24.14it/s]\n",
      "100%|██████████| 10/10 [00:00<00:00, 27.44it/s]\n",
      "100%|██████████| 10/10 [00:00<00:00, 26.03it/s]\n",
      "100%|██████████| 10/10 [00:00<00:00, 26.02it/s]\n",
      "100%|██████████| 10/10 [00:00<00:00, 26.28it/s]\n"
     ]
    }
   ],
   "source": [
    "stats, alpha, max_mod = flow_capacity_leiden(G_small, quality=\"n\")\n",
    "res_flow_capacity[\"leiden_small_nmi\"] =  stats\n",
    "alpha_mod[\"leiden_small_kappa\"] = [alpha, max_mod]\n",
    "\n",
    "stats, alpha, max_mod = flow_capacity_leiden(G_medium, quality=\"n\")\n",
    "res_flow_capacity[\"leiden_medium_nmi\"] =  stats\n",
    "alpha_mod[\"leiden_medium_kappa\"] = [alpha, max_mod]\n",
    "\n",
    "stats, alpha, max_mod = flow_capacity_leiden(eucore, quality=\"n\")\n",
    "res_flow_capacity[\"leiden_eucore_nmi\"] =  stats\n",
    "alpha_mod[\"leiden_eucore_kappa\"] = [alpha, max_mod]"
   ]
  },
  {
   "cell_type": "code",
   "execution_count": 345,
   "metadata": {},
   "outputs": [
    {
     "data": {
      "text/plain": [
       "{'louvain_small': {'a_modularity': 0.22040372463510147,\n",
       "  'var_modularity': 7.341418713230742e-05,\n",
       "  'a_nmi': 0.406818467214035,\n",
       "  'var_nmi': 0.0029729149646155356,\n",
       "  'a_kappa': 0.21489653562151592,\n",
       "  'var_kappa': 0.03167928754064294,\n",
       "  'accuracy': 0.2332045295682035},\n",
       " 'louvain_medium': {'a_modularity': 0.03950353355293583,\n",
       "  'var_modularity': 1.6237696395987477e-05,\n",
       "  'a_nmi': 0.4829958024389989,\n",
       "  'var_nmi': 0.0009724240742650939,\n",
       "  'a_kappa': 0.2989701760064828,\n",
       "  'var_kappa': 0.028322377093356103,\n",
       "  'accuracy': 0.30945764687453853},\n",
       " 'louvain_large': {'a_modularity': 0.6406531414749004,\n",
       "  'var_modularity': 1.2055146560664831e-05,\n",
       "  'a_nmi': 0.8183162978295063,\n",
       "  'var_nmi': 0.0004674833185067317,\n",
       "  'a_kappa': 0.7917429804687125,\n",
       "  'var_kappa': 0.03584056395926005,\n",
       "  'accuracy': 0.7576188152908707},\n",
       " 'louvain_eucore': {'a_modularity': 0.430519205824738,\n",
       "  'var_modularity': 3.547806864808918e-05,\n",
       "  'a_nmi': 0.15125527439412859,\n",
       "  'var_nmi': 5.319021001790765e-05,\n",
       "  'a_kappa': 0.021513796296942302,\n",
       "  'var_kappa': 0.00030784403097858985,\n",
       "  'accuracy': 0.007228144754862621},\n",
       " 'leiden_small': {'a_modularity': 0.231438011747953,\n",
       "  'var_modularity': 7.703719777548943e-34,\n",
       "  'a_nmi': 0.43692979388154385,\n",
       "  'var_nmi': 3.0814879110195774e-33,\n",
       "  'a_kappa': 0.2557569389720689,\n",
       "  'var_kappa': 3.0814879110195774e-33},\n",
       " 'leiden_medium': {'a_modularity': 0.07126962732063193,\n",
       "  'var_modularity': 0.0,\n",
       "  'a_nmi': 0.44747395430860587,\n",
       "  'var_nmi': 0.0,\n",
       "  'a_kappa': 0.40649008766193007,\n",
       "  'var_kappa': 1.232595164407831e-32}}"
      ]
     },
     "execution_count": 345,
     "metadata": {},
     "output_type": "execute_result"
    }
   ],
   "source": [
    "modularit = []"
   ]
  },
  {
   "cell_type": "code",
   "execution_count": 347,
   "metadata": {},
   "outputs": [
    {
     "data": {
      "text/plain": [
       "dict_keys(['louvain_small_modularity', 'louvain_small_kappa', 'louvain_medium_nmi', 'louvain_medium_kappa', 'louvain_eucore_kappa', 'louvain_eucore_modularity', 'louvain_eucore_nmi', 'leiden_small_modularity', 'leiden_medium_modularity', 'leiden_eucore_modularity', 'leiden_small_kappa', 'leiden_medium_kappa', 'leiden_eucore_kappa', 'leiden_small_nmi', 'leiden_medium_nmi', 'leiden_eucore_nmi'])"
      ]
     },
     "execution_count": 347,
     "metadata": {},
     "output_type": "execute_result"
    }
   ],
   "source": [
    "res_flow_capacity.keys()"
   ]
  },
  {
   "cell_type": "code",
   "execution_count": 349,
   "metadata": {},
   "outputs": [
    {
     "data": {
      "text/plain": [
       "dict_keys(['louvain_small', 'louvain_medium', 'louvain_large', 'louvain_eucore', 'leiden_small', 'leiden_medium'])"
      ]
     },
     "execution_count": 349,
     "metadata": {},
     "output_type": "execute_result"
    }
   ],
   "source": [
    "modularities = [res_flow_capacity[key][\"a_modularity\"] for key in res_flow_capacity ]\n",
    "nmis = [res_flow_capacity[key][\"a_nmi\"] for key in res_flow_capacity ]\n",
    "kappas = [res_flow_capacity[key][\"a_kappa\"] for key in res_flow_capacity ]\n",
    "\n",
    "\n",
    "\n",
    "colors = [label_colors[str(key).split(\"_\")[0]] for key in res_flow_capacity]\n",
    "res.keys()\n"
   ]
  },
  {
   "cell_type": "code",
   "execution_count": 352,
   "metadata": {},
   "outputs": [
    {
     "name": "stderr",
     "output_type": "stream",
     "text": [
      "C:\\Users\\Felipe Cintra\\AppData\\Local\\Temp\\ipykernel_21500\\4056941909.py:5: UserWarning: set_ticklabels() should only be used with a fixed number of ticks, i.e. after set_ticks() or using a FixedLocator.\n",
      "  ax[0].set_xticklabels(ax[0].get_xticklabels(),  rotation=45, horizontalalignment=\"right\")\n",
      "C:\\Users\\Felipe Cintra\\AppData\\Local\\Temp\\ipykernel_21500\\4056941909.py:11: UserWarning: set_ticklabels() should only be used with a fixed number of ticks, i.e. after set_ticks() or using a FixedLocator.\n",
      "  ax[1].set_xticklabels(ax[0].get_xticklabels(),  rotation=45, horizontalalignment=\"right\")\n",
      "C:\\Users\\Felipe Cintra\\AppData\\Local\\Temp\\ipykernel_21500\\4056941909.py:16: UserWarning: set_ticklabels() should only be used with a fixed number of ticks, i.e. after set_ticks() or using a FixedLocator.\n",
      "  ax[2].set_xticklabels(ax[0].get_xticklabels(),  rotation=45, horizontalalignment=\"right\")\n"
     ]
    },
    {
     "data": {
      "text/plain": [
       "Text(0.5, 0.98, 'Performance Metrics of Flow-Capacity Algorithms')"
      ]
     },
     "execution_count": 352,
     "metadata": {},
     "output_type": "execute_result"
    },
    {
     "data": {
      "image/png": "[encoded data removed]",
      "text/plain": [
       "<Figure size 1800x400 with 3 Axes>"
      ]
     },
     "metadata": {},
     "output_type": "display_data"
    }
   ],
   "source": [
    "fig, ax = plt.subplots(1,3, figsize=(18,4))\n",
    "\n",
    "# modularity\n",
    "ax[0].bar([key for key in res_flow_capacity], modularities, color=colors)\n",
    "ax[0].set_xticklabels(ax[0].get_xticklabels(),  rotation=45, horizontalalignment=\"right\")\n",
    "ax[0].set_title(\"Modularity\", fontsize=16)\n",
    "\n",
    "\n",
    "# nmi\n",
    "ax[1].bar([key for key in res_flow_capacity], nmis, color=colors)\n",
    "ax[1].set_xticklabels(ax[0].get_xticklabels(),  rotation=45, horizontalalignment=\"right\")\n",
    "ax[1].set_title(\"NMI\", fontsize=16)\n",
    "\n",
    "# kappa\n",
    "ax[2].bar([key for key in res_flow_capacity], kappas, color=colors)\n",
    "ax[2].set_xticklabels(ax[0].get_xticklabels(),  rotation=45, horizontalalignment=\"right\")\n",
    "ax[2].set_title(\"Kappa\", fontsize=16)\n",
    "\n",
    "plt.subplots_adjust(top=0.8)\n",
    "plt.suptitle(\"Performance Metrics of Flow-Capacity Algorithms\", fontsize=20)"
   ]
  },
  {
   "cell_type": "code",
   "execution_count": null,
   "metadata": {},
   "outputs": [],
   "source": []
  }
 ],
 "metadata": {
  "kernelspec": {
   "display_name": ".venv",
   "language": "python",
   "name": "python3"
  },
  "language_info": {
   "codemirror_mode": {
    "name": "ipython",
    "version": 3
   },
   "file_extension": ".py",
   "mimetype": "text/x-python",
   "name": "python",
   "nbconvert_exporter": "python",
   "pygments_lexer": "ipython3",
   "version": "3.12.2"
  }
 },
 "nbformat": 4,
 "nbformat_minor": 2
}

{
 "cells": [
  {
   "cell_type": "code",
   "execution_count": 458,
   "metadata": {},
   "outputs": [],
   "source": [
    "import networkx as nx\n",
    "import numpy as np\n",
    "import matplotlib.pyplot as plt\n",
    "import seaborn as sns\n",
    "sns.set_theme()\n",
    "import pickle\n",
    "import sklearn as sk\n",
    "from sklearn.metrics import accuracy_score, balanced_accuracy_score\n",
    "from munkres import Munkres\n",
    "import pandas as pd\n",
    "from ktools import *\n",
    "import igraph as ig\n",
    "import leidenalg\n",
    "import tqdm\n",
    "from collections import defaultdict"
   ]
  },
  {
   "cell_type": "code",
   "execution_count": null,
   "metadata": {},
   "outputs": [],
   "source": []
  },
  {
   "cell_type": "code",
   "execution_count": 459,
   "metadata": {},
   "outputs": [],
   "source": [
    "res = {}\n"
   ]
  },
  {
   "cell_type": "code",
   "execution_count": 460,
   "metadata": {},
   "outputs": [],
   "source": [
    "label_colors = {\"louvain\":sns.color_palette()[0],\n",
    "                \"leiden\": sns.color_palette()[1],\n",
    "                \"gn\":sns.color_palette()[2]}"
   ]
  },
  {
   "cell_type": "markdown",
   "metadata": {},
   "source": [
    "# Importing Data"
   ]
  },
  {
   "cell_type": "markdown",
   "metadata": {},
   "source": [
    "Data Set"
   ]
  },
  {
   "cell_type": "code",
   "execution_count": 461,
   "metadata": {},
   "outputs": [],
   "source": [
    "def create_adjacency(df:pd.DataFrame)->np.array:\n",
    "    m = max(max(df[\"zero\"].value_counts().index), max(df[\"one\"].value_counts().index)) + 1\n",
    "    A = np.zeros((m,m))\n",
    "    a,b = df[\"zero\"].to_numpy(dtype=int), df[\"one\"].to_numpy(dtype=int)\n",
    "\n",
    "    A[a,b] =1\n",
    "            \n",
    "    return A"
   ]
  },
  {
   "cell_type": "code",
   "execution_count": 462,
   "metadata": {},
   "outputs": [
    {
     "data": {
      "text/html": [
       "<div>\n",
       "<style scoped>\n",
       "    .dataframe tbody tr th:only-of-type {\n",
       "        vertical-align: middle;\n",
       "    }\n",
       "\n",
       "    .dataframe tbody tr th {\n",
       "        vertical-align: top;\n",
       "    }\n",
       "\n",
       "    .dataframe thead th {\n",
       "        text-align: right;\n",
       "    }\n",
       "</style>\n",
       "<table border=\"1\" class=\"dataframe\">\n",
       "  <thead>\n",
       "    <tr style=\"text-align: right;\">\n",
       "      <th></th>\n",
       "      <th>zero</th>\n",
       "      <th>one</th>\n",
       "      <th>d</th>\n",
       "      <th>w</th>\n",
       "    </tr>\n",
       "  </thead>\n",
       "  <tbody>\n",
       "    <tr>\n",
       "      <th>0</th>\n",
       "      <td>168</td>\n",
       "      <td>472</td>\n",
       "      <td>(168, 472)</td>\n",
       "      <td>668</td>\n",
       "    </tr>\n",
       "    <tr>\n",
       "      <th>1</th>\n",
       "      <td>168</td>\n",
       "      <td>912</td>\n",
       "      <td>(168, 912)</td>\n",
       "      <td>1212</td>\n",
       "    </tr>\n",
       "    <tr>\n",
       "      <th>2</th>\n",
       "      <td>2</td>\n",
       "      <td>790</td>\n",
       "      <td>(2, 790)</td>\n",
       "      <td>229</td>\n",
       "    </tr>\n",
       "    <tr>\n",
       "      <th>3</th>\n",
       "      <td>2</td>\n",
       "      <td>322</td>\n",
       "      <td>(2, 322)</td>\n",
       "      <td>10</td>\n",
       "    </tr>\n",
       "    <tr>\n",
       "      <th>4</th>\n",
       "      <td>2</td>\n",
       "      <td>790</td>\n",
       "      <td>(2, 790)</td>\n",
       "      <td>229</td>\n",
       "    </tr>\n",
       "    <tr>\n",
       "      <th>...</th>\n",
       "      <td>...</td>\n",
       "      <td>...</td>\n",
       "      <td>...</td>\n",
       "      <td>...</td>\n",
       "    </tr>\n",
       "    <tr>\n",
       "      <th>332328</th>\n",
       "      <td>324</td>\n",
       "      <td>367</td>\n",
       "      <td>(324, 367)</td>\n",
       "      <td>1</td>\n",
       "    </tr>\n",
       "    <tr>\n",
       "      <th>332329</th>\n",
       "      <td>790</td>\n",
       "      <td>126</td>\n",
       "      <td>(790, 126)</td>\n",
       "      <td>150</td>\n",
       "    </tr>\n",
       "    <tr>\n",
       "      <th>332330</th>\n",
       "      <td>790</td>\n",
       "      <td>126</td>\n",
       "      <td>(790, 126)</td>\n",
       "      <td>150</td>\n",
       "    </tr>\n",
       "    <tr>\n",
       "      <th>332331</th>\n",
       "      <td>782</td>\n",
       "      <td>126</td>\n",
       "      <td>(782, 126)</td>\n",
       "      <td>54</td>\n",
       "    </tr>\n",
       "    <tr>\n",
       "      <th>332332</th>\n",
       "      <td>685</td>\n",
       "      <td>643</td>\n",
       "      <td>(685, 643)</td>\n",
       "      <td>139</td>\n",
       "    </tr>\n",
       "  </tbody>\n",
       "</table>\n",
       "<p>332333 rows × 4 columns</p>\n",
       "</div>"
      ],
      "text/plain": [
       "        zero  one           d     w\n",
       "0        168  472  (168, 472)   668\n",
       "1        168  912  (168, 912)  1212\n",
       "2          2  790    (2, 790)   229\n",
       "3          2  322    (2, 322)    10\n",
       "4          2  790    (2, 790)   229\n",
       "...      ...  ...         ...   ...\n",
       "332328   324  367  (324, 367)     1\n",
       "332329   790  126  (790, 126)   150\n",
       "332330   790  126  (790, 126)   150\n",
       "332331   782  126  (782, 126)    54\n",
       "332332   685  643  (685, 643)   139\n",
       "\n",
       "[332333 rows x 4 columns]"
      ]
     },
     "execution_count": 462,
     "metadata": {},
     "output_type": "execute_result"
    }
   ],
   "source": [
    "data = pd.read_csv(r\"data\\email-Eu-core-temporal.txt.gz\")\n",
    "data = data.map(str.split)\n",
    "series_d, series_0,  series_1, t = data.map(lambda x:(x[0], x[1])).values.flatten(),data.map(lambda x:x[0]).values.flatten(), data.map(lambda x:x[1]).values.flatten(), data.map(lambda x:x[2]).values.flatten()\n",
    "\n",
    "series_d = pd.Series(series_d)\n",
    "wt = pd.Series(series_d).value_counts()\n",
    "\n",
    "\n",
    "to_integer = np.vectorize(int)\n",
    "edges = pd.DataFrame({\"zero\": to_integer(series_0), \"one\": to_integer(series_1), \"d\": series_d, \"w\": series_d.map(lambda x: wt[x])})\n",
    "\n",
    "\n",
    "edges"
   ]
  },
  {
   "cell_type": "code",
   "execution_count": 463,
   "metadata": {},
   "outputs": [
    {
     "data": {
      "text/html": [
       "<div>\n",
       "<style scoped>\n",
       "    .dataframe tbody tr th:only-of-type {\n",
       "        vertical-align: middle;\n",
       "    }\n",
       "\n",
       "    .dataframe tbody tr th {\n",
       "        vertical-align: top;\n",
       "    }\n",
       "\n",
       "    .dataframe thead th {\n",
       "        text-align: right;\n",
       "    }\n",
       "</style>\n",
       "<table border=\"1\" class=\"dataframe\">\n",
       "  <thead>\n",
       "    <tr style=\"text-align: right;\">\n",
       "      <th></th>\n",
       "      <th>zero</th>\n",
       "      <th>one</th>\n",
       "      <th>d</th>\n",
       "      <th>w</th>\n",
       "    </tr>\n",
       "  </thead>\n",
       "  <tbody>\n",
       "    <tr>\n",
       "      <th>0</th>\n",
       "      <td>168</td>\n",
       "      <td>472</td>\n",
       "      <td>(168, 472)</td>\n",
       "      <td>668</td>\n",
       "    </tr>\n",
       "    <tr>\n",
       "      <th>1</th>\n",
       "      <td>168</td>\n",
       "      <td>912</td>\n",
       "      <td>(168, 912)</td>\n",
       "      <td>1212</td>\n",
       "    </tr>\n",
       "    <tr>\n",
       "      <th>2</th>\n",
       "      <td>2</td>\n",
       "      <td>790</td>\n",
       "      <td>(2, 790)</td>\n",
       "      <td>229</td>\n",
       "    </tr>\n",
       "    <tr>\n",
       "      <th>3</th>\n",
       "      <td>2</td>\n",
       "      <td>322</td>\n",
       "      <td>(2, 322)</td>\n",
       "      <td>10</td>\n",
       "    </tr>\n",
       "    <tr>\n",
       "      <th>4</th>\n",
       "      <td>2</td>\n",
       "      <td>790</td>\n",
       "      <td>(2, 790)</td>\n",
       "      <td>229</td>\n",
       "    </tr>\n",
       "    <tr>\n",
       "      <th>...</th>\n",
       "      <td>...</td>\n",
       "      <td>...</td>\n",
       "      <td>...</td>\n",
       "      <td>...</td>\n",
       "    </tr>\n",
       "    <tr>\n",
       "      <th>332328</th>\n",
       "      <td>324</td>\n",
       "      <td>367</td>\n",
       "      <td>(324, 367)</td>\n",
       "      <td>1</td>\n",
       "    </tr>\n",
       "    <tr>\n",
       "      <th>332329</th>\n",
       "      <td>790</td>\n",
       "      <td>126</td>\n",
       "      <td>(790, 126)</td>\n",
       "      <td>150</td>\n",
       "    </tr>\n",
       "    <tr>\n",
       "      <th>332330</th>\n",
       "      <td>790</td>\n",
       "      <td>126</td>\n",
       "      <td>(790, 126)</td>\n",
       "      <td>150</td>\n",
       "    </tr>\n",
       "    <tr>\n",
       "      <th>332331</th>\n",
       "      <td>782</td>\n",
       "      <td>126</td>\n",
       "      <td>(782, 126)</td>\n",
       "      <td>54</td>\n",
       "    </tr>\n",
       "    <tr>\n",
       "      <th>332332</th>\n",
       "      <td>685</td>\n",
       "      <td>643</td>\n",
       "      <td>(685, 643)</td>\n",
       "      <td>139</td>\n",
       "    </tr>\n",
       "  </tbody>\n",
       "</table>\n",
       "<p>332333 rows × 4 columns</p>\n",
       "</div>"
      ],
      "text/plain": [
       "        zero  one           d     w\n",
       "0        168  472  (168, 472)   668\n",
       "1        168  912  (168, 912)  1212\n",
       "2          2  790    (2, 790)   229\n",
       "3          2  322    (2, 322)    10\n",
       "4          2  790    (2, 790)   229\n",
       "...      ...  ...         ...   ...\n",
       "332328   324  367  (324, 367)     1\n",
       "332329   790  126  (790, 126)   150\n",
       "332330   790  126  (790, 126)   150\n",
       "332331   782  126  (782, 126)    54\n",
       "332332   685  643  (685, 643)   139\n",
       "\n",
       "[332333 rows x 4 columns]"
      ]
     },
     "execution_count": 463,
     "metadata": {},
     "output_type": "execute_result"
    }
   ],
   "source": [
    "edges"
   ]
  },
  {
   "cell_type": "code",
   "execution_count": 464,
   "metadata": {},
   "outputs": [
    {
     "data": {
      "text/html": [
       "<div>\n",
       "<style scoped>\n",
       "    .dataframe tbody tr th:only-of-type {\n",
       "        vertical-align: middle;\n",
       "    }\n",
       "\n",
       "    .dataframe tbody tr th {\n",
       "        vertical-align: top;\n",
       "    }\n",
       "\n",
       "    .dataframe thead th {\n",
       "        text-align: right;\n",
       "    }\n",
       "</style>\n",
       "<table border=\"1\" class=\"dataframe\">\n",
       "  <thead>\n",
       "    <tr style=\"text-align: right;\">\n",
       "      <th></th>\n",
       "      <th>zero</th>\n",
       "      <th>one</th>\n",
       "    </tr>\n",
       "  </thead>\n",
       "  <tbody>\n",
       "    <tr>\n",
       "      <th>0</th>\n",
       "      <td>2</td>\n",
       "      <td>3</td>\n",
       "    </tr>\n",
       "    <tr>\n",
       "      <th>1</th>\n",
       "      <td>2</td>\n",
       "      <td>4</td>\n",
       "    </tr>\n",
       "    <tr>\n",
       "      <th>2</th>\n",
       "      <td>5</td>\n",
       "      <td>6</td>\n",
       "    </tr>\n",
       "    <tr>\n",
       "      <th>3</th>\n",
       "      <td>5</td>\n",
       "      <td>7</td>\n",
       "    </tr>\n",
       "    <tr>\n",
       "      <th>4</th>\n",
       "      <td>8</td>\n",
       "      <td>9</td>\n",
       "    </tr>\n",
       "    <tr>\n",
       "      <th>...</th>\n",
       "      <td>...</td>\n",
       "      <td>...</td>\n",
       "    </tr>\n",
       "    <tr>\n",
       "      <th>25565</th>\n",
       "      <td>420</td>\n",
       "      <td>143</td>\n",
       "    </tr>\n",
       "    <tr>\n",
       "      <th>25566</th>\n",
       "      <td>174</td>\n",
       "      <td>859</td>\n",
       "    </tr>\n",
       "    <tr>\n",
       "      <th>25567</th>\n",
       "      <td>440</td>\n",
       "      <td>460</td>\n",
       "    </tr>\n",
       "    <tr>\n",
       "      <th>25568</th>\n",
       "      <td>52</td>\n",
       "      <td>786</td>\n",
       "    </tr>\n",
       "    <tr>\n",
       "      <th>25569</th>\n",
       "      <td>506</td>\n",
       "      <td>932</td>\n",
       "    </tr>\n",
       "  </tbody>\n",
       "</table>\n",
       "<p>25570 rows × 2 columns</p>\n",
       "</div>"
      ],
      "text/plain": [
       "       zero  one\n",
       "0         2    3\n",
       "1         2    4\n",
       "2         5    6\n",
       "3         5    7\n",
       "4         8    9\n",
       "...     ...  ...\n",
       "25565   420  143\n",
       "25566   174  859\n",
       "25567   440  460\n",
       "25568    52  786\n",
       "25569   506  932\n",
       "\n",
       "[25570 rows x 2 columns]"
      ]
     },
     "execution_count": 464,
     "metadata": {},
     "output_type": "execute_result"
    }
   ],
   "source": [
    "#handling the edges\n",
    "data = pd.read_csv(r\"data\\email-Eu-core.txt.gz\")\n",
    "data = data.map(str.split)\n",
    "series_0 = data.map(lambda x:x[0]).values.flatten()\n",
    "series_1 = data.map(lambda x:x[1]).values.flatten()\n",
    "\n",
    "to_integer = np.vectorize(int)\n",
    "series_0 = to_integer(series_0)\n",
    "\n",
    "\n",
    "df = pd.DataFrame({\"zero\": to_integer(series_0), \"one\": to_integer(series_1)})\n",
    "df = df.dropna()\n",
    "df"
   ]
  },
  {
   "cell_type": "code",
   "execution_count": 465,
   "metadata": {},
   "outputs": [],
   "source": [
    "# Handling the Labels\n",
    "labels = pd.read_csv(r\"data\\email-Eu-core-department-labels.txt.gz\")\n",
    "\n",
    "labels= labels.map(str.split)\n",
    "series_0 = labels.map(lambda x:x[0]).values.flatten()\n",
    "series_1 = labels.map(lambda x:x[1]).values.flatten()\n",
    "\n",
    "to_integer = np.vectorize(int)\n",
    "series_0 = to_integer(series_0)\n",
    "labels = pd.DataFrame({\"node\": to_integer(series_0), \"label\": to_integer(series_1)})\n",
    "labels = labels.dropna()"
   ]
  },
  {
   "cell_type": "code",
   "execution_count": 466,
   "metadata": {},
   "outputs": [],
   "source": [
    "comms = {label: list(labels[labels[\"label\"] == label][\"node\"]) for label in labels[\"label\"].unique()}\n",
    "labels[\"community\"] = labels[\"label\"].map(comms)\n",
    "\n"
   ]
  },
  {
   "cell_type": "code",
   "execution_count": 467,
   "metadata": {},
   "outputs": [],
   "source": [
    "A = create_adjacency(df)\n",
    "eucore = nx.from_numpy_array(A)\n",
    "nx.set_node_attributes(eucore, labels[\"community\"], \"community\")\n",
    "nx.set_node_attributes(eucore, labels[\"label\"], \"label\")\n",
    "eucore.remove_node(1004)"
   ]
  },
  {
   "cell_type": "code",
   "execution_count": 468,
   "metadata": {},
   "outputs": [
    {
     "data": {
      "text/plain": [
       "0.06838781421256855"
      ]
     },
     "execution_count": 468,
     "metadata": {},
     "output_type": "execute_result"
    }
   ],
   "source": [
    "nx.attribute_assortativity_coefficient(eucore, \"label\")"
   ]
  },
  {
   "cell_type": "markdown",
   "metadata": {},
   "source": [
    "Random Networks\n"
   ]
  },
  {
   "cell_type": "code",
   "execution_count": 469,
   "metadata": {},
   "outputs": [],
   "source": [
    "def import_random_state():\n",
    "    random_state_integers = np.loadtxt(\"random_state_integers.txt\")\n",
    "    enc=\"MT19937\"\n",
    "    params = []\n",
    "    with open(r'random_state_params.txt', 'r') as fp:\n",
    "        for line in fp:\n",
    "            # remove linebreak from a current name\n",
    "            # linebreak is the last character of each line\n",
    "            x = line[:-1]\n",
    "\n",
    "            # add current item to the list\n",
    "            params.append(x)\n",
    "\n",
    "    params[0] = int(params[0])\n",
    "    params[1] = int(params[1])\n",
    "    params[2] = float(params[2])\n",
    "\n",
    "    params.insert(0,enc)\n",
    "    params.insert(1, random_state_integers)\n",
    "    \n",
    "    return tuple(params)"
   ]
  },
  {
   "cell_type": "code",
   "execution_count": 470,
   "metadata": {},
   "outputs": [],
   "source": [
    "np.random.set_state(import_random_state())"
   ]
  },
  {
   "cell_type": "code",
   "execution_count": 471,
   "metadata": {},
   "outputs": [],
   "source": [
    "G_small = pickle.load(open('small50.pickle', 'rb'))"
   ]
  },
  {
   "cell_type": "code",
   "execution_count": 472,
   "metadata": {},
   "outputs": [],
   "source": [
    "G_medium = pickle.load(open('medium250.pickle', 'rb'))"
   ]
  },
  {
   "cell_type": "code",
   "execution_count": 473,
   "metadata": {},
   "outputs": [],
   "source": [
    "G_large = pickle.load(open('large250.pickle', 'rb'))"
   ]
  },
  {
   "cell_type": "code",
   "execution_count": 474,
   "metadata": {},
   "outputs": [],
   "source": [
    "def create_gcl(G):\n",
    "    ground = {frozenset(G.nodes[v][\"community\"]) for v in G}\n",
    "\n",
    "    # ----------------------------- generating_labels ---------------------------- #\n",
    "    ground_community_labels = {}\n",
    "    counter =0\n",
    "\n",
    "    for i in ground:\n",
    "        if i not in ground_community_labels:\n",
    "            ground_community_labels[i] = counter\n",
    "            counter += 1\n",
    "\n",
    "    gcl = [ground_community_labels[frozenset(G.nodes[node][\"community\"])]  for node in G.nodes]\n",
    "\n",
    "    return gcl"
   ]
  },
  {
   "cell_type": "code",
   "execution_count": 475,
   "metadata": {},
   "outputs": [],
   "source": [
    "def create_lcl(comms,G):\n",
    "    \"\"\"create labels for the outcome communities commmunties\n",
    "    \"\"\"\n",
    "    counter = 0    \n",
    "    community_dict = {}\n",
    "    for i in comms:\n",
    "        if i not in community_dict:\n",
    "            community_dict[i] = counter\n",
    "        counter += 1\n",
    "\n",
    "    lcl = []\n",
    "    for node in G.nodes:\n",
    "        c = [x for x in comms if node in x]\n",
    "        c = c[0]\n",
    "        lcl.append(community_dict[c])\n",
    "\n",
    "    return lcl"
   ]
  },
  {
   "cell_type": "markdown",
   "metadata": {},
   "source": [
    "# Creating Baselines"
   ]
  },
  {
   "cell_type": "markdown",
   "metadata": {},
   "source": [
    "### Baseline Louvain"
   ]
  },
  {
   "cell_type": "code",
   "execution_count": 476,
   "metadata": {},
   "outputs": [],
   "source": [
    "def baseline_metrics_louvain(G, n=15):\n",
    "    ground = {frozenset(G.nodes[v][\"community\"]) for v in G}\n",
    "\n",
    "    stats_dict = {}\n",
    "    # ----------------------------- generating_labels ---------------------------- #\n",
    "    gcl = create_gcl(G)\n",
    "\n",
    "    generated_communities = [nx.community.louvain_communities(G, weight=None) for _ in range(n)]\n",
    "    \n",
    "    #calculating modularity    \n",
    "    stats_dict[\"a_modularity\"]  = np.mean([nx.community.modularity(G,c) for c in generated_communities])\n",
    "    stats_dict[\"var_modularity\"]  = np.var([nx.community.modularity(G,c) for c in generated_communities])\n",
    "\n",
    "    #calculating nmi and kappa\n",
    "    l_nmi = []\n",
    "    l_kappa = []\n",
    "    l_accur = []\n",
    "\n",
    "\n",
    "    for _ in range(n):\n",
    "        counter =0\n",
    "        comms = nx.community.louvain_communities(G)\n",
    "        comms = [frozenset(i) for i in comms]\n",
    "\n",
    "        lcl = create_lcl(comms,G)\n",
    "\n",
    "        l_nmi.append(sk.metrics.cluster.normalized_mutual_info_score(gcl, lcl))\n",
    "\n",
    "        #calculating kappa   \n",
    "        l_kappa.append(total_kappa(gcl, lcl))\n",
    "        l_accur.append(total_accuracy(gcl, lcl))\n",
    "\n",
    "\n",
    "    stats_dict[\"a_nmi\"]  = np.mean(l_nmi)\n",
    "    stats_dict[\"var_nmi\"]  = np.var(l_nmi) \n",
    "\n",
    "    stats_dict[\"a_kappa\"]  = np.mean(l_kappa)\n",
    "    stats_dict[\"var_kappa\"]  = np.var(l_kappa) \n",
    "    stats_dict[\"accuracy\"] = np.mean(l_accur)\n",
    "\n",
    "    return stats_dict"
   ]
  },
  {
   "cell_type": "code",
   "execution_count": 477,
   "metadata": {},
   "outputs": [
    {
     "data": {
      "text/plain": [
       "{'a_modularity': 0.5019465821638751,\n",
       " 'var_modularity': 1.010535554646556e-05,\n",
       " 'a_nmi': 0.7642154081660879,\n",
       " 'var_nmi': 4.930380657631324e-32,\n",
       " 'a_kappa': 0.2848151962467102,\n",
       " 'var_kappa': 0.0531670514134692,\n",
       " 'accuracy': 0.2938922703584358}"
      ]
     },
     "execution_count": 477,
     "metadata": {},
     "output_type": "execute_result"
    }
   ],
   "source": [
    "res[\"louvain_small\"] =baseline_metrics_louvain(G_small)\n",
    "res[\"louvain_small\"]"
   ]
  },
  {
   "cell_type": "code",
   "execution_count": 478,
   "metadata": {},
   "outputs": [],
   "source": [
    "res[\"louvain_medium\"] = baseline_metrics_louvain(G_medium)"
   ]
  },
  {
   "cell_type": "code",
   "execution_count": 479,
   "metadata": {},
   "outputs": [],
   "source": [
    "res[\"louvain_large\"] = baseline_metrics_louvain(G_large)"
   ]
  },
  {
   "cell_type": "code",
   "execution_count": 480,
   "metadata": {},
   "outputs": [],
   "source": [
    "res[\"louvain_eucore\"] = baseline_metrics_louvain(eucore)"
   ]
  },
  {
   "cell_type": "markdown",
   "metadata": {},
   "source": [
    "### Baseline Leiden"
   ]
  },
  {
   "cell_type": "code",
   "execution_count": 481,
   "metadata": {},
   "outputs": [],
   "source": [
    "def run_leiden(G):\n",
    "    \"\"\"\"Runs the Leidein Algorithm in a graph G\"\"\"\n",
    "    h = ig.Graph.from_networkx(G)\n",
    "    partition = leidenalg.find_partition(h, leidenalg.ModularityVertexPartition, weights=\"weight\")\n",
    "    communities = [[] for _ in range(len(partition))]\n",
    "    # Fill the communities with vertex indices\n",
    "    for vertex, community in enumerate(partition.membership):\n",
    "        communities[community].append(vertex)\n",
    "\n",
    "    return communities    "
   ]
  },
  {
   "cell_type": "code",
   "execution_count": 482,
   "metadata": {},
   "outputs": [],
   "source": [
    "def baseline_metrics_leiden(G, n=15):\n",
    "    ground = {frozenset(G.nodes[v][\"community\"]) for v in G}\n",
    "\n",
    "    stats_dict = {}\n",
    "    # ----------------------------- generating_labels ---------------------------- #\n",
    "    gcl = create_gcl(G)\n",
    "\n",
    "    generated_communities = [run_leiden(G) for _ in range(10)]\n",
    "    \n",
    "    #calculating modularity    \n",
    "    stats_dict[\"a_modularity\"]  = np.mean([nx.community.modularity(G,c) for c in generated_communities])\n",
    "    stats_dict[\"var_modularity\"]  = np.var([nx.community.modularity(G,c) for c in generated_communities])\n",
    "\n",
    "    #calculating nmi and kappa\n",
    "    l_nmi = []\n",
    "    l_kappa = []\n",
    "\n",
    "\n",
    "    for _ in range(n):\n",
    "        counter =0\n",
    "        comms = run_leiden(G)\n",
    "        comms = [frozenset(i) for i in comms]\n",
    "\n",
    "        lcl = create_lcl(comms,G)\n",
    "\n",
    "        l_nmi.append(sk.metrics.cluster.normalized_mutual_info_score(gcl, lcl))\n",
    "\n",
    "        #calculating kappa   \n",
    "        l_kappa.append(total_kappa(gcl, lcl))\n",
    "\n",
    "\n",
    "    stats_dict[\"a_nmi\"]  = np.mean(l_nmi)\n",
    "    stats_dict[\"var_nmi\"]  = np.var(l_nmi) \n",
    "\n",
    "    stats_dict[\"a_kappa\"]  = np.mean(l_kappa)\n",
    "    stats_dict[\"var_kappa\"]  = np.var(l_kappa) \n",
    "\n",
    "\n",
    "    return stats_dict\n",
    "\n"
   ]
  },
  {
   "cell_type": "code",
   "execution_count": 483,
   "metadata": {},
   "outputs": [],
   "source": [
    "res[\"leiden_small\"] = baseline_metrics_leiden(G_small)"
   ]
  },
  {
   "cell_type": "code",
   "execution_count": 484,
   "metadata": {},
   "outputs": [],
   "source": [
    "res[\"leiden_medium\"] = baseline_metrics_leiden(G_medium)"
   ]
  },
  {
   "cell_type": "code",
   "execution_count": 485,
   "metadata": {},
   "outputs": [],
   "source": [
    "#res[\"leiden_large\"] = baseline_metrics_leiden(G_large)"
   ]
  },
  {
   "cell_type": "code",
   "execution_count": 486,
   "metadata": {},
   "outputs": [],
   "source": [
    "res[\"leiden_eucore\"] = baseline_metrics_leiden(eucore)"
   ]
  },
  {
   "cell_type": "markdown",
   "metadata": {},
   "source": [
    "### Baseline GN"
   ]
  },
  {
   "cell_type": "code",
   "execution_count": 487,
   "metadata": {},
   "outputs": [],
   "source": [
    "# nx.community.girvan_newman(G_medium)\n",
    "# comp = nx.community.girvan_newman(G_large)\n",
    "# gn = tuple(sorted(c) for c in next(comp))\n",
    "\n",
    "# gn_communities = {}\n",
    "\n",
    "# for communities in tqdm.tqdm(np.itertools.islice(comp, 3)):\n",
    "#     print(tuple(sorted(c) for c in communities))"
   ]
  },
  {
   "cell_type": "code",
   "execution_count": 488,
   "metadata": {},
   "outputs": [],
   "source": [
    "def baseline_metrics_gn(G, n=15):\n",
    "    ground = {frozenset(G.nodes[v][\"community\"]) for v in G}\n",
    "    \n",
    "    stats_dict = {}\n",
    "    # ----------------------------- generating_labels ---------------------------- #\n",
    "    ground_community_labels = {}\n",
    "    counter =0\n",
    "\n",
    "    for i in ground:\n",
    "        if i not in ground_community_labels:\n",
    "            ground_community_labels[i] = counter\n",
    "            counter += 1\n",
    "\n",
    "    gcl = [ground_community_labels[frozenset(G.nodes[node][\"community\"])]  for node in G.nodes]\n",
    "    \n",
    "    nx.community.girvan_newman(G)\n",
    "    comp = nx.community.girvan_newman(G)\n",
    "    gn = tuple(sorted(c) for c in next(comp))\n",
    "\n",
    "    generated_communities = [{frozenset(c) for c in gn}] \n",
    "    #calculating modularity    \n",
    "    stats_dict[\"a_modularity\"]  = np.mean([nx.community.modularity(G,c) for c in generated_communities])\n",
    "    stats_dict[\"var_modularity\"]  = np.var([nx.community.modularity(G,c) for c in generated_communities])\n",
    "\n",
    "    #calculating nmi and kappa\n",
    "    l_nmi = []\n",
    "    l_kappa = []\n",
    "    \n",
    "    comms = frozenset(generated_communities[0]) \n",
    "    counter = 0\n",
    "\n",
    "\n",
    "    community_dict = {}\n",
    "    for i in comms:\n",
    "        if i not in community_dict:\n",
    "            community_dict[i] = counter\n",
    "        counter += 1\n",
    "\n",
    "    lcl = []\n",
    "    for node in G.nodes:\n",
    "        c = [x for x in comms if node in x]\n",
    "        c = c[0]\n",
    "        lcl.append(community_dict[c])\n",
    "\n",
    "    l_nmi.append(sk.metrics.cluster.normalized_mutual_info_score(gcl, lcl))\n",
    "\n",
    "    #calculating kappa   \n",
    "    l_kappa.append(total_kappa(gcl, lcl))\n",
    "\n",
    "\n",
    "    stats_dict[\"a_nmi\"]  = np.mean(l_nmi)\n",
    "    stats_dict[\"var_nmi\"]  = np.var(l_nmi) \n",
    "\n",
    "    stats_dict[\"a_kappa\"]  = np.mean(l_kappa)\n",
    "    stats_dict[\"var_kappa\"]  = np.var(l_kappa) \n",
    "\n",
    "\n",
    "    return stats_dict"
   ]
  },
  {
   "cell_type": "code",
   "execution_count": 489,
   "metadata": {},
   "outputs": [],
   "source": [
    "res[\"gn_small\"] = baseline_metrics_gn(G_small)"
   ]
  },
  {
   "cell_type": "code",
   "execution_count": 490,
   "metadata": {},
   "outputs": [],
   "source": [
    "res[\"gn_medium\"] = baseline_metrics_gn(G_medium)\n"
   ]
  },
  {
   "cell_type": "code",
   "execution_count": 491,
   "metadata": {},
   "outputs": [],
   "source": [
    "res[\"gn_large\"] =  baseline_metrics_gn(G_medium)"
   ]
  },
  {
   "cell_type": "code",
   "execution_count": 492,
   "metadata": {},
   "outputs": [],
   "source": [
    "# res[\"gn_eucore\"] = baseline_metrics_gn(eucore)"
   ]
  },
  {
   "cell_type": "code",
   "execution_count": 493,
   "metadata": {},
   "outputs": [
    {
     "data": {
      "text/plain": [
       "dict_keys(['louvain_small', 'louvain_medium', 'louvain_large', 'louvain_eucore', 'leiden_small', 'leiden_medium', 'leiden_eucore', 'gn_small', 'gn_medium', 'gn_large'])"
      ]
     },
     "execution_count": 493,
     "metadata": {},
     "output_type": "execute_result"
    }
   ],
   "source": [
    "modularities = [res[key][\"a_modularity\"] for key in res ]\n",
    "nmis = [res[key][\"a_nmi\"] for key in res ]\n",
    "kappas = [res[key][\"a_kappa\"] for key in res ]\n",
    "\n",
    "\n",
    "\n",
    "colors = [label_colors[str(key).split(\"_\")[0]] for key in res]\n",
    "res.keys()\n"
   ]
  },
  {
   "cell_type": "code",
   "execution_count": 494,
   "metadata": {},
   "outputs": [
    {
     "name": "stderr",
     "output_type": "stream",
     "text": [
      "C:\\Users\\Felipe Cintra\\AppData\\Local\\Temp\\ipykernel_21500\\2088141532.py:5: UserWarning: set_ticklabels() should only be used with a fixed number of ticks, i.e. after set_ticks() or using a FixedLocator.\n",
      "  ax[0].set_xticklabels(ax[0].get_xticklabels(),  rotation=45, horizontalalignment=\"right\")\n",
      "C:\\Users\\Felipe Cintra\\AppData\\Local\\Temp\\ipykernel_21500\\2088141532.py:11: UserWarning: set_ticklabels() should only be used with a fixed number of ticks, i.e. after set_ticks() or using a FixedLocator.\n",
      "  ax[1].set_xticklabels(ax[0].get_xticklabels(),  rotation=45, horizontalalignment=\"right\")\n",
      "C:\\Users\\Felipe Cintra\\AppData\\Local\\Temp\\ipykernel_21500\\2088141532.py:16: UserWarning: set_ticklabels() should only be used with a fixed number of ticks, i.e. after set_ticks() or using a FixedLocator.\n",
      "  ax[2].set_xticklabels(ax[0].get_xticklabels(),  rotation=45, horizontalalignment=\"right\")\n"
     ]
    },
    {
     "data": {
      "text/plain": [
       "Text(0.5, 0.98, 'Performance Metrics of Baseline Algorithms')"
      ]
     },
     "execution_count": 494,
     "metadata": {},
     "output_type": "execute_result"
    },
    {
     "data": {
      "image/png": "[encoded data removed]",
      "text/plain": [
       "<Figure size 1800x400 with 3 Axes>"
      ]
     },
     "metadata": {},
     "output_type": "display_data"
    }
   ],
   "source": [
    "fig, ax = plt.subplots(1,3, figsize=(18,4))\n",
    "\n",
    "# modularity\n",
    "ax[0].bar([key for key in res], modularities, color=colors)\n",
    "ax[0].set_xticklabels(ax[0].get_xticklabels(),  rotation=45, horizontalalignment=\"right\")\n",
    "ax[0].set_title(\"Modularity\", fontsize=16)\n",
    "\n",
    "\n",
    "# nmi\n",
    "ax[1].bar([key for key in res], nmis, color=colors)\n",
    "ax[1].set_xticklabels(ax[0].get_xticklabels(),  rotation=45, horizontalalignment=\"right\")\n",
    "ax[1].set_title(\"NMI\", fontsize=16)\n",
    "\n",
    "# kappa\n",
    "ax[2].bar([key for key in res], kappas, color=colors)\n",
    "ax[2].set_xticklabels(ax[0].get_xticklabels(),  rotation=45, horizontalalignment=\"right\")\n",
    "ax[2].set_title(\"Kappa\", fontsize=16)\n",
    "\n",
    "plt.subplots_adjust(top=0.8)\n",
    "plt.suptitle(\"Performance Metrics of Baseline Algorithms\", fontsize=20)\n"
   ]
  },
  {
   "cell_type": "code",
   "execution_count": 495,
   "metadata": {},
   "outputs": [],
   "source": [
    "res_flow_capacity = {}\n",
    "alpha_mod = {}"
   ]
  },
  {
   "cell_type": "markdown",
   "metadata": {},
   "source": [
    "# Flow Capacity"
   ]
  },
  {
   "cell_type": "markdown",
   "metadata": {},
   "source": [
    "## Flow Capacity Louvain"
   ]
  },
  {
   "cell_type": "code",
   "execution_count": 496,
   "metadata": {},
   "outputs": [],
   "source": [
    "def flow_capacity_louvain_mod(G, quality=\"m\"):\n",
    "    metrics = []\n",
    "    alpha_vals = np.arange(0,1, 0.1)\n",
    "    gcl = create_gcl(G)\n",
    "    \n",
    "    for alpha in alpha_vals: #training\n",
    "        A = nx.adjacency_matrix(G, weight=None)\n",
    "        I = nx.adjacency_matrix(G, weight=\"weight\")/np.sum(nx.adjacency_matrix(G, weight=\"weight\"))\n",
    "        F = (1-alpha)*A + alpha*I\n",
    "        F = nx.from_numpy_array(F)\n",
    "        # ---------------------------------- running algorithm --------------------------------- #\n",
    "\n",
    " \n",
    "        generated_communities = [nx.community.louvain_communities(F, weight=\"weight\") for _ in tqdm.tqdm(range(5))]\n",
    "\n",
    "\n",
    "        if quality == \"m\":   # metric = modularity\n",
    "            metrics.append(np.mean([nx.community.modularity(G,c) for c in generated_communities]))\n",
    "\n",
    "        else:\n",
    "            l = []\n",
    "\n",
    "            for comms in generated_communities:\n",
    "                comms = [frozenset(i) for i in comms]\n",
    "                lcl = create_lcl(comms,G)\n",
    "\n",
    "                if quality == \"n\":\n",
    "                    l.append(sk.metrics.cluster.normalized_mutual_info_score(gcl, lcl)) # metric nmi\n",
    "                else:\n",
    "                    l.append(total_kappa(gcl, lcl)) # metric kappa\n",
    "\n",
    "            metrics.append(np.mean(l)) \n",
    "\n",
    "\n",
    "\n",
    "    # ------------------------- applying trained version ------------------------- #\n",
    "\n",
    "    alpha_index, max_metric = metrics.index(max(metrics)), max(metrics) #gets index with highest alpha value, gets highest metric value\n",
    "    max_alpha = alpha_vals[alpha_index]\n",
    "\n",
    "    I = nx.adjacency_matrix(G, weight=\"weight\")/np.sum(nx.adjacency_matrix(G, weight=\"weight\"))\n",
    "    F = (1-max_alpha)*A + max_alpha*I\n",
    "    \n",
    "    F = nx.from_numpy_array(F)\n",
    "\n",
    "    stats_dict = {}\n",
    "    # ----------------------------- generating_labels ---------------------------- #\n",
    "\n",
    "\n",
    "    generated_communities = [nx.community.louvain_communities(F) for _ in range(10)]\n",
    "    \n",
    "    #calculating modularity    \n",
    "    stats_dict[\"a_modularity\"]  = np.mean([nx.community.modularity(G,c) for c in generated_communities])\n",
    "    stats_dict[\"var_modularity\"]  = np.var([nx.community.modularity(G,c) for c in generated_communities])\n",
    "\n",
    "    #calculating nmi and kappa\n",
    "    l_nmi = []\n",
    "    l_kappa = []\n",
    "    l_accur = []\n",
    "\n",
    "\n",
    "    for _ in range(15):\n",
    "        counter =0\n",
    "        comms = nx.community.louvain_communities(F)\n",
    "        comms = [frozenset(i) for i in comms]\n",
    "\n",
    "        lcl = create_lcl(comms,G)\n",
    "\n",
    "        l_nmi.append(sk.metrics.cluster.normalized_mutual_info_score(gcl, lcl))\n",
    "\n",
    "        #calculating kappa   \n",
    "        l_kappa.append(total_kappa(gcl, lcl))\n",
    "        l_accur.append(total_accuracy(gcl, lcl))\n",
    "\n",
    "\n",
    "    stats_dict[\"a_nmi\"]  = np.mean(l_nmi)\n",
    "    stats_dict[\"var_nmi\"]  = np.var(l_nmi) \n",
    "\n",
    "    stats_dict[\"a_kappa\"]  = np.mean(l_kappa)\n",
    "    stats_dict[\"var_kappa\"]  = np.var(l_kappa) \n",
    "    stats_dict[\"accuracy\"] = np.mean(l_accur)\n",
    "\n",
    "    \n",
    "    return stats_dict, max_alpha, metrics"
   ]
  },
  {
   "cell_type": "code",
   "execution_count": 497,
   "metadata": {},
   "outputs": [
    {
     "name": "stderr",
     "output_type": "stream",
     "text": [
      "100%|██████████| 5/5 [00:00<00:00, 497.25it/s]"
     ]
    },
    {
     "name": "stderr",
     "output_type": "stream",
     "text": [
      "\n",
      "100%|██████████| 5/5 [00:00<00:00, 413.84it/s]\n",
      "100%|██████████| 5/5 [00:00<00:00, 454.46it/s]\n",
      "100%|██████████| 5/5 [00:00<00:00, 454.44it/s]\n",
      "100%|██████████| 5/5 [00:00<00:00, 477.61it/s]\n",
      "100%|██████████| 5/5 [00:00<00:00, 454.10it/s]\n",
      "100%|██████████| 5/5 [00:00<00:00, 498.91it/s]\n",
      "100%|██████████| 5/5 [00:00<00:00, 555.35it/s]\n",
      "100%|██████████| 5/5 [00:00<00:00, 500.35it/s]\n",
      "100%|██████████| 5/5 [00:00<00:00, 499.68it/s]\n"
     ]
    }
   ],
   "source": [
    "stats, alpha, max_mod = flow_capacity_louvain_mod(G_small, quality=\"q\")\n",
    "res_flow_capacity[\"louvain_small_modularity\"] =  stats\n",
    "alpha_mod[\"louvain_small_modularity\"] = [alpha, max_mod]"
   ]
  },
  {
   "cell_type": "code",
   "execution_count": 498,
   "metadata": {},
   "outputs": [
    {
     "name": "stderr",
     "output_type": "stream",
     "text": [
      "100%|██████████| 5/5 [00:00<00:00, 525.30it/s]\n",
      "100%|██████████| 5/5 [00:00<00:00, 477.36it/s]\n",
      "100%|██████████| 5/5 [00:00<00:00, 473.94it/s]\n",
      "100%|██████████| 5/5 [00:00<00:00, 499.75it/s]\n",
      "100%|██████████| 5/5 [00:00<00:00, 499.45it/s]\n",
      "100%|██████████| 5/5 [00:00<00:00, 541.59it/s]\n",
      "100%|██████████| 5/5 [00:00<00:00, 499.93it/s]\n",
      "100%|██████████| 5/5 [00:00<00:00, 454.43it/s]\n",
      "100%|██████████| 5/5 [00:00<00:00, 527.35it/s]\n",
      "100%|██████████| 5/5 [00:00<00:00, 294.07it/s]\n"
     ]
    }
   ],
   "source": [
    "stats, alpha, max_mod = flow_capacity_louvain_mod(G_small, quality=\"k\")\n",
    "res_flow_capacity[\"louvain_small_kappa\"] =  stats\n",
    "alpha_mod[\"louvain_small_kappa\"] = [alpha, max_mod]"
   ]
  },
  {
   "cell_type": "code",
   "execution_count": 499,
   "metadata": {},
   "outputs": [
    {
     "name": "stderr",
     "output_type": "stream",
     "text": [
      "100%|██████████| 5/5 [00:00<00:00, 34.99it/s]\n",
      "100%|██████████| 5/5 [00:00<00:00, 38.38it/s]\n",
      "100%|██████████| 5/5 [00:00<00:00, 39.92it/s]\n",
      "100%|██████████| 5/5 [00:00<00:00, 39.95it/s]\n",
      "100%|██████████| 5/5 [00:00<00:00, 37.21it/s]\n",
      "100%|██████████| 5/5 [00:00<00:00, 40.23it/s]\n",
      "100%|██████████| 5/5 [00:00<00:00, 40.19it/s]\n",
      "100%|██████████| 5/5 [00:00<00:00, 43.46it/s]\n",
      "100%|██████████| 5/5 [00:00<00:00, 36.75it/s]\n",
      "100%|██████████| 5/5 [00:00<00:00, 40.98it/s]\n"
     ]
    }
   ],
   "source": [
    "stats, alpha, max_mod = flow_capacity_louvain_mod(G_medium, quality=\"q\")\n",
    "res_flow_capacity[\"louvain_medium_nmi\"] =  stats\n",
    "alpha_mod[\"louvain_medium_nmi\"] = [alpha, max_mod]\n"
   ]
  },
  {
   "cell_type": "code",
   "execution_count": 500,
   "metadata": {},
   "outputs": [
    {
     "name": "stderr",
     "output_type": "stream",
     "text": [
      "100%|██████████| 5/5 [00:00<00:00, 37.91it/s]\n",
      "100%|██████████| 5/5 [00:00<00:00, 38.32it/s]\n",
      "100%|██████████| 5/5 [00:00<00:00, 36.89it/s]\n",
      "100%|██████████| 5/5 [00:00<00:00, 36.54it/s]\n",
      "100%|██████████| 5/5 [00:00<00:00, 34.66it/s]\n",
      "100%|██████████| 5/5 [00:00<00:00, 34.46it/s]\n",
      "100%|██████████| 5/5 [00:00<00:00, 34.43it/s]\n",
      "100%|██████████| 5/5 [00:00<00:00, 39.41it/s]\n",
      "100%|██████████| 5/5 [00:00<00:00, 32.68it/s]\n",
      "100%|██████████| 5/5 [00:00<00:00, 39.19it/s]\n"
     ]
    }
   ],
   "source": [
    "stats, alpha, max_mod = flow_capacity_louvain_mod(G_medium, quality=\"k\")\n",
    "res_flow_capacity[\"louvain_medium_kappa\"] =  stats\n",
    "alpha_mod[\"louvain_medium_kappa\"] = [alpha, max_mod]"
   ]
  },
  {
   "cell_type": "code",
   "execution_count": 501,
   "metadata": {},
   "outputs": [
    {
     "name": "stderr",
     "output_type": "stream",
     "text": [
      "100%|██████████| 5/5 [00:00<00:00, 36.76it/s]\n",
      "100%|██████████| 5/5 [00:00<00:00, 39.02it/s]\n",
      "100%|██████████| 5/5 [00:00<00:00, 37.21it/s]\n",
      "100%|██████████| 5/5 [00:00<00:00, 36.53it/s]\n",
      "100%|██████████| 5/5 [00:00<00:00, 37.87it/s]\n",
      "100%|██████████| 5/5 [00:00<00:00, 35.19it/s]\n",
      "100%|██████████| 5/5 [00:00<00:00, 37.08it/s]\n",
      "100%|██████████| 5/5 [00:00<00:00, 38.38it/s]\n",
      "100%|██████████| 5/5 [00:00<00:00, 37.90it/s]\n",
      "100%|██████████| 5/5 [00:00<00:00, 37.17it/s]\n"
     ]
    }
   ],
   "source": [
    "stats, alpha, max_mod = flow_capacity_louvain_mod(G_medium, quality=\"n\")\n",
    "res_flow_capacity[\"louvain_medium_nmi\"] =  stats\n",
    "alpha_mod[\"louvain_medium_nmi\"] = [alpha, max_mod]"
   ]
  },
  {
   "cell_type": "code",
   "execution_count": 502,
   "metadata": {},
   "outputs": [
    {
     "name": "stderr",
     "output_type": "stream",
     "text": [
      "100%|██████████| 5/5 [00:00<00:00,  5.79it/s]\n",
      "100%|██████████| 5/5 [00:00<00:00,  5.47it/s]\n",
      "100%|██████████| 5/5 [00:00<00:00,  5.91it/s]\n",
      "100%|██████████| 5/5 [00:00<00:00,  5.04it/s]\n",
      "100%|██████████| 5/5 [00:00<00:00,  6.64it/s]\n",
      "100%|██████████| 5/5 [00:01<00:00,  3.64it/s]\n",
      "100%|██████████| 5/5 [00:01<00:00,  3.97it/s]\n",
      "100%|██████████| 5/5 [00:00<00:00,  5.34it/s]\n",
      "100%|██████████| 5/5 [00:00<00:00,  5.37it/s]\n",
      "100%|██████████| 5/5 [00:00<00:00,  5.63it/s]\n"
     ]
    },
    {
     "data": {
      "text/plain": [
       "({'a_modularity': 0.4316116738663441,\n",
       "  'var_modularity': 2.1078030895957835e-06,\n",
       "  'a_nmi': 0.14898502699739763,\n",
       "  'var_nmi': 3.3064344668145154e-05,\n",
       "  'a_kappa': 0.019115545797670105,\n",
       "  'var_kappa': 0.00017465176015816727,\n",
       "  'accuracy': 0.006910515834817329},\n",
       " 0.7000000000000001,\n",
       " [0.026909859920304757,\n",
       "  0.023112629963123774,\n",
       "  0.014918607423943759,\n",
       "  0.013919336382580342,\n",
       "  0.022513067338305725,\n",
       "  0.02351233837966914,\n",
       "  0.016117732673579858,\n",
       "  0.02810898516994086,\n",
       "  0.008523272759217892,\n",
       "  0.01591787846530717])"
      ]
     },
     "execution_count": 502,
     "metadata": {},
     "output_type": "execute_result"
    }
   ],
   "source": [
    "stats, alpha, max_mod = flow_capacity_louvain_mod(eucore, quality=\"k\")\n",
    "res_flow_capacity[\"louvain_eucore_kappa\"] =  stats\n",
    "alpha_mod[\"louvain_eucore_kappa\"] = [alpha, max_mod]\n",
    "\n",
    "stats, alpha, max_mod"
   ]
  },
  {
   "cell_type": "code",
   "execution_count": 503,
   "metadata": {},
   "outputs": [
    {
     "name": "stderr",
     "output_type": "stream",
     "text": [
      "100%|██████████| 5/5 [00:01<00:00,  4.92it/s]\n",
      "100%|██████████| 5/5 [00:00<00:00,  5.58it/s]\n",
      "100%|██████████| 5/5 [00:00<00:00,  5.82it/s]\n",
      "100%|██████████| 5/5 [00:00<00:00,  5.64it/s]\n",
      "100%|██████████| 5/5 [00:00<00:00,  5.54it/s]\n",
      "100%|██████████| 5/5 [00:00<00:00,  5.13it/s]\n",
      "100%|██████████| 5/5 [00:00<00:00,  6.34it/s]\n",
      "100%|██████████| 5/5 [00:01<00:00,  4.98it/s]\n",
      "100%|██████████| 5/5 [00:00<00:00,  6.00it/s]\n",
      "100%|██████████| 5/5 [00:00<00:00,  5.90it/s]\n"
     ]
    },
    {
     "data": {
      "text/plain": [
       "({'a_modularity': 0.43088561220567084,\n",
       "  'var_modularity': 8.598159825652702e-06,\n",
       "  'a_nmi': 0.15149368400179947,\n",
       "  'var_nmi': 2.6317543026264968e-05,\n",
       "  'a_kappa': 0.01731685792321596,\n",
       "  'var_kappa': 0.00010794911353578444,\n",
       "  'accuracy': 0.006264300429380671},\n",
       " 0.2,\n",
       " [0.014918607423943759,\n",
       "  0.00972239800885399,\n",
       "  0.032305923543667216,\n",
       "  0.014518899007398393,\n",
       "  0.016717295298397907,\n",
       "  0.017516712131488643,\n",
       "  0.020314671047306204,\n",
       "  0.01851598317285206,\n",
       "  0.029308110419576962,\n",
       "  0.023712192587941824])"
      ]
     },
     "execution_count": 503,
     "metadata": {},
     "output_type": "execute_result"
    }
   ],
   "source": [
    "stats, alpha, max_mod = flow_capacity_louvain_mod(eucore, quality=\"q\")\n",
    "res_flow_capacity[\"louvain_eucore_modularity\"] =  stats\n",
    "alpha_mod[\"louvain_eucore_modularity\"] = [alpha, max_mod]\n",
    "\n",
    "\n",
    "stats, alpha, max_mod"
   ]
  },
  {
   "cell_type": "code",
   "execution_count": 504,
   "metadata": {},
   "outputs": [
    {
     "name": "stderr",
     "output_type": "stream",
     "text": [
      "100%|██████████| 5/5 [00:00<00:00,  6.65it/s]\n",
      "100%|██████████| 5/5 [00:01<00:00,  3.60it/s]\n",
      "100%|██████████| 5/5 [00:00<00:00,  5.54it/s]\n",
      "100%|██████████| 5/5 [00:00<00:00,  5.64it/s]\n",
      "100%|██████████| 5/5 [00:00<00:00,  5.63it/s]\n",
      "100%|██████████| 5/5 [00:00<00:00,  5.64it/s]\n",
      "100%|██████████| 5/5 [00:00<00:00,  5.80it/s]\n",
      "100%|██████████| 5/5 [00:00<00:00,  5.57it/s]\n",
      "100%|██████████| 5/5 [00:00<00:00,  6.41it/s]\n",
      "100%|██████████| 5/5 [00:00<00:00,  5.74it/s]\n"
     ]
    },
    {
     "data": {
      "text/plain": [
       "({'a_modularity': 0.43185119875301164,\n",
       "  'var_modularity': 1.0674481034387832e-06,\n",
       "  'a_nmi': 0.14985323473406578,\n",
       "  'var_nmi': 6.700280319137001e-05,\n",
       "  'a_kappa': 0.024178519073911418,\n",
       "  'var_kappa': 0.00019170243003995002,\n",
       "  'accuracy': 0.007046184344361008},\n",
       " 0.30000000000000004,\n",
       " [0.15324123969696063,\n",
       "  0.1507631881059582,\n",
       "  0.1483553153077715,\n",
       "  0.15428466257307422,\n",
       "  0.14971240507873065,\n",
       "  0.14607571133090175,\n",
       "  0.14851221641445464,\n",
       "  0.14610868998634882,\n",
       "  0.1526780545046493,\n",
       "  0.1506205371341403])"
      ]
     },
     "execution_count": 504,
     "metadata": {},
     "output_type": "execute_result"
    }
   ],
   "source": [
    "stats, alpha, max_mod = flow_capacity_louvain_mod(eucore, quality=\"n\")\n",
    "res_flow_capacity[\"louvain_eucore_nmi\"] =  stats\n",
    "alpha_mod[\"louvain_eucore_nmi\"] = [alpha, max_mod]\n",
    "\n",
    "stats, alpha, max_mod"
   ]
  },
  {
   "cell_type": "markdown",
   "metadata": {},
   "source": [
    "## Flow Capacity Leidein"
   ]
  },
  {
   "cell_type": "code",
   "execution_count": 505,
   "metadata": {},
   "outputs": [],
   "source": [
    "def flow_capacity_leiden(G, quality=\"m\"):\n",
    "    metrics = []\n",
    "    alpha_vals = np.arange(0,1, 0.1)\n",
    "    gcl = create_gcl(G)\n",
    "    \n",
    "    for alpha in alpha_vals: #training\n",
    "        A = nx.adjacency_matrix(G, weight=None)\n",
    "        I = nx.adjacency_matrix(G, weight=\"weight\")/np.sum(nx.adjacency_matrix(G, weight=\"weight\"))\n",
    "        F = (1-alpha)*A + alpha*I\n",
    "        F = nx.from_numpy_array(F)\n",
    "        # ---------------------------------- running algorithm --------------------------------- #\n",
    "\n",
    " \n",
    "        generated_communities = [run_leiden(F) for _ in tqdm.tqdm(range(10))]\n",
    "\n",
    "\n",
    "        if quality == \"m\":   # metric = modularity\n",
    "            metrics.append(np.mean([nx.community.modularity(G,c) for c in generated_communities]))\n",
    "\n",
    "        else:\n",
    "            l = []\n",
    "\n",
    "            for comms in generated_communities:\n",
    "                comms = [frozenset(i) for i in comms]\n",
    "                lcl = create_lcl(comms,G)\n",
    "\n",
    "                if quality == \"n\":\n",
    "                    l.append(sk.metrics.cluster.normalized_mutual_info_score(gcl, lcl)) # metric nmi\n",
    "                else:\n",
    "                    l.append(total_kappa(gcl, lcl)) # metric kappa\n",
    "\n",
    "            metrics.append(np.mean(l)) \n",
    "\n",
    "\n",
    "\n",
    "    # ------------------------- applying trained version ------------------------- #\n",
    "\n",
    "    alpha_index, max_metric = metrics.index(max(metrics)), max(metrics) #gets index with highest alpha value, gets highest metric value\n",
    "    max_alpha = alpha_vals[alpha_index]\n",
    "\n",
    "    I = nx.adjacency_matrix(G, weight=\"weight\")/np.sum(nx.adjacency_matrix(G, weight=\"weight\"))\n",
    "    F = (1-max_alpha)*A + max_alpha*I\n",
    "    \n",
    "    F = nx.from_numpy_array(F)\n",
    "\n",
    "    stats_dict = {}\n",
    "    # ----------------------------- generating_labels ---------------------------- #\n",
    "\n",
    "\n",
    "    generated_communities = [run_leiden(F) for _ in tqdm.tqdm(range(10))]\n",
    "    \n",
    "    #calculating modularity    \n",
    "    stats_dict[\"a_modularity\"]  = np.mean([nx.community.modularity(G,c) for c in generated_communities])\n",
    "    stats_dict[\"var_modularity\"]  = np.var([nx.community.modularity(G,c) for c in generated_communities])\n",
    "\n",
    "    #calculating nmi and kappa\n",
    "    l_nmi = []\n",
    "    l_kappa = []\n",
    "    l_accur = []\n",
    "\n",
    "\n",
    "    for _ in range(15):\n",
    "        counter =0\n",
    "        comms = nx.community.louvain_communities(F)\n",
    "        comms = [frozenset(i) for i in comms]\n",
    "\n",
    "        lcl = create_lcl(comms,G)\n",
    "\n",
    "        l_nmi.append(sk.metrics.cluster.normalized_mutual_info_score(gcl, lcl))\n",
    "\n",
    "        #calculating kappa   \n",
    "        l_kappa.append(total_kappa(gcl, lcl))\n",
    "        l_accur.append(total_accuracy(gcl, lcl))\n",
    "\n",
    "\n",
    "    stats_dict[\"a_nmi\"]  = np.mean(l_nmi)\n",
    "    stats_dict[\"var_nmi\"]  = np.var(l_nmi) \n",
    "\n",
    "    stats_dict[\"a_kappa\"]  = np.mean(l_kappa)\n",
    "    stats_dict[\"var_kappa\"]  = np.var(l_kappa) \n",
    "    stats_dict[\"accuracy\"] = np.mean(l_accur)\n",
    "\n",
    "    \n",
    "    return stats_dict, max_alpha, metrics"
   ]
  },
  {
   "cell_type": "markdown",
   "metadata": {},
   "source": [
    "## Flow Capacity GN"
   ]
  },
  {
   "cell_type": "code",
   "execution_count": 506,
   "metadata": {},
   "outputs": [],
   "source": [
    "def flow_capacity_gn(G, quality=\"m\"):\n",
    "    metrics = []\n",
    "    alpha_vals = np.arange(0,1, 0.1)\n",
    "    gcl = create_gcl(G)\n",
    "    \n",
    "    for alpha in tqdm.tqdm(alpha_vals): #training\n",
    "        A = nx.adjacency_matrix(G, weight=None)\n",
    "        I = nx.adjacency_matrix(G, weight=\"weight\")/np.sum(nx.adjacency_matrix(G, weight=\"weight\"))\n",
    "        F = (1-alpha)*A + alpha*I\n",
    "        F = nx.from_numpy_array(F)\n",
    "        # ---------------------------------- running algorithm --------------------------------- #\n",
    "\n",
    " \n",
    "        nx.community.girvan_newman(G)\n",
    "        comp = nx.community.girvan_newman(G)\n",
    "        gn = tuple(sorted(c) for c in next(comp))\n",
    "\n",
    "        generated_communities = [{frozenset(c) for c in gn}] \n",
    "\n",
    "\n",
    "        if quality == \"m\":   # metric = modularity\n",
    "            metrics.append(np.mean([nx.community.modularity(G,c) for c in generated_communities]))\n",
    "\n",
    "        else:\n",
    "            l = []\n",
    "\n",
    "            for comms in generated_communities:\n",
    "                comms = frozenset(generated_communities[0]) \n",
    "                lcl = create_lcl(comms,G)\n",
    "\n",
    "                if quality == \"n\":\n",
    "                    l.append(sk.metrics.cluster.normalized_mutual_info_score(gcl, lcl)) # metric nmi\n",
    "                else:\n",
    "                    l.append(total_kappa(gcl, lcl)) # metric kappa\n",
    "\n",
    "            metrics.append(np.mean(l)) \n",
    "\n",
    "\n",
    "\n",
    "    # ------------------------- applying trained version ------------------------- #\n",
    "\n",
    "    alpha_index, max_metric = metrics.index(max(metrics)), max(metrics) #gets index with highest alpha value, gets highest metric value\n",
    "    max_alpha = alpha_vals[alpha_index]\n",
    "\n",
    "    I = nx.adjacency_matrix(G, weight=\"weight\")/np.sum(nx.adjacency_matrix(G, weight=\"weight\"))\n",
    "    F = (1-max_alpha)*A + max_alpha*I\n",
    "    \n",
    "    F = nx.from_numpy_array(F)\n",
    "\n",
    "    stats_dict = {}\n",
    "    # ----------------------------- generating_labels ---------------------------- #\n",
    "\n",
    "\n",
    "    nx.community.girvan_newman(G)\n",
    "    comp = nx.community.girvan_newman(G)\n",
    "    gn = tuple(sorted(c) for c in next(comp))\n",
    "\n",
    "    generated_communities = [{frozenset(c) for c in gn}] \n",
    "    \n",
    "    #calculating modularity    \n",
    "    stats_dict[\"a_modularity\"]  = np.mean([nx.community.modularity(G,c) for c in generated_communities])\n",
    "    stats_dict[\"var_modularity\"]  = np.var([nx.community.modularity(G,c) for c in generated_communities])\n",
    "\n",
    "    #calculating nmi and kappa\n",
    "    l_nmi = []\n",
    "    l_kappa = []\n",
    "    l_accur = []\n",
    "\n",
    "\n",
    "    for _ in range(1):\n",
    "        counter =0\n",
    "        comms = nx.community.louvain_communities(F)\n",
    "        comms = [frozenset(i) for i in comms]\n",
    "\n",
    "        lcl = create_lcl(comms,G)\n",
    "\n",
    "        l_nmi.append(sk.metrics.cluster.normalized_mutual_info_score(gcl, lcl))\n",
    "\n",
    "        #calculating kappa   \n",
    "        l_kappa.append(total_kappa(gcl, lcl))\n",
    "        l_accur.append(total_accuracy(gcl, lcl))\n",
    "\n",
    "\n",
    "    stats_dict[\"a_nmi\"]  = np.mean(l_nmi)\n",
    "    stats_dict[\"var_nmi\"]  = np.var(l_nmi) \n",
    "\n",
    "    stats_dict[\"a_kappa\"]  = np.mean(l_kappa)\n",
    "    stats_dict[\"var_kappa\"]  = np.var(l_kappa) \n",
    "    stats_dict[\"accuracy\"] = np.mean(l_accur)\n",
    "\n",
    "    \n",
    "    return stats_dict, max_alpha, metrics"
   ]
  },
  {
   "cell_type": "code",
   "execution_count": 507,
   "metadata": {},
   "outputs": [
    {
     "name": "stderr",
     "output_type": "stream",
     "text": [
      "100%|██████████| 10/10 [00:00<00:00, 1999.86it/s]\n",
      "100%|██████████| 10/10 [00:00<00:00, 1999.48it/s]\n",
      "100%|██████████| 10/10 [00:00<00:00, 1999.57it/s]\n",
      "100%|██████████| 10/10 [00:00<00:00, 1999.57it/s]\n",
      "100%|██████████| 10/10 [00:00<00:00, 1999.57it/s]\n",
      "100%|██████████| 10/10 [00:00<00:00, 2499.59it/s]\n",
      "100%|██████████| 10/10 [00:00<00:00, 2499.29it/s]\n",
      "100%|██████████| 10/10 [00:00<00:00, 1999.67it/s]\n",
      "100%|██████████| 10/10 [00:00<00:00, 2499.59it/s]\n",
      "100%|██████████| 10/10 [00:00<00:00, 2499.73it/s]\n",
      "100%|██████████| 10/10 [00:00<00:00, 2497.35it/s]\n",
      "100%|██████████| 10/10 [00:00<00:00, 210.03it/s]\n",
      "100%|██████████| 10/10 [00:00<00:00, 206.49it/s]\n",
      "100%|██████████| 10/10 [00:00<00:00, 210.94it/s]\n",
      "100%|██████████| 10/10 [00:00<00:00, 216.95it/s]\n",
      "100%|██████████| 10/10 [00:00<00:00, 210.10it/s]\n",
      "100%|██████████| 10/10 [00:00<00:00, 208.22it/s]\n",
      "100%|██████████| 10/10 [00:00<00:00, 212.66it/s]\n",
      "100%|██████████| 10/10 [00:00<00:00, 219.87it/s]\n",
      "100%|██████████| 10/10 [00:00<00:00, 217.28it/s]\n",
      "100%|██████████| 10/10 [00:00<00:00, 217.29it/s]\n",
      "100%|██████████| 10/10 [00:00<00:00, 203.99it/s]\n",
      "100%|██████████| 10/10 [00:00<00:00, 30.45it/s]\n",
      "100%|██████████| 10/10 [00:00<00:00, 34.41it/s]\n",
      "100%|██████████| 10/10 [00:00<00:00, 36.35it/s]\n",
      "100%|██████████| 10/10 [00:00<00:00, 23.87it/s]\n",
      "100%|██████████| 10/10 [00:00<00:00, 39.76it/s]\n",
      "100%|██████████| 10/10 [00:00<00:00, 35.49it/s]\n",
      "100%|██████████| 10/10 [00:00<00:00, 29.40it/s]\n",
      "100%|██████████| 10/10 [00:00<00:00, 27.49it/s]\n",
      "100%|██████████| 10/10 [00:00<00:00, 27.33it/s]\n",
      "100%|██████████| 10/10 [00:00<00:00, 27.17it/s]\n",
      "100%|██████████| 10/10 [00:00<00:00, 27.93it/s]\n"
     ]
    }
   ],
   "source": [
    "stats, alpha, max_mod = flow_capacity_leiden(G_small, quality=\"q\")\n",
    "res_flow_capacity[\"leiden_small_modularity\"] =  stats\n",
    "alpha_mod[\"leiden_small_modularity\"] = [alpha, max_mod]\n",
    "\n",
    "stats, alpha, max_mod = flow_capacity_leiden(G_medium, quality=\"q\")\n",
    "res_flow_capacity[\"leiden_medium_modularity\"] =  stats\n",
    "alpha_mod[\"leiden_medium_modularity\"] = [alpha, max_mod]\n",
    "\n",
    "stats, alpha, max_mod = flow_capacity_leiden(eucore, quality=\"q\")\n",
    "res_flow_capacity[\"leiden_eucore_modularity\"] =  stats\n",
    "alpha_mod[\"leiden_eucore_modularity\"] = [alpha, max_mod]"
   ]
  },
  {
   "cell_type": "code",
   "execution_count": 508,
   "metadata": {},
   "outputs": [
    {
     "name": "stderr",
     "output_type": "stream",
     "text": [
      "100%|██████████| 10/10 [00:00<00:00, 2219.56it/s]"
     ]
    },
    {
     "name": "stderr",
     "output_type": "stream",
     "text": [
      "\n",
      "100%|██████████| 10/10 [00:00<00:00, 1999.57it/s]\n",
      "100%|██████████| 10/10 [00:00<00:00, 1999.67it/s]\n",
      "100%|██████████| 10/10 [00:00<00:00, 1999.48it/s]\n",
      "100%|██████████| 10/10 [00:00<00:00, 1999.48it/s]\n",
      "100%|██████████| 10/10 [00:00<00:00, 1999.48it/s]\n",
      "100%|██████████| 10/10 [00:00<00:00, 2225.09it/s]\n",
      "100%|██████████| 10/10 [00:00<00:00, 1999.57it/s]\n",
      "100%|██████████| 10/10 [00:00<00:00, 2395.38it/s]\n",
      "100%|██████████| 10/10 [00:00<00:00, 1999.57it/s]\n",
      "100%|██████████| 10/10 [00:00<00:00, 2499.59it/s]\n",
      "100%|██████████| 10/10 [00:00<00:00, 195.96it/s]\n",
      "100%|██████████| 10/10 [00:00<00:00, 204.28it/s]\n",
      "100%|██████████| 10/10 [00:00<00:00, 208.09it/s]\n",
      "100%|██████████| 10/10 [00:00<00:00, 199.90it/s]\n",
      "100%|██████████| 10/10 [00:00<00:00, 203.95it/s]\n",
      "100%|██████████| 10/10 [00:00<00:00, 195.68it/s]\n",
      "100%|██████████| 10/10 [00:00<00:00, 203.15it/s]\n",
      "100%|██████████| 10/10 [00:00<00:00, 204.36it/s]\n",
      "100%|██████████| 10/10 [00:00<00:00, 204.35it/s]\n",
      "100%|██████████| 10/10 [00:00<00:00, 107.74it/s]\n",
      "100%|██████████| 10/10 [00:00<00:00, 210.65it/s]\n",
      "100%|██████████| 10/10 [00:00<00:00, 27.11it/s]\n",
      "100%|██████████| 10/10 [00:00<00:00, 28.10it/s]\n",
      "100%|██████████| 10/10 [00:00<00:00, 28.25it/s]\n",
      "100%|██████████| 10/10 [00:00<00:00, 29.50it/s]\n",
      "100%|██████████| 10/10 [00:00<00:00, 27.90it/s]\n",
      "100%|██████████| 10/10 [00:00<00:00, 30.97it/s]\n",
      "100%|██████████| 10/10 [00:00<00:00, 12.14it/s]\n",
      "100%|██████████| 10/10 [00:00<00:00, 26.63it/s]\n",
      "100%|██████████| 10/10 [00:00<00:00, 28.34it/s]\n",
      "100%|██████████| 10/10 [00:00<00:00, 29.87it/s]\n",
      "100%|██████████| 10/10 [00:00<00:00, 29.14it/s]\n"
     ]
    }
   ],
   "source": [
    "stats, alpha, max_mod = flow_capacity_leiden(G_small, quality=\"k\")\n",
    "res_flow_capacity[\"leiden_small_kappa\"] =  stats\n",
    "alpha_mod[\"leiden_small_kappa\"] = [alpha, max_mod]\n",
    "\n",
    "stats, alpha, max_mod = flow_capacity_leiden(G_medium, quality=\"k\")\n",
    "res_flow_capacity[\"leiden_medium_kappa\"] =  stats\n",
    "alpha_mod[\"leiden_medium_kappa\"] = [alpha, max_mod]\n",
    "\n",
    "stats, alpha, max_mod = flow_capacity_leiden(eucore, quality=\"k\")\n",
    "res_flow_capacity[\"leiden_eucore_kappa\"] =  stats\n",
    "alpha_mod[\"leiden_eucore_kappa\"] = [alpha, max_mod]"
   ]
  },
  {
   "cell_type": "code",
   "execution_count": 509,
   "metadata": {},
   "outputs": [
    {
     "name": "stderr",
     "output_type": "stream",
     "text": [
      "100%|██████████| 10/10 [00:00<00:00, 2225.33it/s]\n",
      "100%|██████████| 10/10 [00:00<00:00, 2499.44it/s]\n",
      "100%|██████████| 10/10 [00:00<00:00, 1999.48it/s]\n",
      "100%|██████████| 10/10 [00:00<00:00, 1999.57it/s]\n",
      "100%|██████████| 10/10 [00:00<00:00, 1999.57it/s]\n",
      "100%|██████████| 10/10 [00:00<00:00, 1999.48it/s]\n",
      "100%|██████████| 10/10 [00:00<00:00, 1999.57it/s]\n",
      "100%|██████████| 10/10 [00:00<00:00, 1843.73it/s]\n",
      "100%|██████████| 10/10 [00:00<00:00, 1913.72it/s]\n",
      "100%|██████████| 10/10 [00:00<00:00, 2499.14it/s]\n",
      "100%|██████████| 10/10 [00:00<00:00, 1999.95it/s]\n",
      "100%|██████████| 10/10 [00:00<00:00, 222.08it/s]\n",
      "100%|██████████| 10/10 [00:00<00:00, 217.50it/s]\n",
      "100%|██████████| 10/10 [00:00<00:00, 208.63it/s]\n",
      "100%|██████████| 10/10 [00:00<00:00, 220.20it/s]\n",
      "100%|██████████| 10/10 [00:00<00:00, 147.58it/s]\n",
      "100%|██████████| 10/10 [00:00<00:00, 158.69it/s]\n",
      "100%|██████████| 10/10 [00:00<00:00, 194.83it/s]\n",
      "100%|██████████| 10/10 [00:00<00:00, 196.38it/s]\n",
      "100%|██████████| 10/10 [00:00<00:00, 204.04it/s]\n",
      "100%|██████████| 10/10 [00:00<00:00, 188.64it/s]\n",
      "100%|██████████| 10/10 [00:00<00:00, 215.15it/s]\n",
      "100%|██████████| 10/10 [00:00<00:00, 28.59it/s]\n",
      "100%|██████████| 10/10 [00:00<00:00, 29.43it/s]\n",
      "100%|██████████| 10/10 [00:00<00:00, 30.18it/s]\n",
      "100%|██████████| 10/10 [00:00<00:00, 30.96it/s]\n",
      "100%|██████████| 10/10 [00:00<00:00, 30.86it/s]\n",
      "100%|██████████| 10/10 [00:00<00:00, 31.27it/s]\n",
      "100%|██████████| 10/10 [00:00<00:00, 30.02it/s]\n",
      "100%|██████████| 10/10 [00:00<00:00, 28.74it/s]\n",
      "100%|██████████| 10/10 [00:00<00:00, 30.33it/s]\n",
      "100%|██████████| 10/10 [00:00<00:00, 31.27it/s]\n",
      "100%|██████████| 10/10 [00:00<00:00, 27.30it/s]\n"
     ]
    }
   ],
   "source": [
    "stats, alpha, max_mod = flow_capacity_leiden(G_small, quality=\"n\")\n",
    "res_flow_capacity[\"leiden_small_nmi\"] =  stats\n",
    "alpha_mod[\"leiden_small_kappa\"] = [alpha, max_mod]\n",
    "\n",
    "stats, alpha, max_mod = flow_capacity_leiden(G_medium, quality=\"n\")\n",
    "res_flow_capacity[\"leiden_medium_nmi\"] =  stats\n",
    "alpha_mod[\"leiden_medium_kappa\"] = [alpha, max_mod]\n",
    "\n",
    "stats, alpha, max_mod = flow_capacity_leiden(eucore, quality=\"n\")\n",
    "res_flow_capacity[\"leiden_eucore_nmi\"] =  stats\n",
    "alpha_mod[\"leiden_eucore_kappa\"] = [alpha, max_mod]"
   ]
  },
  {
   "cell_type": "code",
   "execution_count": 512,
   "metadata": {},
   "outputs": [
    {
     "name": "stderr",
     "output_type": "stream",
     "text": [
      "100%|██████████| 10/10 [00:00<00:00, 41.47it/s]\n",
      "100%|██████████| 10/10 [00:04<00:00,  2.16it/s]\n",
      "  0%|          | 0/10 [00:00<?, ?it/s]"
     ]
    }
   ],
   "source": [
    "stats, alpha, max_mod = flow_capacity_gn(G_small, quality=\"n\")\n",
    "res_flow_capacity[\"gn_small_nmi\"] =  stats\n",
    "alpha_mod[\"gn_small_kappa\"] = [alpha, max_mod]\n",
    "\n",
    "stats, alpha, max_mod = flow_capacity_gn(G_medium, quality=\"n\")\n",
    "res_flow_capacity[\"gn_medium_nmi\"] =  stats\n",
    "alpha_mod[\"gn_medium_kappa\"] = [alpha, max_mod]\n",
    "\n",
    "stats, alpha, max_mod = flow_capacity_gn(eucore, quality=\"n\")\n",
    "res_flow_capacity[\"gn_eucore_nmi\"] =  stats\n",
    "alpha_mod[\"gn_eucore_kappa\"] = [alpha, max_mod]"
   ]
  },
  {
   "cell_type": "code",
   "execution_count": null,
   "metadata": {},
   "outputs": [
    {
     "data": {
      "text/plain": [
       "dict_keys(['louvain_small', 'louvain_medium', 'louvain_large', 'louvain_eucore', 'leiden_small', 'leiden_medium'])"
      ]
     },
     "execution_count": 364,
     "metadata": {},
     "output_type": "execute_result"
    }
   ],
   "source": [
    "modularities = [res_flow_capacity[key][\"a_modularity\"] for key in res_flow_capacity ]\n",
    "nmis = [res_flow_capacity[key][\"a_nmi\"] for key in res_flow_capacity ]\n",
    "kappas = [res_flow_capacity[key][\"a_kappa\"] for key in res_flow_capacity ]\n",
    "\n",
    "\n",
    "\n",
    "colors = [label_colors[str(key).split(\"_\")[0]] for key in res_flow_capacity]\n",
    "res.keys()\n"
   ]
  },
  {
   "cell_type": "code",
   "execution_count": null,
   "metadata": {},
   "outputs": [
    {
     "name": "stderr",
     "output_type": "stream",
     "text": [
      "C:\\Users\\Felipe Cintra\\AppData\\Local\\Temp\\ipykernel_21500\\4056941909.py:5: UserWarning: set_ticklabels() should only be used with a fixed number of ticks, i.e. after set_ticks() or using a FixedLocator.\n",
      "  ax[0].set_xticklabels(ax[0].get_xticklabels(),  rotation=45, horizontalalignment=\"right\")\n",
      "C:\\Users\\Felipe Cintra\\AppData\\Local\\Temp\\ipykernel_21500\\4056941909.py:11: UserWarning: set_ticklabels() should only be used with a fixed number of ticks, i.e. after set_ticks() or using a FixedLocator.\n",
      "  ax[1].set_xticklabels(ax[0].get_xticklabels(),  rotation=45, horizontalalignment=\"right\")\n",
      "C:\\Users\\Felipe Cintra\\AppData\\Local\\Temp\\ipykernel_21500\\4056941909.py:16: UserWarning: set_ticklabels() should only be used with a fixed number of ticks, i.e. after set_ticks() or using a FixedLocator.\n",
      "  ax[2].set_xticklabels(ax[0].get_xticklabels(),  rotation=45, horizontalalignment=\"right\")\n"
     ]
    },
    {
     "data": {
      "text/plain": [
       "Text(0.5, 0.98, 'Performance Metrics of Flow-Capacity Algorithms')"
      ]
     },
     "execution_count": 365,
     "metadata": {},
     "output_type": "execute_result"
    },
    {
     "data": {
      "image/png": "[encoded data removed]",
      "text/plain": [
       "<Figure size 1800x400 with 3 Axes>"
      ]
     },
     "metadata": {},
     "output_type": "display_data"
    }
   ],
   "source": [
    "fig, ax = plt.subplots(1,3, figsize=(18,4))\n",
    "\n",
    "# modularity\n",
    "ax[0].bar([key for key in res_flow_capacity], modularities, color=colors)\n",
    "ax[0].set_xticklabels(ax[0].get_xticklabels(),  rotation=45, horizontalalignment=\"right\")\n",
    "ax[0].set_title(\"Modularity\", fontsize=16)\n",
    "\n",
    "\n",
    "# nmi\n",
    "ax[1].bar([key for key in res_flow_capacity], nmis, color=colors)\n",
    "ax[1].set_xticklabels(ax[0].get_xticklabels(),  rotation=45, horizontalalignment=\"right\")\n",
    "ax[1].set_title(\"NMI\", fontsize=16)\n",
    "\n",
    "# kappa\n",
    "ax[2].bar([key for key in res_flow_capacity], kappas, color=colors)\n",
    "ax[2].set_xticklabels(ax[0].get_xticklabels(),  rotation=45, horizontalalignment=\"right\")\n",
    "ax[2].set_title(\"Kappa\", fontsize=16)\n",
    "\n",
    "plt.subplots_adjust(top=0.8)\n",
    "plt.suptitle(\"Performance Metrics of Flow-Capacity Algorithms\", fontsize=20)"
   ]
  },
  {
   "cell_type": "code",
   "execution_count": null,
   "metadata": {},
   "outputs": [],
   "source": [
    "\n",
    "\n"
   ]
  }
 ],
 "metadata": {
  "kernelspec": {
   "display_name": ".venv",
   "language": "python",
   "name": "python3"
  },
  "language_info": {
   "codemirror_mode": {
    "name": "ipython",
    "version": 3
   },
   "file_extension": ".py",
   "mimetype": "text/x-python",
   "name": "python",
   "nbconvert_exporter": "python",
   "pygments_lexer": "ipython3",
   "version": "3.12.2"
  }
 },
 "nbformat": 4,
 "nbformat_minor": 2
}

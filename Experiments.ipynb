{
 "cells": [
  {
   "cell_type": "code",
   "execution_count": 95,
   "metadata": {},
   "outputs": [],
   "source": [
    "import networkx as nx\n",
    "import numpy as np\n",
    "import matplotlib.pyplot as plt\n",
    "import seaborn as sns\n",
    "sns.set_theme()\n",
    "import pickle\n",
    "import sklearn as sk\n",
    "from sklearn.metrics import accuracy_score, balanced_accuracy_score\n",
    "from munkres import Munkres\n",
    "import pandas as pd\n",
    "from ktools import *\n",
    "import igraph as ig\n",
    "import leidenalg\n",
    "import tqdm\n",
    "from collections import defaultdict"
   ]
  },
  {
   "cell_type": "code",
   "execution_count": 38,
   "metadata": {},
   "outputs": [],
   "source": [
    "res = {}\n"
   ]
  },
  {
   "cell_type": "code",
   "execution_count": 39,
   "metadata": {},
   "outputs": [],
   "source": [
    "label_colors = {\"louvain\":sns.color_palette()[0],\n",
    "                \"leiden\": sns.color_palette()[1],\n",
    "                \"gn\":sns.color_palette()[2]}"
   ]
  },
  {
   "cell_type": "markdown",
   "metadata": {},
   "source": [
    "# Importing Data"
   ]
  },
  {
   "cell_type": "markdown",
   "metadata": {},
   "source": [
    "Data Set"
   ]
  },
  {
   "cell_type": "code",
   "execution_count": 40,
   "metadata": {},
   "outputs": [],
   "source": [
    "def create_adjacency(df:pd.DataFrame)->np.array:\n",
    "    m = max(max(df[\"zero\"].value_counts().index), max(df[\"one\"].value_counts().index)) + 1\n",
    "    A = np.zeros((m,m))\n",
    "    a,b = df[\"zero\"].to_numpy(dtype=int), df[\"one\"].to_numpy(dtype=int)\n",
    "\n",
    "    A[a,b] =1\n",
    "            \n",
    "    return A"
   ]
  },
  {
   "cell_type": "code",
   "execution_count": 41,
   "metadata": {},
   "outputs": [
    {
     "data": {
      "text/html": [
       "<div>\n",
       "<style scoped>\n",
       "    .dataframe tbody tr th:only-of-type {\n",
       "        vertical-align: middle;\n",
       "    }\n",
       "\n",
       "    .dataframe tbody tr th {\n",
       "        vertical-align: top;\n",
       "    }\n",
       "\n",
       "    .dataframe thead th {\n",
       "        text-align: right;\n",
       "    }\n",
       "</style>\n",
       "<table border=\"1\" class=\"dataframe\">\n",
       "  <thead>\n",
       "    <tr style=\"text-align: right;\">\n",
       "      <th></th>\n",
       "      <th>zero</th>\n",
       "      <th>one</th>\n",
       "    </tr>\n",
       "  </thead>\n",
       "  <tbody>\n",
       "    <tr>\n",
       "      <th>0</th>\n",
       "      <td>2</td>\n",
       "      <td>3</td>\n",
       "    </tr>\n",
       "    <tr>\n",
       "      <th>1</th>\n",
       "      <td>2</td>\n",
       "      <td>4</td>\n",
       "    </tr>\n",
       "    <tr>\n",
       "      <th>2</th>\n",
       "      <td>5</td>\n",
       "      <td>6</td>\n",
       "    </tr>\n",
       "    <tr>\n",
       "      <th>3</th>\n",
       "      <td>5</td>\n",
       "      <td>7</td>\n",
       "    </tr>\n",
       "    <tr>\n",
       "      <th>4</th>\n",
       "      <td>8</td>\n",
       "      <td>9</td>\n",
       "    </tr>\n",
       "    <tr>\n",
       "      <th>...</th>\n",
       "      <td>...</td>\n",
       "      <td>...</td>\n",
       "    </tr>\n",
       "    <tr>\n",
       "      <th>25565</th>\n",
       "      <td>420</td>\n",
       "      <td>143</td>\n",
       "    </tr>\n",
       "    <tr>\n",
       "      <th>25566</th>\n",
       "      <td>174</td>\n",
       "      <td>859</td>\n",
       "    </tr>\n",
       "    <tr>\n",
       "      <th>25567</th>\n",
       "      <td>440</td>\n",
       "      <td>460</td>\n",
       "    </tr>\n",
       "    <tr>\n",
       "      <th>25568</th>\n",
       "      <td>52</td>\n",
       "      <td>786</td>\n",
       "    </tr>\n",
       "    <tr>\n",
       "      <th>25569</th>\n",
       "      <td>506</td>\n",
       "      <td>932</td>\n",
       "    </tr>\n",
       "  </tbody>\n",
       "</table>\n",
       "<p>25570 rows × 2 columns</p>\n",
       "</div>"
      ],
      "text/plain": [
       "       zero  one\n",
       "0         2    3\n",
       "1         2    4\n",
       "2         5    6\n",
       "3         5    7\n",
       "4         8    9\n",
       "...     ...  ...\n",
       "25565   420  143\n",
       "25566   174  859\n",
       "25567   440  460\n",
       "25568    52  786\n",
       "25569   506  932\n",
       "\n",
       "[25570 rows x 2 columns]"
      ]
     },
     "execution_count": 41,
     "metadata": {},
     "output_type": "execute_result"
    }
   ],
   "source": [
    "#handling the edges\n",
    "data = pd.read_csv(r\"C:\\Users\\Felipe Cintra\\Documents\\TUE_2324\\JBG-100 BEP\\Code\\data\\email-Eu-core.txt.gz\")\n",
    "data = data.map(str.split)\n",
    "series_0 = data.map(lambda x:x[0]).values.flatten()\n",
    "series_1 = data.map(lambda x:x[1]).values.flatten()\n",
    "\n",
    "to_integer = np.vectorize(int)\n",
    "series_0 = to_integer(series_0)\n",
    "\n",
    "\n",
    "df = pd.DataFrame({\"zero\": to_integer(series_0), \"one\": to_integer(series_1)})\n",
    "df = df.dropna()\n",
    "df"
   ]
  },
  {
   "cell_type": "code",
   "execution_count": 42,
   "metadata": {},
   "outputs": [],
   "source": [
    "# Handling the Labels\n",
    "labels = pd.read_csv(r\"C:\\Users\\Felipe Cintra\\Documents\\TUE_2324\\JBG-100 BEP\\Code\\data\\email-Eu-core-department-labels.txt.gz\")\n",
    "\n",
    "labels= labels.map(str.split)\n",
    "series_0 = labels.map(lambda x:x[0]).values.flatten()\n",
    "series_1 = labels.map(lambda x:x[1]).values.flatten()\n",
    "\n",
    "to_integer = np.vectorize(int)\n",
    "series_0 = to_integer(series_0)\n",
    "labels = pd.DataFrame({\"node\": to_integer(series_0), \"label\": to_integer(series_1)})\n",
    "labels = labels.dropna()"
   ]
  },
  {
   "cell_type": "code",
   "execution_count": 43,
   "metadata": {},
   "outputs": [],
   "source": [
    "comms = {label: list(labels[labels[\"label\"] == label][\"node\"]) for label in labels[\"label\"].unique()}\n",
    "labels[\"community\"] = labels[\"label\"].map(comms)"
   ]
  },
  {
   "cell_type": "code",
   "execution_count": 44,
   "metadata": {},
   "outputs": [],
   "source": [
    "A = create_adjacency(df)\n",
    "eucore = nx.from_numpy_array(A)\n",
    "nx.set_node_attributes(eucore, labels[\"community\"], \"community\")\n",
    "eucore.remove_node(1004)"
   ]
  },
  {
   "cell_type": "code",
   "execution_count": null,
   "metadata": {},
   "outputs": [],
   "source": []
  },
  {
   "cell_type": "markdown",
   "metadata": {},
   "source": [
    "Random Networks\n"
   ]
  },
  {
   "cell_type": "code",
   "execution_count": 45,
   "metadata": {},
   "outputs": [],
   "source": [
    "def import_random_state():\n",
    "    random_state_integers = np.loadtxt(\"random_state_integers.txt\")\n",
    "    enc=\"MT19937\"\n",
    "    params = []\n",
    "    with open(r'random_state_params.txt', 'r') as fp:\n",
    "        for line in fp:\n",
    "            # remove linebreak from a current name\n",
    "            # linebreak is the last character of each line\n",
    "            x = line[:-1]\n",
    "\n",
    "            # add current item to the list\n",
    "            params.append(x)\n",
    "\n",
    "    params[0] = int(params[0])\n",
    "    params[1] = int(params[1])\n",
    "    params[2] = float(params[2])\n",
    "\n",
    "    params.insert(0,enc)\n",
    "    params.insert(1, random_state_integers)\n",
    "    \n",
    "    return tuple(params)"
   ]
  },
  {
   "cell_type": "code",
   "execution_count": 46,
   "metadata": {},
   "outputs": [],
   "source": [
    "np.random.set_state(import_random_state())"
   ]
  },
  {
   "cell_type": "code",
   "execution_count": 47,
   "metadata": {},
   "outputs": [],
   "source": [
    "G_small = pickle.load(open('small50.pickle', 'rb'))"
   ]
  },
  {
   "cell_type": "code",
   "execution_count": 48,
   "metadata": {},
   "outputs": [],
   "source": [
    "G_medium = pickle.load(open('medium250.pickle', 'rb'))"
   ]
  },
  {
   "cell_type": "code",
   "execution_count": 49,
   "metadata": {},
   "outputs": [],
   "source": [
    "G_large = pickle.load(open('large250.pickle', 'rb'))"
   ]
  },
  {
   "cell_type": "code",
   "execution_count": 50,
   "metadata": {},
   "outputs": [],
   "source": [
    "def create_gcl(G):\n",
    "    ground = {frozenset(G.nodes[v][\"community\"]) for v in G}\n",
    "\n",
    "    # ----------------------------- generating_labels ---------------------------- #\n",
    "    ground_community_labels = {}\n",
    "    counter =0\n",
    "\n",
    "    for i in ground:\n",
    "        if i not in ground_community_labels:\n",
    "            ground_community_labels[i] = counter\n",
    "            counter += 1\n",
    "\n",
    "    gcl = [ground_community_labels[frozenset(G.nodes[node][\"community\"])]  for node in G.nodes]\n",
    "\n",
    "    return gcl"
   ]
  },
  {
   "cell_type": "code",
   "execution_count": 87,
   "metadata": {},
   "outputs": [],
   "source": [
    "def create_lcl(comms,G):\n",
    "    \"\"\"create labels for the outcome communities commmunties\n",
    "    \"\"\"\n",
    "    counter = 0    \n",
    "    community_dict = {}\n",
    "    for i in comms:\n",
    "        if i not in community_dict:\n",
    "            community_dict[i] = counter\n",
    "        counter += 1\n",
    "\n",
    "    lcl = []\n",
    "    for node in G.nodes:\n",
    "        c = [x for x in comms if node in x]\n",
    "        c = c[0]\n",
    "        lcl.append(community_dict[c])\n",
    "\n",
    "    return lcl"
   ]
  },
  {
   "cell_type": "markdown",
   "metadata": {},
   "source": [
    "# Creating Baselines"
   ]
  },
  {
   "cell_type": "markdown",
   "metadata": {},
   "source": [
    "### Baseline Louvain"
   ]
  },
  {
   "cell_type": "code",
   "execution_count": 88,
   "metadata": {},
   "outputs": [],
   "source": [
    "def baseline_metrics_louvain(G, n=15):\n",
    "    ground = {frozenset(G.nodes[v][\"community\"]) for v in G}\n",
    "\n",
    "    stats_dict = {}\n",
    "    # ----------------------------- generating_labels ---------------------------- #\n",
    "    gcl = create_gcl(G)\n",
    "\n",
    "    generated_communities = [nx.community.louvain_communities(G) for _ in range(n)]\n",
    "    \n",
    "    #calculating modularity    \n",
    "    stats_dict[\"a_modularity\"]  = np.mean([nx.community.modularity(G,c) for c in generated_communities])\n",
    "    stats_dict[\"var_modularity\"]  = np.var([nx.community.modularity(G,c) for c in generated_communities])\n",
    "\n",
    "    #calculating nmi and kappa\n",
    "    l_nmi = []\n",
    "    l_kappa = []\n",
    "    l_accur = []\n",
    "\n",
    "\n",
    "    for _ in range(n):\n",
    "        counter =0\n",
    "        comms = nx.community.louvain_communities(G)\n",
    "        comms = [frozenset(i) for i in comms]\n",
    "\n",
    "        lcl = create_lcl(comms,G)\n",
    "\n",
    "        l_nmi.append(sk.metrics.cluster.normalized_mutual_info_score(gcl, lcl))\n",
    "\n",
    "        #calculating kappa   \n",
    "        l_kappa.append(total_kappa(gcl, lcl))\n",
    "        l_accur.append(total_accuracy(gcl, lcl))\n",
    "\n",
    "\n",
    "    stats_dict[\"a_nmi\"]  = np.mean(l_nmi)\n",
    "    stats_dict[\"var_nmi\"]  = np.var(l_nmi) \n",
    "\n",
    "    stats_dict[\"a_kappa\"]  = np.mean(l_kappa)\n",
    "    stats_dict[\"var_kappa\"]  = np.var(l_kappa) \n",
    "    stats_dict[\"accuracy\"] = np.mean(l_accur)\n",
    "\n",
    "    return stats_dict"
   ]
  },
  {
   "cell_type": "code",
   "execution_count": 89,
   "metadata": {},
   "outputs": [
    {
     "data": {
      "text/plain": [
       "{'a_modularity': 0.6154045937829721,\n",
       " 'var_modularity': 8.03809883890686e-06,\n",
       " 'a_nmi': 0.8712886596510607,\n",
       " 'var_nmi': 0.000413339996350393,\n",
       " 'a_kappa': 0.15602524585351535,\n",
       " 'var_kappa': 0.008134353116872096,\n",
       " 'accuracy': 0.1666427227456639}"
      ]
     },
     "execution_count": 89,
     "metadata": {},
     "output_type": "execute_result"
    }
   ],
   "source": [
    "res[\"louvain_small\"] =baseline_metrics_louvain(G_small)\n",
    "res[\"louvain_small\"]"
   ]
  },
  {
   "cell_type": "code",
   "execution_count": 53,
   "metadata": {},
   "outputs": [],
   "source": [
    "res[\"louvain_medium\"] = baseline_metrics_louvain(G_medium)"
   ]
  },
  {
   "cell_type": "code",
   "execution_count": 54,
   "metadata": {},
   "outputs": [],
   "source": [
    "res[\"louvain_large\"] = baseline_metrics_louvain(G_large)"
   ]
  },
  {
   "cell_type": "code",
   "execution_count": 55,
   "metadata": {},
   "outputs": [],
   "source": [
    "res[\"louvain_eucore\"] = baseline_metrics_louvain(eucore)"
   ]
  },
  {
   "cell_type": "markdown",
   "metadata": {},
   "source": [
    "### Baseline Leiden"
   ]
  },
  {
   "cell_type": "code",
   "execution_count": 56,
   "metadata": {},
   "outputs": [],
   "source": [
    "def run_leiden(G):\n",
    "    \"\"\"\"Runs the Leidein Algorithm in a graph G\"\"\"\n",
    "    h = ig.Graph.from_networkx(G)\n",
    "    partition = leidenalg.find_partition(h, leidenalg.ModularityVertexPartition)\n",
    "    communities = [[] for _ in range(len(partition))]\n",
    "    # Fill the communities with vertex indices\n",
    "    for vertex, community in enumerate(partition.membership):\n",
    "        communities[community].append(vertex)\n",
    "\n",
    "    return communities    "
   ]
  },
  {
   "cell_type": "code",
   "execution_count": 90,
   "metadata": {},
   "outputs": [],
   "source": [
    "def baseline_metrics_leiden(G, n=15):\n",
    "    ground = {frozenset(G.nodes[v][\"community\"]) for v in G}\n",
    "\n",
    "    stats_dict = {}\n",
    "    # ----------------------------- generating_labels ---------------------------- #\n",
    "    gcl = create_gcl(G)\n",
    "\n",
    "    generated_communities = [run_leiden(G) for _ in range(10)]\n",
    "    \n",
    "    #calculating modularity    \n",
    "    stats_dict[\"a_modularity\"]  = np.mean([nx.community.modularity(G,c) for c in generated_communities])\n",
    "    stats_dict[\"var_modularity\"]  = np.var([nx.community.modularity(G,c) for c in generated_communities])\n",
    "\n",
    "    #calculating nmi and kappa\n",
    "    l_nmi = []\n",
    "    l_kappa = []\n",
    "\n",
    "\n",
    "    for _ in range(n):\n",
    "        counter =0\n",
    "        comms = run_leiden(G)\n",
    "        comms = [frozenset(i) for i in comms]\n",
    "\n",
    "        lcl = create_lcl(comms,G)\n",
    "\n",
    "        l_nmi.append(sk.metrics.cluster.normalized_mutual_info_score(gcl, lcl))\n",
    "\n",
    "        #calculating kappa   \n",
    "        l_kappa.append(total_kappa(gcl, lcl))\n",
    "\n",
    "\n",
    "    stats_dict[\"a_nmi\"]  = np.mean(l_nmi)\n",
    "    stats_dict[\"var_nmi\"]  = np.var(l_nmi) \n",
    "\n",
    "    stats_dict[\"a_kappa\"]  = np.mean(l_kappa)\n",
    "    stats_dict[\"var_kappa\"]  = np.var(l_kappa) \n",
    "\n",
    "\n",
    "    return stats_dict\n",
    "\n"
   ]
  },
  {
   "cell_type": "code",
   "execution_count": 91,
   "metadata": {},
   "outputs": [],
   "source": [
    "res[\"leiden_small\"] = baseline_metrics_leiden(G_small)"
   ]
  },
  {
   "cell_type": "code",
   "execution_count": 92,
   "metadata": {},
   "outputs": [],
   "source": [
    "res[\"leiden_medium\"] = baseline_metrics_leiden(G_medium)"
   ]
  },
  {
   "cell_type": "code",
   "execution_count": 93,
   "metadata": {},
   "outputs": [],
   "source": [
    "res[\"leiden_large\"] = baseline_metrics_leiden(G_large)"
   ]
  },
  {
   "cell_type": "code",
   "execution_count": 94,
   "metadata": {},
   "outputs": [],
   "source": [
    "res[\"leiden_eucore\"] = baseline_metrics_leiden(eucore)"
   ]
  },
  {
   "cell_type": "markdown",
   "metadata": {},
   "source": [
    "### Baseline GN"
   ]
  },
  {
   "cell_type": "code",
   "execution_count": 62,
   "metadata": {},
   "outputs": [],
   "source": [
    "# nx.community.girvan_newman(G_medium)\n",
    "# comp = nx.community.girvan_newman(G_large)\n",
    "# gn = tuple(sorted(c) for c in next(comp))\n",
    "\n",
    "# gn_communities = {}\n",
    "\n",
    "# for communities in tqdm.tqdm(np.itertools.islice(comp, 3)):\n",
    "#     print(tuple(sorted(c) for c in communities))"
   ]
  },
  {
   "cell_type": "code",
   "execution_count": 63,
   "metadata": {},
   "outputs": [],
   "source": [
    "def baseline_metrics_gn(G, n=15):\n",
    "    ground = {frozenset(G.nodes[v][\"community\"]) for v in G}\n",
    "    \n",
    "    stats_dict = {}\n",
    "    # ----------------------------- generating_labels ---------------------------- #\n",
    "    ground_community_labels = {}\n",
    "    counter =0\n",
    "\n",
    "    for i in ground:\n",
    "        if i not in ground_community_labels:\n",
    "            ground_community_labels[i] = counter\n",
    "            counter += 1\n",
    "\n",
    "    gcl = [ground_community_labels[frozenset(G.nodes[node][\"community\"])]  for node in G.nodes]\n",
    "    \n",
    "    nx.community.girvan_newman(G)\n",
    "    comp = nx.community.girvan_newman(G)\n",
    "    gn = tuple(sorted(c) for c in next(comp))\n",
    "\n",
    "    generated_communities = [{frozenset(c) for c in gn}] \n",
    "    #calculating modularity    \n",
    "    stats_dict[\"a_modularity\"]  = np.mean([nx.community.modularity(G,c) for c in generated_communities])\n",
    "    stats_dict[\"var_modularity\"]  = np.var([nx.community.modularity(G,c) for c in generated_communities])\n",
    "\n",
    "    #calculating nmi and kappa\n",
    "    l_nmi = []\n",
    "    l_kappa = []\n",
    "    \n",
    "    comms = frozenset(generated_communities[0]) \n",
    "    counter = 0\n",
    "\n",
    "\n",
    "    community_dict = {}\n",
    "    for i in comms:\n",
    "        if i not in community_dict:\n",
    "            community_dict[i] = counter\n",
    "        counter += 1\n",
    "\n",
    "    lcl = []\n",
    "    for node in G.nodes:\n",
    "        c = [x for x in comms if node in x]\n",
    "        c = c[0]\n",
    "        lcl.append(community_dict[c])\n",
    "\n",
    "    l_nmi.append(sk.metrics.cluster.normalized_mutual_info_score(gcl, lcl))\n",
    "\n",
    "    #calculating kappa   \n",
    "    l_kappa.append(total_kappa(gcl, lcl))\n",
    "\n",
    "\n",
    "    stats_dict[\"a_nmi\"]  = np.mean(l_nmi)\n",
    "    stats_dict[\"var_nmi\"]  = np.var(l_nmi) \n",
    "\n",
    "    stats_dict[\"a_kappa\"]  = np.mean(l_kappa)\n",
    "    stats_dict[\"var_kappa\"]  = np.var(l_kappa) \n",
    "\n",
    "\n",
    "    return stats_dict"
   ]
  },
  {
   "cell_type": "code",
   "execution_count": 64,
   "metadata": {},
   "outputs": [],
   "source": [
    "res[\"gn_small\"] = baseline_metrics_gn(G_small)"
   ]
  },
  {
   "cell_type": "code",
   "execution_count": 65,
   "metadata": {},
   "outputs": [],
   "source": [
    "res[\"gn_medium\"] = baseline_metrics_gn(G_medium)\n"
   ]
  },
  {
   "cell_type": "code",
   "execution_count": 66,
   "metadata": {},
   "outputs": [],
   "source": [
    "res[\"gn_large\"] =  baseline_metrics_gn(G_medium)"
   ]
  },
  {
   "cell_type": "code",
   "execution_count": 67,
   "metadata": {},
   "outputs": [],
   "source": [
    "res[\"gn_eucore\"] = baseline_metrics_gn(eucore)"
   ]
  },
  {
   "cell_type": "code",
   "execution_count": 69,
   "metadata": {},
   "outputs": [
    {
     "data": {
      "text/plain": [
       "dict_keys(['louvain_small', 'louvain_medium', 'louvain_large', 'louvain_eucore', 'leiden_small', 'leiden_medium', 'leiden_large', 'leiden_eucore', 'gn_small', 'gn_medium', 'gn_large', 'gn_eucore'])"
      ]
     },
     "execution_count": 69,
     "metadata": {},
     "output_type": "execute_result"
    }
   ],
   "source": [
    "modularities = [res[key][\"a_modularity\"] for key in res ]\n",
    "nmis = [res[key][\"a_nmi\"] for key in res ]\n",
    "kappas = [res[key][\"a_kappa\"] for key in res ]\n",
    "\n",
    "\n",
    "\n",
    "colors = [label_colors[str(key).split(\"_\")[0]] for key in res]\n",
    "res.keys()\n"
   ]
  },
  {
   "cell_type": "code",
   "execution_count": 70,
   "metadata": {},
   "outputs": [
    {
     "name": "stderr",
     "output_type": "stream",
     "text": [
      "C:\\Users\\Felipe Cintra\\AppData\\Local\\Temp\\ipykernel_20500\\2088141532.py:5: UserWarning: set_ticklabels() should only be used with a fixed number of ticks, i.e. after set_ticks() or using a FixedLocator.\n",
      "  ax[0].set_xticklabels(ax[0].get_xticklabels(),  rotation=45, horizontalalignment=\"right\")\n",
      "C:\\Users\\Felipe Cintra\\AppData\\Local\\Temp\\ipykernel_20500\\2088141532.py:11: UserWarning: set_ticklabels() should only be used with a fixed number of ticks, i.e. after set_ticks() or using a FixedLocator.\n",
      "  ax[1].set_xticklabels(ax[0].get_xticklabels(),  rotation=45, horizontalalignment=\"right\")\n",
      "C:\\Users\\Felipe Cintra\\AppData\\Local\\Temp\\ipykernel_20500\\2088141532.py:16: UserWarning: set_ticklabels() should only be used with a fixed number of ticks, i.e. after set_ticks() or using a FixedLocator.\n",
      "  ax[2].set_xticklabels(ax[0].get_xticklabels(),  rotation=45, horizontalalignment=\"right\")\n"
     ]
    },
    {
     "data": {
      "text/plain": [
       "Text(0.5, 0.98, 'Performance Metrics of Baseline Algorithms')"
      ]
     },
     "execution_count": 70,
     "metadata": {},
     "output_type": "execute_result"
    },
    {
     "data": {
      "image/png": "[encoded data removed]",
      "text/plain": [
       "<Figure size 1800x400 with 3 Axes>"
      ]
     },
     "metadata": {},
     "output_type": "display_data"
    }
   ],
   "source": [
    "fig, ax = plt.subplots(1,3, figsize=(18,4))\n",
    "\n",
    "# modularity\n",
    "ax[0].bar([key for key in res], modularities, color=colors)\n",
    "ax[0].set_xticklabels(ax[0].get_xticklabels(),  rotation=45, horizontalalignment=\"right\")\n",
    "ax[0].set_title(\"Modularity\", fontsize=16)\n",
    "\n",
    "\n",
    "# nmi\n",
    "ax[1].bar([key for key in res], nmis, color=colors)\n",
    "ax[1].set_xticklabels(ax[0].get_xticklabels(),  rotation=45, horizontalalignment=\"right\")\n",
    "ax[1].set_title(\"NMI\", fontsize=16)\n",
    "\n",
    "# kappa\n",
    "ax[2].bar([key for key in res], kappas, color=colors)\n",
    "ax[2].set_xticklabels(ax[0].get_xticklabels(),  rotation=45, horizontalalignment=\"right\")\n",
    "ax[2].set_title(\"Kappa\", fontsize=16)\n",
    "\n",
    "plt.subplots_adjust(top=0.8)\n",
    "plt.suptitle(\"Performance Metrics of Baseline Algorithms\", fontsize=20)\n"
   ]
  },
  {
   "cell_type": "code",
   "execution_count": null,
   "metadata": {},
   "outputs": [],
   "source": [
    "def flow_capacity_louvain(G:nx.Graph,T:list, step, n=10)->list[set]:\n",
    "    \"\"\"Creates communities based on the flow capacity Louvain algorithm\n",
    "\n",
    "    Args:\n",
    "        G (nx.Graph): _description_\n",
    "        T (list): _description_\n",
    "\n",
    "    Returns:\n",
    "        list[set]: _description_\n",
    "    \"\"\" \n",
    "\n",
    "    # ----------------------------- generating_labels ---------------------------- #\n",
    "    \n",
    "    metric_dict = defaultdict(list)\n",
    "    for alpha in np.arange(0, 1, 1/step):\n",
    "        gcl = create_gcl(tn)\n",
    "        \n",
    "        metric_dict[alpha] = defaultdict(list)\n",
    "        \n",
    "        for key,tn in enumerate(T):\n",
    "            I = (1-alpha)*tn[0] + alpha*tn[1]\n",
    "            generated_communities = [nx.community.louvain_communities(I) for _ in range(n)]\n",
    "            metric_dict[alpha][key] = nx.community.modularity(G,generated_communities)\n",
    "            #lcl = create_lcl(generated_communities, G)\n",
    "        \n",
    "        return metric_dict\n",
    "    \n",
    "1\n",
    "            \n",
    "            "
   ]
  }
 ],
 "metadata": {
  "kernelspec": {
   "display_name": ".venv",
   "language": "python",
   "name": "python3"
  },
  "language_info": {
   "codemirror_mode": {
    "name": "ipython",
    "version": 3
   },
   "file_extension": ".py",
   "mimetype": "text/x-python",
   "name": "python",
   "nbconvert_exporter": "python",
   "pygments_lexer": "ipython3",
   "version": "3.12.2"
  }
 },
 "nbformat": 4,
 "nbformat_minor": 2
}

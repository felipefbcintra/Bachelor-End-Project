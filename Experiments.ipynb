{
 "cells": [
  {
   "cell_type": "code",
   "execution_count": 1,
   "metadata": {},
   "outputs": [],
   "source": [
    "import networkx as nx\n",
    "import numpy as np\n",
    "import matplotlib.pyplot as plt\n",
    "import seaborn as sns\n",
    "sns.set_theme()\n",
    "import pickle\n",
    "import sklearn as sk\n",
    "from sklearn.metrics import accuracy_score, balanced_accuracy_score\n",
    "from munkres import Munkres\n",
    "import pandas as pd\n",
    "from ktools import *\n",
    "import igraph as ig\n",
    "import leidenalg\n",
    "import tqdm\n",
    "from collections import defaultdict\n",
    "import dill\n",
    "import itertools"
   ]
  },
  {
   "cell_type": "code",
   "execution_count": 2,
   "metadata": {},
   "outputs": [],
   "source": [
    "res = {}\n"
   ]
  },
  {
   "cell_type": "code",
   "execution_count": 3,
   "metadata": {},
   "outputs": [],
   "source": [
    "label_colors = {\"louvain\":sns.color_palette()[0],\n",
    "                \"leiden\": sns.color_palette()[1],\n",
    "                \"gn\":sns.color_palette()[2]}"
   ]
  },
  {
   "cell_type": "markdown",
   "metadata": {},
   "source": [
    "# Importing Data"
   ]
  },
  {
   "cell_type": "markdown",
   "metadata": {},
   "source": [
    "Data Set"
   ]
  },
  {
   "cell_type": "code",
   "execution_count": 4,
   "metadata": {},
   "outputs": [],
   "source": [
    "def create_adjacency(df:pd.DataFrame)->np.array:\n",
    "    m = max(max(df[\"zero\"].value_counts().index), max(df[\"one\"].value_counts().index)) + 1\n",
    "    A = np.zeros((m,m))\n",
    "    a,b = df[\"zero\"].to_numpy(dtype=int), df[\"one\"].to_numpy(dtype=int)\n",
    "\n",
    "    A[a,b] =1\n",
    "            \n",
    "    return A"
   ]
  },
  {
   "cell_type": "code",
   "execution_count": 5,
   "metadata": {},
   "outputs": [
    {
     "data": {
      "text/html": [
       "<div>\n",
       "<style scoped>\n",
       "    .dataframe tbody tr th:only-of-type {\n",
       "        vertical-align: middle;\n",
       "    }\n",
       "\n",
       "    .dataframe tbody tr th {\n",
       "        vertical-align: top;\n",
       "    }\n",
       "\n",
       "    .dataframe thead th {\n",
       "        text-align: right;\n",
       "    }\n",
       "</style>\n",
       "<table border=\"1\" class=\"dataframe\">\n",
       "  <thead>\n",
       "    <tr style=\"text-align: right;\">\n",
       "      <th></th>\n",
       "      <th>zero</th>\n",
       "      <th>one</th>\n",
       "      <th>d</th>\n",
       "      <th>w</th>\n",
       "    </tr>\n",
       "  </thead>\n",
       "  <tbody>\n",
       "    <tr>\n",
       "      <th>0</th>\n",
       "      <td>168</td>\n",
       "      <td>472</td>\n",
       "      <td>(168, 472)</td>\n",
       "      <td>668</td>\n",
       "    </tr>\n",
       "    <tr>\n",
       "      <th>1</th>\n",
       "      <td>168</td>\n",
       "      <td>912</td>\n",
       "      <td>(168, 912)</td>\n",
       "      <td>1212</td>\n",
       "    </tr>\n",
       "    <tr>\n",
       "      <th>2</th>\n",
       "      <td>2</td>\n",
       "      <td>790</td>\n",
       "      <td>(2, 790)</td>\n",
       "      <td>229</td>\n",
       "    </tr>\n",
       "    <tr>\n",
       "      <th>3</th>\n",
       "      <td>2</td>\n",
       "      <td>322</td>\n",
       "      <td>(2, 322)</td>\n",
       "      <td>10</td>\n",
       "    </tr>\n",
       "    <tr>\n",
       "      <th>4</th>\n",
       "      <td>2</td>\n",
       "      <td>790</td>\n",
       "      <td>(2, 790)</td>\n",
       "      <td>229</td>\n",
       "    </tr>\n",
       "    <tr>\n",
       "      <th>...</th>\n",
       "      <td>...</td>\n",
       "      <td>...</td>\n",
       "      <td>...</td>\n",
       "      <td>...</td>\n",
       "    </tr>\n",
       "    <tr>\n",
       "      <th>332328</th>\n",
       "      <td>324</td>\n",
       "      <td>367</td>\n",
       "      <td>(324, 367)</td>\n",
       "      <td>1</td>\n",
       "    </tr>\n",
       "    <tr>\n",
       "      <th>332329</th>\n",
       "      <td>790</td>\n",
       "      <td>126</td>\n",
       "      <td>(790, 126)</td>\n",
       "      <td>150</td>\n",
       "    </tr>\n",
       "    <tr>\n",
       "      <th>332330</th>\n",
       "      <td>790</td>\n",
       "      <td>126</td>\n",
       "      <td>(790, 126)</td>\n",
       "      <td>150</td>\n",
       "    </tr>\n",
       "    <tr>\n",
       "      <th>332331</th>\n",
       "      <td>782</td>\n",
       "      <td>126</td>\n",
       "      <td>(782, 126)</td>\n",
       "      <td>54</td>\n",
       "    </tr>\n",
       "    <tr>\n",
       "      <th>332332</th>\n",
       "      <td>685</td>\n",
       "      <td>643</td>\n",
       "      <td>(685, 643)</td>\n",
       "      <td>139</td>\n",
       "    </tr>\n",
       "  </tbody>\n",
       "</table>\n",
       "<p>332333 rows × 4 columns</p>\n",
       "</div>"
      ],
      "text/plain": [
       "        zero  one           d     w\n",
       "0        168  472  (168, 472)   668\n",
       "1        168  912  (168, 912)  1212\n",
       "2          2  790    (2, 790)   229\n",
       "3          2  322    (2, 322)    10\n",
       "4          2  790    (2, 790)   229\n",
       "...      ...  ...         ...   ...\n",
       "332328   324  367  (324, 367)     1\n",
       "332329   790  126  (790, 126)   150\n",
       "332330   790  126  (790, 126)   150\n",
       "332331   782  126  (782, 126)    54\n",
       "332332   685  643  (685, 643)   139\n",
       "\n",
       "[332333 rows x 4 columns]"
      ]
     },
     "execution_count": 5,
     "metadata": {},
     "output_type": "execute_result"
    }
   ],
   "source": [
    "data = pd.read_csv(r\"data\\email-Eu-core-temporal.txt.gz\")\n",
    "data = data.map(str.split)\n",
    "series_d, series_0,  series_1, t = data.map(lambda x:(x[0], x[1])).values.flatten(),data.map(lambda x:x[0]).values.flatten(), data.map(lambda x:x[1]).values.flatten(), data.map(lambda x:x[2]).values.flatten()\n",
    "\n",
    "series_d = pd.Series(series_d)\n",
    "wt = pd.Series(series_d).value_counts()\n",
    "\n",
    "\n",
    "to_integer = np.vectorize(int)\n",
    "edges = pd.DataFrame({\"zero\": to_integer(series_0), \"one\": to_integer(series_1), \"d\": series_d, \"w\": series_d.map(lambda x: wt[x])})\n",
    "\n",
    "\n",
    "edges"
   ]
  },
  {
   "cell_type": "code",
   "execution_count": 6,
   "metadata": {},
   "outputs": [
    {
     "data": {
      "text/html": [
       "<div>\n",
       "<style scoped>\n",
       "    .dataframe tbody tr th:only-of-type {\n",
       "        vertical-align: middle;\n",
       "    }\n",
       "\n",
       "    .dataframe tbody tr th {\n",
       "        vertical-align: top;\n",
       "    }\n",
       "\n",
       "    .dataframe thead th {\n",
       "        text-align: right;\n",
       "    }\n",
       "</style>\n",
       "<table border=\"1\" class=\"dataframe\">\n",
       "  <thead>\n",
       "    <tr style=\"text-align: right;\">\n",
       "      <th></th>\n",
       "      <th>zero</th>\n",
       "      <th>one</th>\n",
       "      <th>d</th>\n",
       "      <th>w</th>\n",
       "    </tr>\n",
       "  </thead>\n",
       "  <tbody>\n",
       "    <tr>\n",
       "      <th>0</th>\n",
       "      <td>168</td>\n",
       "      <td>472</td>\n",
       "      <td>(168, 472)</td>\n",
       "      <td>668</td>\n",
       "    </tr>\n",
       "    <tr>\n",
       "      <th>1</th>\n",
       "      <td>168</td>\n",
       "      <td>912</td>\n",
       "      <td>(168, 912)</td>\n",
       "      <td>1212</td>\n",
       "    </tr>\n",
       "    <tr>\n",
       "      <th>2</th>\n",
       "      <td>2</td>\n",
       "      <td>790</td>\n",
       "      <td>(2, 790)</td>\n",
       "      <td>229</td>\n",
       "    </tr>\n",
       "    <tr>\n",
       "      <th>3</th>\n",
       "      <td>2</td>\n",
       "      <td>322</td>\n",
       "      <td>(2, 322)</td>\n",
       "      <td>10</td>\n",
       "    </tr>\n",
       "    <tr>\n",
       "      <th>4</th>\n",
       "      <td>2</td>\n",
       "      <td>790</td>\n",
       "      <td>(2, 790)</td>\n",
       "      <td>229</td>\n",
       "    </tr>\n",
       "    <tr>\n",
       "      <th>...</th>\n",
       "      <td>...</td>\n",
       "      <td>...</td>\n",
       "      <td>...</td>\n",
       "      <td>...</td>\n",
       "    </tr>\n",
       "    <tr>\n",
       "      <th>332328</th>\n",
       "      <td>324</td>\n",
       "      <td>367</td>\n",
       "      <td>(324, 367)</td>\n",
       "      <td>1</td>\n",
       "    </tr>\n",
       "    <tr>\n",
       "      <th>332329</th>\n",
       "      <td>790</td>\n",
       "      <td>126</td>\n",
       "      <td>(790, 126)</td>\n",
       "      <td>150</td>\n",
       "    </tr>\n",
       "    <tr>\n",
       "      <th>332330</th>\n",
       "      <td>790</td>\n",
       "      <td>126</td>\n",
       "      <td>(790, 126)</td>\n",
       "      <td>150</td>\n",
       "    </tr>\n",
       "    <tr>\n",
       "      <th>332331</th>\n",
       "      <td>782</td>\n",
       "      <td>126</td>\n",
       "      <td>(782, 126)</td>\n",
       "      <td>54</td>\n",
       "    </tr>\n",
       "    <tr>\n",
       "      <th>332332</th>\n",
       "      <td>685</td>\n",
       "      <td>643</td>\n",
       "      <td>(685, 643)</td>\n",
       "      <td>139</td>\n",
       "    </tr>\n",
       "  </tbody>\n",
       "</table>\n",
       "<p>332333 rows × 4 columns</p>\n",
       "</div>"
      ],
      "text/plain": [
       "        zero  one           d     w\n",
       "0        168  472  (168, 472)   668\n",
       "1        168  912  (168, 912)  1212\n",
       "2          2  790    (2, 790)   229\n",
       "3          2  322    (2, 322)    10\n",
       "4          2  790    (2, 790)   229\n",
       "...      ...  ...         ...   ...\n",
       "332328   324  367  (324, 367)     1\n",
       "332329   790  126  (790, 126)   150\n",
       "332330   790  126  (790, 126)   150\n",
       "332331   782  126  (782, 126)    54\n",
       "332332   685  643  (685, 643)   139\n",
       "\n",
       "[332333 rows x 4 columns]"
      ]
     },
     "execution_count": 6,
     "metadata": {},
     "output_type": "execute_result"
    }
   ],
   "source": [
    "edges"
   ]
  },
  {
   "cell_type": "code",
   "execution_count": 7,
   "metadata": {},
   "outputs": [
    {
     "data": {
      "text/html": [
       "<div>\n",
       "<style scoped>\n",
       "    .dataframe tbody tr th:only-of-type {\n",
       "        vertical-align: middle;\n",
       "    }\n",
       "\n",
       "    .dataframe tbody tr th {\n",
       "        vertical-align: top;\n",
       "    }\n",
       "\n",
       "    .dataframe thead th {\n",
       "        text-align: right;\n",
       "    }\n",
       "</style>\n",
       "<table border=\"1\" class=\"dataframe\">\n",
       "  <thead>\n",
       "    <tr style=\"text-align: right;\">\n",
       "      <th></th>\n",
       "      <th>zero</th>\n",
       "      <th>one</th>\n",
       "    </tr>\n",
       "  </thead>\n",
       "  <tbody>\n",
       "    <tr>\n",
       "      <th>0</th>\n",
       "      <td>2</td>\n",
       "      <td>3</td>\n",
       "    </tr>\n",
       "    <tr>\n",
       "      <th>1</th>\n",
       "      <td>2</td>\n",
       "      <td>4</td>\n",
       "    </tr>\n",
       "    <tr>\n",
       "      <th>2</th>\n",
       "      <td>5</td>\n",
       "      <td>6</td>\n",
       "    </tr>\n",
       "    <tr>\n",
       "      <th>3</th>\n",
       "      <td>5</td>\n",
       "      <td>7</td>\n",
       "    </tr>\n",
       "    <tr>\n",
       "      <th>4</th>\n",
       "      <td>8</td>\n",
       "      <td>9</td>\n",
       "    </tr>\n",
       "    <tr>\n",
       "      <th>...</th>\n",
       "      <td>...</td>\n",
       "      <td>...</td>\n",
       "    </tr>\n",
       "    <tr>\n",
       "      <th>25565</th>\n",
       "      <td>420</td>\n",
       "      <td>143</td>\n",
       "    </tr>\n",
       "    <tr>\n",
       "      <th>25566</th>\n",
       "      <td>174</td>\n",
       "      <td>859</td>\n",
       "    </tr>\n",
       "    <tr>\n",
       "      <th>25567</th>\n",
       "      <td>440</td>\n",
       "      <td>460</td>\n",
       "    </tr>\n",
       "    <tr>\n",
       "      <th>25568</th>\n",
       "      <td>52</td>\n",
       "      <td>786</td>\n",
       "    </tr>\n",
       "    <tr>\n",
       "      <th>25569</th>\n",
       "      <td>506</td>\n",
       "      <td>932</td>\n",
       "    </tr>\n",
       "  </tbody>\n",
       "</table>\n",
       "<p>25570 rows × 2 columns</p>\n",
       "</div>"
      ],
      "text/plain": [
       "       zero  one\n",
       "0         2    3\n",
       "1         2    4\n",
       "2         5    6\n",
       "3         5    7\n",
       "4         8    9\n",
       "...     ...  ...\n",
       "25565   420  143\n",
       "25566   174  859\n",
       "25567   440  460\n",
       "25568    52  786\n",
       "25569   506  932\n",
       "\n",
       "[25570 rows x 2 columns]"
      ]
     },
     "execution_count": 7,
     "metadata": {},
     "output_type": "execute_result"
    }
   ],
   "source": [
    "#handling the edges\n",
    "data = pd.read_csv(r\"data\\email-Eu-core.txt.gz\")\n",
    "data = data.map(str.split)\n",
    "series_0 = data.map(lambda x:x[0]).values.flatten()\n",
    "series_1 = data.map(lambda x:x[1]).values.flatten()\n",
    "\n",
    "to_integer = np.vectorize(int)\n",
    "series_0 = to_integer(series_0)\n",
    "\n",
    "\n",
    "df = pd.DataFrame({\"zero\": to_integer(series_0), \"one\": to_integer(series_1)})\n",
    "df = df.dropna()\n",
    "df"
   ]
  },
  {
   "cell_type": "code",
   "execution_count": 8,
   "metadata": {},
   "outputs": [],
   "source": [
    "# Handling the Labels\n",
    "labels = pd.read_csv(r\"data\\email-Eu-core-department-labels.txt.gz\")\n",
    "\n",
    "labels= labels.map(str.split)\n",
    "series_0 = labels.map(lambda x:x[0]).values.flatten()\n",
    "series_1 = labels.map(lambda x:x[1]).values.flatten()\n",
    "\n",
    "to_integer = np.vectorize(int)\n",
    "series_0 = to_integer(series_0)\n",
    "labels = pd.DataFrame({\"node\": to_integer(series_0), \"label\": to_integer(series_1)})\n",
    "labels = labels.dropna()"
   ]
  },
  {
   "cell_type": "code",
   "execution_count": 9,
   "metadata": {},
   "outputs": [],
   "source": [
    "\n",
    "comms = {label: list(labels[labels[\"label\"] == label][\"node\"]) for label in labels[\"label\"].unique()}\n",
    "labels[\"community\"] = labels[\"label\"].map(comms)\n"
   ]
  },
  {
   "cell_type": "code",
   "execution_count": null,
   "metadata": {},
   "outputs": [],
   "source": []
  },
  {
   "cell_type": "code",
   "execution_count": 10,
   "metadata": {},
   "outputs": [],
   "source": [
    "A = create_adjacency(df)\n",
    "eucore = nx.from_numpy_array(A)\n",
    "nx.set_node_attributes(eucore, labels[\"community\"], \"community\")\n",
    "nx.set_node_attributes(eucore, labels[\"label\"], \"label\")\n",
    "eucore.remove_node(1004)\n"
   ]
  },
  {
   "cell_type": "code",
   "execution_count": 11,
   "metadata": {},
   "outputs": [
    {
     "data": {
      "text/plain": [
       "0.06838781421256855"
      ]
     },
     "execution_count": 11,
     "metadata": {},
     "output_type": "execute_result"
    }
   ],
   "source": [
    "nx.attribute_assortativity_coefficient(eucore, \"label\")"
   ]
  },
  {
   "cell_type": "markdown",
   "metadata": {},
   "source": [
    "Random Networks\n"
   ]
  },
  {
   "cell_type": "code",
   "execution_count": 12,
   "metadata": {},
   "outputs": [],
   "source": [
    "def import_random_state():\n",
    "    random_state_integers = np.loadtxt(\"random_state_integers.txt\")\n",
    "    enc=\"MT19937\"\n",
    "    params = []\n",
    "    with open(r'random_state_params.txt', 'r') as fp:\n",
    "        for line in fp:\n",
    "            # remove linebreak from a current name\n",
    "            # linebreak is the last character of each line\n",
    "            x = line[:-1]\n",
    "\n",
    "            # add current item to the list\n",
    "            params.append(x)\n",
    "\n",
    "    params[0] = int(params[0])\n",
    "    params[1] = int(params[1])\n",
    "    params[2] = float(params[2])\n",
    "\n",
    "    params.insert(0,enc)\n",
    "    params.insert(1, random_state_integers)\n",
    "    \n",
    "    return tuple(params)"
   ]
  },
  {
   "cell_type": "code",
   "execution_count": 13,
   "metadata": {},
   "outputs": [],
   "source": [
    "np.random.set_state(import_random_state())"
   ]
  },
  {
   "cell_type": "code",
   "execution_count": 14,
   "metadata": {},
   "outputs": [],
   "source": [
    "G_small = pickle.load(open('small50.pickle', 'rb'))"
   ]
  },
  {
   "cell_type": "code",
   "execution_count": 15,
   "metadata": {},
   "outputs": [],
   "source": [
    "G_medium = pickle.load(open('medium250.pickle', 'rb'))"
   ]
  },
  {
   "cell_type": "code",
   "execution_count": 16,
   "metadata": {},
   "outputs": [],
   "source": [
    "G_large = pickle.load(open('large250.pickle', 'rb'))"
   ]
  },
  {
   "cell_type": "code",
   "execution_count": null,
   "metadata": {},
   "outputs": [],
   "source": []
  },
  {
   "cell_type": "code",
   "execution_count": 17,
   "metadata": {},
   "outputs": [],
   "source": [
    "def create_gcl(G):\n",
    "    ground = {frozenset(G.nodes[v][\"community\"]) for v in G}\n",
    "\n",
    "    # ----------------------------- generating_labels ---------------------------- #\n",
    "    ground_community_labels = {}\n",
    "    counter =0\n",
    "\n",
    "    for i in ground:\n",
    "        if i not in ground_community_labels:\n",
    "            ground_community_labels[i] = counter\n",
    "            counter += 1\n",
    "\n",
    "    gcl = [ground_community_labels[frozenset(G.nodes[node][\"community\"])]  for node in G.nodes]\n",
    "\n",
    "    return gcl"
   ]
  },
  {
   "cell_type": "code",
   "execution_count": 18,
   "metadata": {},
   "outputs": [],
   "source": [
    "def create_lcl(comms,G):\n",
    "    \"\"\"create labels for the outcome communities commmunties\n",
    "    \"\"\"\n",
    "    counter = 0    \n",
    "    community_dict = {}\n",
    "    for i in comms:\n",
    "        if i not in community_dict:\n",
    "            community_dict[i] = counter\n",
    "        counter += 1\n",
    "\n",
    "    lcl = []\n",
    "    for node in G.nodes:\n",
    "        c = [x for x in comms if node in x]\n",
    "        c = c[0]\n",
    "        lcl.append(community_dict[c])\n",
    "\n",
    "    return lcl"
   ]
  },
  {
   "cell_type": "markdown",
   "metadata": {},
   "source": [
    "# Creating Baselines"
   ]
  },
  {
   "cell_type": "markdown",
   "metadata": {},
   "source": [
    "### Baseline Louvain"
   ]
  },
  {
   "cell_type": "code",
   "execution_count": 19,
   "metadata": {},
   "outputs": [],
   "source": [
    "def baseline_metrics_louvain(G, n=20):\n",
    "    ground = {frozenset(G.nodes[v][\"community\"]) for v in G}\n",
    "\n",
    "    stats_dict = {}\n",
    "    # ----------------------------- generating_labels ---------------------------- #\n",
    "    gcl = create_gcl(G)\n",
    "\n",
    "    generated_communities = [nx.community.louvain_communities(G, weight=None) for _ in range(n)]\n",
    "    \n",
    "    #calculating modularity    \n",
    "    stats_dict[\"a_modularity\"]  = np.mean([nx.community.modularity(G,c) for c in generated_communities])\n",
    "    stats_dict[\"var_modularity\"]  = np.var([nx.community.modularity(G,c) for c in generated_communities])\n",
    "\n",
    "    #calculating nmi and kappa\n",
    "    l_nmi = []\n",
    "    l_kappa = []\n",
    "    l_accur = []\n",
    "\n",
    "\n",
    "    for _ in range(n):\n",
    "        counter =0\n",
    "        comms = nx.community.louvain_communities(G)\n",
    "        comms = [frozenset(i) for i in comms]\n",
    "\n",
    "        lcl = create_lcl(comms,G)\n",
    "\n",
    "        l_nmi.append(sk.metrics.cluster.normalized_mutual_info_score(gcl, lcl))\n",
    "\n",
    "        #calculating kappa   \n",
    "        l_kappa.append(total_kappa(gcl, lcl))\n",
    "        l_accur.append(total_accuracy(gcl, lcl))\n",
    "\n",
    "\n",
    "    stats_dict[\"a_nmi\"]  = np.median(l_nmi)\n",
    "    stats_dict[\"var_nmi\"]  = np.var(l_nmi) \n",
    "\n",
    "    stats_dict[\"a_kappa\"]  = np.median(l_kappa)\n",
    "    stats_dict[\"var_kappa\"]  = np.var(l_kappa) \n",
    "    stats_dict[\"accuracy\"] = np.mean(l_accur)\n",
    "\n",
    "    return stats_dict"
   ]
  },
  {
   "cell_type": "code",
   "execution_count": 20,
   "metadata": {},
   "outputs": [
    {
     "data": {
      "text/plain": [
       "{'a_modularity': 0.48050071739823574,\n",
       " 'var_modularity': 0.000746238850253257,\n",
       " 'a_nmi': 0.6891844599554084,\n",
       " 'var_nmi': 0.0004245584347045486,\n",
       " 'a_kappa': 0.11077859000147182,\n",
       " 'var_kappa': 0.016274996116475655,\n",
       " 'accuracy': 0.12872630870530027}"
      ]
     },
     "execution_count": 20,
     "metadata": {},
     "output_type": "execute_result"
    }
   ],
   "source": [
    "res[\"louvain_small\"] =baseline_metrics_louvain(G_small)\n",
    "res[\"louvain_small\"]"
   ]
  },
  {
   "cell_type": "code",
   "execution_count": 21,
   "metadata": {},
   "outputs": [],
   "source": [
    "res[\"louvain_medium\"] = baseline_metrics_louvain(G_medium)"
   ]
  },
  {
   "cell_type": "code",
   "execution_count": 22,
   "metadata": {},
   "outputs": [],
   "source": [
    "res[\"louvain_large\"] = baseline_metrics_louvain(G_large)"
   ]
  },
  {
   "cell_type": "code",
   "execution_count": 23,
   "metadata": {},
   "outputs": [],
   "source": [
    "res[\"louvain_eucore\"] = baseline_metrics_louvain(eucore)"
   ]
  },
  {
   "cell_type": "markdown",
   "metadata": {},
   "source": [
    "### Baseline Leiden"
   ]
  },
  {
   "cell_type": "code",
   "execution_count": 24,
   "metadata": {},
   "outputs": [],
   "source": [
    "def run_leiden(G):\n",
    "    \"\"\"\"Runs the Leidein Algorithm in a graph G\"\"\"\n",
    "    h = ig.Graph.from_networkx(G)\n",
    "    partition = leidenalg.find_partition(h, leidenalg.ModularityVertexPartition, weights=\"weight\")\n",
    "    communities = [[] for _ in range(len(partition))]\n",
    "    # Fill the communities with vertex indices\n",
    "    for vertex, community in enumerate(partition.membership):\n",
    "        communities[community].append(vertex)\n",
    "\n",
    "    return communities    "
   ]
  },
  {
   "cell_type": "code",
   "execution_count": 25,
   "metadata": {},
   "outputs": [],
   "source": [
    "def baseline_metrics_leiden(G, n=20):\n",
    "    ground = {frozenset(G.nodes[v][\"community\"]) for v in G}\n",
    "\n",
    "    stats_dict = {}\n",
    "    # ----------------------------- generating_labels ---------------------------- #\n",
    "    gcl = create_gcl(G)\n",
    "\n",
    "    generated_communities = [run_leiden(G) for _ in range(20)]\n",
    "    \n",
    "    #calculating modularity    \n",
    "    stats_dict[\"a_modularity\"]  = np.mean([nx.community.modularity(G,c) for c in generated_communities])\n",
    "    stats_dict[\"var_modularity\"]  = np.var([nx.community.modularity(G,c) for c in generated_communities])\n",
    "\n",
    "    #calculating nmi and kappa\n",
    "    l_nmi = []\n",
    "    l_kappa = []\n",
    "\n",
    "\n",
    "    for _ in range(n):\n",
    "        counter =0\n",
    "        comms = run_leiden(G)\n",
    "        comms = [frozenset(i) for i in comms]\n",
    "\n",
    "        lcl = create_lcl(comms,G)\n",
    "\n",
    "        l_nmi.append(sk.metrics.cluster.normalized_mutual_info_score(gcl, lcl))\n",
    "\n",
    "        #calculating kappa   \n",
    "        l_kappa.append(total_kappa(gcl, lcl))\n",
    "\n",
    "\n",
    "    stats_dict[\"a_nmi\"]  = np.mean(l_nmi)\n",
    "    stats_dict[\"var_nmi\"]  = np.var(l_nmi) \n",
    "\n",
    "    stats_dict[\"a_kappa\"]  = np.mean(l_kappa)\n",
    "    stats_dict[\"var_kappa\"]  = np.var(l_kappa) \n",
    "\n",
    "\n",
    "    return stats_dict\n",
    "\n"
   ]
  },
  {
   "cell_type": "code",
   "execution_count": 26,
   "metadata": {},
   "outputs": [],
   "source": [
    "res[\"leiden_small\"] = baseline_metrics_leiden(G_small)"
   ]
  },
  {
   "cell_type": "code",
   "execution_count": 27,
   "metadata": {},
   "outputs": [],
   "source": [
    "res[\"leiden_medium\"] = baseline_metrics_leiden(G_medium)"
   ]
  },
  {
   "cell_type": "code",
   "execution_count": 28,
   "metadata": {},
   "outputs": [],
   "source": [
    "res[\"leiden_large\"] = baseline_metrics_leiden(G_large)"
   ]
  },
  {
   "cell_type": "code",
   "execution_count": 29,
   "metadata": {},
   "outputs": [],
   "source": [
    "res[\"leiden_eucore\"] = baseline_metrics_leiden(eucore)"
   ]
  },
  {
   "cell_type": "markdown",
   "metadata": {},
   "source": [
    "### Baseline GN"
   ]
  },
  {
   "cell_type": "code",
   "execution_count": 34,
   "metadata": {},
   "outputs": [],
   "source": [
    "def baseline_metrics_gn(G, n=15):\n",
    "    ground = {frozenset(G.nodes[v][\"community\"]) for v in G}\n",
    "    \n",
    "    stats_dict = {}\n",
    "    # ----------------------------- generating_labels ---------------------------- #\n",
    "    ground_community_labels = {}\n",
    "    counter =0\n",
    "\n",
    "    for i in ground:\n",
    "        if i not in ground_community_labels:\n",
    "            ground_community_labels[i] = counter\n",
    "            counter += 1\n",
    "\n",
    "    gcl = [ground_community_labels[frozenset(G.nodes[node][\"community\"])]  for node in G.nodes]\n",
    "    \n",
    "    comp = nx.community.girvan_newman(G)\n",
    "    \n",
    "    limited = itertools.takewhile(lambda c: len(c) <= n, comp)\n",
    "\n",
    "\n",
    "    nx.community.girvan_newman(G)\n",
    "    comp = nx.community.girvan_newman(G)\n",
    "    gn = tuple(sorted(c) for c in next(comp))\n",
    " \n",
    "\n",
    "\n",
    "    generated_communities = [{frozenset(c) for c in gn}] \n",
    "    print(generated_communities)\n",
    "    #calculating modularity    \n",
    "    stats_dict[\"a_modularity\"]  = np.mean([nx.community.modularity(G,c) for c in generated_communities])\n",
    "    stats_dict[\"var_modularity\"]  = np.var([nx.community.modularity(G,c) for c in generated_communities])\n",
    "\n",
    "    #calculating nmi and kappa\n",
    "    l_nmi = []\n",
    "    l_kappa = []\n",
    "    \n",
    "    comms = frozenset(generated_communities[0]) \n",
    "    counter = 0\n",
    "\n",
    "\n",
    "    community_dict = {}\n",
    "    for i in comms:\n",
    "        if i not in community_dict:\n",
    "            community_dict[i] = counter\n",
    "        counter += 1\n",
    "\n",
    "    lcl = []\n",
    "    for node in G.nodes:\n",
    "        c = [x for x in comms if node in x]\n",
    "        c = c[0]\n",
    "        lcl.append(community_dict[c])\n",
    "\n",
    "    l_nmi.append(sk.metrics.cluster.normalized_mutual_info_score(gcl, lcl))\n",
    "\n",
    "    #calculating kappa   \n",
    "    l_kappa.append(total_kappa(gcl, lcl))\n",
    "\n",
    "\n",
    "    stats_dict[\"a_nmi\"]  = np.mean(l_nmi)\n",
    "    stats_dict[\"var_nmi\"]  = np.var(l_nmi) \n",
    "\n",
    "    stats_dict[\"a_kappa\"]  = np.mean(l_kappa)\n",
    "    stats_dict[\"var_kappa\"]  = np.var(l_kappa) \n",
    "\n",
    "\n",
    "    return stats_dict"
   ]
  },
  {
   "cell_type": "code",
   "execution_count": 31,
   "metadata": {},
   "outputs": [
    {
     "name": "stdout",
     "output_type": "stream",
     "text": [
      "here\n",
      "<class 'tuple'>\n",
      "here\n",
      "<class 'tuple'>\n",
      "[{frozenset({0, 32, 2, 3, 35, 39, 10, 11, 13, 45, 47, 49, 18, 19, 20, 25, 30}), frozenset({48}), frozenset({46, 14, 16, 23, 24}), frozenset({6}), frozenset({4, 5, 7, 8, 9, 12, 17, 21, 22, 26, 27, 28, 29, 31, 36, 37, 38, 40, 41, 42, 43}), frozenset({1, 34, 33, 44, 15})}]\n"
     ]
    }
   ],
   "source": [
    "res[\"gn_small\"] = baseline_metrics_gn(G_small,5)"
   ]
  },
  {
   "cell_type": "code",
   "execution_count": 35,
   "metadata": {},
   "outputs": [
    {
     "name": "stdout",
     "output_type": "stream",
     "text": [
      "[{frozenset({249, 37, 127}), frozenset({39}), frozenset({0, 1, 2, 3, 4, 5, 6, 7, 8, 9, 10, 11, 12, 13, 14, 15, 16, 17, 18, 19, 20, 21, 22, 23, 24, 25, 26, 27, 28, 29, 30, 31, 32, 33, 34, 35, 36, 38, 40, 41, 42, 43, 44, 45, 46, 47, 48, 49, 50, 51, 52, 53, 54, 55, 56, 57, 58, 59, 60, 61, 62, 63, 64, 65, 66, 67, 68, 69, 70, 71, 72, 73, 74, 75, 76, 77, 78, 79, 80, 81, 82, 83, 84, 85, 86, 87, 88, 89, 90, 91, 92, 93, 94, 95, 96, 97, 98, 99, 100, 101, 102, 103, 104, 105, 106, 107, 108, 109, 110, 111, 112, 113, 114, 115, 116, 117, 118, 119, 120, 121, 122, 123, 124, 125, 126, 128, 129, 130, 131, 132, 133, 134, 135, 136, 137, 138, 139, 140, 141, 142, 143, 144, 145, 146, 147, 148, 149, 150, 151, 152, 153, 154, 155, 156, 157, 158, 159, 160, 161, 162, 163, 164, 165, 166, 167, 168, 169, 170, 171, 172, 173, 174, 175, 176, 177, 178, 179, 180, 181, 182, 183, 184, 185, 186, 187, 188, 189, 190, 191, 192, 193, 194, 195, 196, 197, 198, 199, 200, 201, 202, 203, 204, 205, 206, 207, 208, 209, 210, 211, 212, 213, 214, 215, 216, 217, 218, 219, 220, 221, 222, 223, 224, 225, 226, 227, 228, 229, 230, 231, 232, 233, 234, 235, 236, 237, 238, 239, 240, 241, 242, 243, 244, 245, 246, 247, 248})}]\n"
     ]
    }
   ],
   "source": [
    "res[\"gn_medium\"] = baseline_metrics_gn(G_medium)\n"
   ]
  },
  {
   "cell_type": "code",
   "execution_count": 36,
   "metadata": {},
   "outputs": [
    {
     "name": "stdout",
     "output_type": "stream",
     "text": [
      "[{frozenset({0, 1, 2, 3, 4, 5, 6, 7, 8, 9, 10, 11, 12, 13, 14, 15, 16, 17, 18, 19, 20, 21, 22, 23, 24, 25, 26, 27, 28, 29, 30, 31, 32, 33, 34, 35, 36, 37, 38, 39, 40, 41, 42, 43, 44, 45, 46, 47, 48, 49, 50, 51, 52, 53, 54, 55, 56, 57, 58, 59, 60, 61, 62, 63, 64, 65, 66, 67, 68, 69, 70, 71, 72, 73, 74, 75, 76, 77, 78, 79, 80, 81, 82, 83, 84, 85, 86, 87, 88, 89, 90, 91, 92, 93, 94, 95, 96, 97, 98, 99, 100, 101, 102, 103, 104, 105, 106, 107, 108, 109, 110, 111, 112, 113, 114, 115, 116, 117, 118, 119, 120, 121, 122, 123, 124, 125, 126, 127, 128, 129, 130, 131, 132, 133, 134, 135, 136, 137, 138, 139, 140, 141, 142, 143, 144, 145, 146, 147, 148, 149, 150, 151, 152, 153, 154, 155, 156, 157, 158, 159, 160, 161, 162, 163, 164, 165, 166, 167, 168, 169, 170, 171, 172, 173, 174, 175, 176, 177, 178, 179, 180, 181, 182, 183, 184, 185, 186, 187, 188, 189, 190, 191, 192, 193, 194, 195, 196, 197, 198, 199, 200, 201, 202, 203, 204, 205, 206, 207, 208, 209, 210, 211, 212, 213, 214, 215, 216, 217, 218, 219, 220, 221, 222, 223, 224, 225, 226, 227, 228, 229, 230, 231, 232, 233, 234, 235, 236, 237, 238, 239, 240, 241, 242, 243, 244, 245, 246, 247, 248, 249, 250, 251, 252, 253, 254, 255, 256, 257, 258, 259, 260, 261, 262, 263, 264, 265, 266, 267, 268, 269, 270, 271, 272, 273, 274, 275, 276, 277, 278, 279, 280, 281, 282, 283, 284, 285, 286, 287, 288, 289, 290, 291, 292, 293, 294, 295, 296, 297, 298, 299, 300, 301, 302, 303, 304, 305, 306, 307, 308, 309, 310, 311, 312, 313, 314, 315, 316, 317, 318, 319, 320, 321, 322, 323, 324, 325, 326, 327, 328, 329, 330, 331, 332, 333, 334, 335, 336, 337, 338, 339, 340, 341, 342, 343, 344, 345, 346, 347, 348, 349, 350, 351, 352, 353, 354, 355, 356, 357, 358, 359, 360, 361, 362, 363, 364, 365, 366, 367, 368, 369, 370, 371, 372, 373, 374, 375, 376, 377, 378, 379, 380, 381, 382, 383, 384, 385, 386, 387, 388, 389, 390, 391, 392, 393, 394, 395, 396, 397, 398, 399, 400, 401, 402, 403, 404, 405, 406, 407, 408, 409, 410, 411, 412, 413, 414, 415, 416, 417, 418, 419, 420, 421, 422, 423, 424, 425, 426, 427, 428, 429, 430, 431, 432, 433, 434, 435, 436, 437, 438, 439, 440, 441, 442, 443, 444, 445, 446, 447, 448, 449, 450, 451, 452, 453, 454, 455, 456, 457, 458, 459, 460, 461, 462, 463, 464, 465, 466, 467, 468, 469, 470, 471, 472, 473, 474, 475, 476, 477, 478, 479, 480, 481, 482, 483, 484, 485, 486, 487, 488, 489, 490, 491, 492, 493, 494, 495, 496, 497, 498, 499, 500, 501, 502, 503, 504, 505, 506, 507, 508, 509, 510, 511, 512, 513, 514, 515, 516, 517, 518, 519, 520, 521, 522, 523, 524, 525, 526, 527, 528, 529, 530, 531, 533, 534, 535, 536, 537, 538, 539, 540, 541, 542, 543, 544, 545, 546, 547, 548, 549, 550, 551, 552, 553, 554, 555, 556, 557, 558, 559, 560, 561, 562, 563, 564, 565, 566, 567, 568, 569, 570, 571, 572, 573, 574, 575, 576, 577, 578, 579, 580, 581, 582, 583, 584, 585, 586, 587, 588, 589, 590, 591, 592, 593, 594, 595, 596, 597, 598, 599, 600, 601, 602, 603, 604, 605, 606, 607, 608, 609, 610, 611, 612, 613, 614, 615, 616, 617, 618, 619, 620, 621, 622, 623, 624, 625, 626, 627, 628, 629, 630, 631, 632, 633, 634, 635, 636, 637, 638, 639, 640, 641, 642, 643, 644, 645, 646, 647, 648, 649, 650, 651, 652, 653, 654, 655, 656, 657, 658, 659, 660, 661, 662, 663, 664, 665, 666, 667, 668, 669, 670, 671, 672, 673, 674, 675, 676, 677, 678, 679, 680, 681, 682, 683, 684, 685, 686, 687, 688, 689, 690, 691, 692, 693, 694, 695, 696, 697, 698, 699, 700, 701, 702, 703, 704, 705, 706, 707, 708, 709, 710, 711, 712, 713, 714, 715, 716, 717, 718, 719, 720, 721, 722, 723, 724, 725, 726, 727, 728, 729, 730, 731, 732, 733, 734, 735, 736, 737, 738, 739, 740, 741, 742, 743, 744, 745, 746, 747, 748, 749, 750, 751, 752, 753, 754, 755, 756, 757, 758, 759, 760, 761, 762, 763, 764, 765, 766, 767, 768, 769, 770, 771, 772, 773, 774, 775, 776, 777, 778, 779, 780, 781, 782, 783, 784, 785, 786, 787, 788, 789, 790, 791, 792, 793, 794, 795, 796, 797, 798, 799, 800, 801, 802, 803, 804, 805, 806, 807, 808, 809, 810, 811, 812, 813, 814, 815, 816, 817, 818, 819, 820, 821, 822, 823, 824, 825, 826, 827, 828, 829, 830, 831, 832, 833, 834, 835, 836, 837, 838, 839, 840, 841, 842, 843, 844, 845, 846, 847, 848, 849, 850, 851, 852, 853, 854, 855, 856, 857, 858, 859, 860, 861, 862, 863, 864, 865, 866, 867, 868, 869, 870, 871, 872, 873, 874, 875, 876, 877, 878, 879, 880, 881, 882, 883, 884, 885, 886, 887, 888, 889, 890, 891, 892, 893, 894, 895, 896, 897, 898, 899, 900, 901, 902, 903, 904, 905, 906, 907, 908, 909, 910, 911, 912, 913, 914, 915, 916, 917, 918, 919, 920, 921, 922, 923, 924, 925, 926, 927, 928, 929, 930, 931, 932, 933, 934, 935, 936, 937, 938, 939, 940, 941, 942, 943, 944, 945, 946, 947, 948, 949, 950, 951, 952, 953, 954, 955, 956, 957, 958, 959, 960, 961, 962, 963, 964, 965, 966, 967, 968, 969, 970, 971, 972, 973, 974, 975, 976, 977, 978, 979, 980, 981, 982, 983, 984, 985, 986, 987, 988, 989, 990, 991, 992, 993, 994, 995, 996, 997, 998, 999}), frozenset({532})}]\n"
     ]
    }
   ],
   "source": [
    "res[\"gn_large\"] =  baseline_metrics_gn(G_large, )"
   ]
  },
  {
   "cell_type": "code",
   "execution_count": 37,
   "metadata": {},
   "outputs": [
    {
     "name": "stdout",
     "output_type": "stream",
     "text": [
      "[{frozenset({798}), frozenset({580}), frozenset({660}), frozenset({675}), frozenset({744}), frozenset({633}), frozenset({670}), frozenset({732}), frozenset({0, 1, 2, 3, 4, 5, 6, 7, 8, 9, 10, 11, 12, 13, 14, 15, 16, 17, 18, 19, 20, 21, 22, 23, 24, 25, 26, 27, 28, 29, 30, 31, 32, 33, 34, 35, 36, 37, 38, 39, 40, 41, 42, 43, 44, 45, 46, 47, 48, 49, 50, 51, 52, 53, 54, 55, 56, 57, 58, 59, 60, 61, 62, 63, 64, 65, 66, 67, 68, 69, 70, 71, 72, 73, 74, 75, 76, 77, 78, 79, 80, 81, 82, 83, 84, 85, 86, 87, 88, 89, 90, 91, 92, 93, 94, 95, 96, 97, 98, 99, 100, 101, 102, 103, 104, 105, 106, 107, 108, 109, 110, 111, 112, 113, 114, 115, 116, 117, 118, 119, 120, 121, 122, 123, 124, 125, 126, 127, 128, 129, 130, 131, 132, 133, 134, 135, 136, 137, 138, 139, 140, 141, 142, 143, 144, 145, 146, 147, 148, 149, 150, 151, 152, 153, 154, 155, 156, 157, 158, 159, 160, 161, 162, 163, 164, 165, 166, 167, 168, 169, 170, 171, 172, 173, 174, 175, 176, 177, 178, 179, 180, 181, 182, 183, 184, 185, 186, 187, 188, 189, 190, 191, 192, 193, 194, 195, 196, 197, 198, 199, 200, 201, 202, 203, 204, 205, 206, 207, 208, 209, 210, 211, 212, 213, 214, 215, 216, 217, 218, 219, 220, 221, 222, 223, 224, 225, 226, 227, 228, 229, 230, 231, 232, 233, 234, 235, 236, 237, 238, 239, 240, 241, 242, 243, 244, 245, 246, 247, 248, 249, 250, 251, 252, 253, 254, 255, 256, 257, 258, 259, 260, 261, 262, 263, 264, 265, 266, 267, 268, 269, 270, 271, 272, 273, 274, 275, 276, 277, 278, 279, 280, 281, 282, 283, 284, 285, 286, 287, 288, 289, 290, 291, 292, 293, 294, 295, 296, 297, 298, 299, 300, 301, 302, 303, 304, 305, 306, 307, 308, 309, 310, 311, 312, 313, 314, 315, 316, 317, 318, 319, 320, 321, 322, 323, 324, 325, 326, 327, 328, 329, 330, 331, 332, 333, 334, 335, 336, 337, 338, 339, 340, 341, 342, 343, 344, 345, 346, 347, 348, 349, 350, 351, 352, 353, 354, 355, 356, 357, 358, 359, 360, 361, 362, 363, 364, 365, 366, 367, 368, 369, 370, 371, 372, 373, 374, 375, 376, 377, 378, 379, 380, 381, 382, 383, 384, 385, 386, 387, 388, 389, 390, 391, 392, 393, 394, 395, 396, 397, 398, 399, 400, 401, 402, 403, 404, 405, 406, 407, 408, 409, 410, 411, 412, 413, 415, 416, 417, 418, 419, 420, 421, 422, 423, 424, 425, 426, 427, 428, 429, 430, 431, 432, 433, 434, 435, 436, 437, 438, 439, 440, 441, 442, 443, 444, 445, 446, 447, 448, 450, 451, 452, 453, 454, 455, 456, 457, 458, 459, 460, 461, 462, 463, 464, 465, 466, 467, 468, 469, 470, 471, 472, 473, 474, 475, 476, 477, 478, 479, 480, 481, 482, 483, 484, 485, 486, 487, 488, 489, 490, 491, 492, 493, 494, 495, 496, 497, 498, 499, 500, 501, 502, 503, 504, 505, 506, 507, 508, 509, 510, 511, 512, 513, 514, 515, 516, 517, 518, 519, 520, 521, 522, 523, 524, 525, 526, 527, 528, 529, 530, 531, 532, 533, 534, 535, 536, 537, 538, 539, 540, 541, 542, 543, 544, 545, 546, 547, 548, 549, 550, 551, 552, 553, 554, 555, 556, 557, 558, 559, 560, 561, 562, 563, 564, 565, 566, 567, 568, 569, 570, 571, 572, 573, 574, 575, 576, 577, 578, 579, 581, 582, 583, 584, 585, 586, 587, 588, 589, 590, 591, 592, 593, 594, 595, 596, 597, 598, 599, 600, 601, 602, 604, 606, 607, 608, 609, 610, 611, 612, 613, 614, 615, 616, 617, 618, 619, 620, 621, 622, 623, 624, 625, 626, 627, 628, 629, 630, 631, 632, 634, 635, 636, 637, 638, 639, 640, 641, 642, 643, 644, 645, 646, 647, 649, 650, 651, 652, 654, 655, 656, 657, 659, 661, 662, 663, 664, 665, 666, 667, 668, 669, 671, 672, 673, 674, 676, 677, 678, 679, 680, 681, 682, 683, 685, 686, 687, 688, 689, 690, 692, 693, 694, 695, 696, 697, 698, 699, 700, 701, 702, 704, 705, 706, 707, 708, 709, 710, 712, 713, 714, 715, 716, 717, 718, 719, 720, 721, 722, 723, 724, 725, 726, 727, 728, 729, 730, 733, 734, 735, 736, 737, 738, 739, 740, 741, 742, 743, 745, 747, 748, 749, 750, 751, 752, 753, 754, 755, 756, 757, 758, 759, 760, 761, 762, 763, 764, 765, 766, 767, 768, 769, 770, 771, 773, 774, 775, 776, 777, 778, 779, 780, 781, 782, 783, 784, 785, 786, 787, 788, 789, 790, 791, 792, 793, 794, 795, 796, 797, 799, 800, 801, 802, 803, 804, 805, 806, 807, 809, 810, 811, 812, 813, 814, 815, 816, 817, 818, 819, 820, 821, 822, 823, 824, 825, 826, 827, 828, 829, 830, 831, 832, 833, 834, 835, 836, 837, 838, 839, 840, 841, 842, 843, 844, 845, 847, 848, 849, 850, 851, 852, 853, 854, 855, 856, 857, 858, 859, 860, 861, 862, 863, 864, 865, 866, 867, 868, 869, 870, 871, 872, 873, 874, 875, 876, 877, 878, 879, 880, 881, 882, 883, 884, 885, 886, 887, 888, 889, 890, 891, 892, 893, 894, 895, 896, 897, 898, 899, 900, 901, 902, 903, 904, 905, 906, 907, 908, 909, 910, 911, 912, 913, 914, 915, 917, 918, 919, 920, 921, 922, 923, 924, 925, 926, 927, 928, 929, 930, 931, 932, 933, 934, 935, 936, 937, 938, 939, 940, 941, 942, 943, 944, 945, 946, 947, 948, 949, 950, 951, 952, 953, 954, 955, 956, 957, 958, 959, 960, 961, 962, 963, 964, 965, 966, 967, 968, 969, 970, 971, 972, 973, 974, 975, 976, 977, 978, 979, 980, 981, 982, 983, 984, 985, 986, 987, 988, 989, 990, 991, 992, 993, 994, 995, 996, 997, 998, 999, 1000, 1001, 1002, 1003}), frozenset({684}), frozenset({711}), frozenset({703}), frozenset({653}), frozenset({691}), frozenset({648}), frozenset({449, 846, 916, 603, 605, 414}), frozenset({658}), frozenset({731}), frozenset({808}), frozenset({772}), frozenset({746})}]\n"
     ]
    }
   ],
   "source": [
    "res[\"gn_eucore\"] = baseline_metrics_gn(eucore,40)"
   ]
  },
  {
   "cell_type": "code",
   "execution_count": 38,
   "metadata": {},
   "outputs": [
    {
     "data": {
      "text/plain": [
       "{'a_modularity': 0.003109299536853528,\n",
       " 'var_modularity': 0.0,\n",
       " 'a_nmi': 0.04093204857483724,\n",
       " 'var_nmi': 0.0,\n",
       " 'a_kappa': 0.00972239800885399,\n",
       " 'var_kappa': 0.0}"
      ]
     },
     "execution_count": 38,
     "metadata": {},
     "output_type": "execute_result"
    }
   ],
   "source": [
    "res[\"gn_eucore\"]"
   ]
  },
  {
   "cell_type": "code",
   "execution_count": 39,
   "metadata": {},
   "outputs": [
    {
     "data": {
      "text/plain": [
       "dict_keys(['louvain_small', 'louvain_medium', 'louvain_large', 'louvain_eucore', 'leiden_small', 'leiden_medium', 'leiden_large', 'leiden_eucore', 'gn_small', 'gn_medium', 'gn_large', 'gn_eucore'])"
      ]
     },
     "execution_count": 39,
     "metadata": {},
     "output_type": "execute_result"
    }
   ],
   "source": [
    "modularities = [res[key][\"a_modularity\"] for key in res ]\n",
    "nmis = [res[key][\"a_nmi\"] for key in res ]\n",
    "kappas = [res[key][\"a_kappa\"] for key in res ]\n",
    "\n",
    "\n",
    "\n",
    "colors = [label_colors[str(key).split(\"_\")[0]] for key in res]\n",
    "res.keys()\n"
   ]
  },
  {
   "cell_type": "code",
   "execution_count": 40,
   "metadata": {},
   "outputs": [
    {
     "name": "stderr",
     "output_type": "stream",
     "text": [
      "C:\\Users\\Felipe Cintra\\AppData\\Local\\Temp\\ipykernel_17328\\2088141532.py:5: UserWarning: set_ticklabels() should only be used with a fixed number of ticks, i.e. after set_ticks() or using a FixedLocator.\n",
      "  ax[0].set_xticklabels(ax[0].get_xticklabels(),  rotation=45, horizontalalignment=\"right\")\n",
      "C:\\Users\\Felipe Cintra\\AppData\\Local\\Temp\\ipykernel_17328\\2088141532.py:11: UserWarning: set_ticklabels() should only be used with a fixed number of ticks, i.e. after set_ticks() or using a FixedLocator.\n",
      "  ax[1].set_xticklabels(ax[0].get_xticklabels(),  rotation=45, horizontalalignment=\"right\")\n",
      "C:\\Users\\Felipe Cintra\\AppData\\Local\\Temp\\ipykernel_17328\\2088141532.py:16: UserWarning: set_ticklabels() should only be used with a fixed number of ticks, i.e. after set_ticks() or using a FixedLocator.\n",
      "  ax[2].set_xticklabels(ax[0].get_xticklabels(),  rotation=45, horizontalalignment=\"right\")\n"
     ]
    },
    {
     "data": {
      "text/plain": [
       "Text(0.5, 0.98, 'Performance Metrics of Baseline Algorithms')"
      ]
     },
     "execution_count": 40,
     "metadata": {},
     "output_type": "execute_result"
    },
    {
     "data": {
      "image/png": "[encoded data removed]",
      "text/plain": [
       "<Figure size 1800x400 with 3 Axes>"
      ]
     },
     "metadata": {},
     "output_type": "display_data"
    }
   ],
   "source": [
    "fig, ax = plt.subplots(1,3, figsize=(18,4))\n",
    "\n",
    "# modularity\n",
    "ax[0].bar([key for key in res], modularities, color=colors)\n",
    "ax[0].set_xticklabels(ax[0].get_xticklabels(),  rotation=45, horizontalalignment=\"right\")\n",
    "ax[0].set_title(\"Modularity\", fontsize=16)\n",
    "\n",
    "\n",
    "# nmi\n",
    "ax[1].bar([key for key in res], nmis, color=colors)\n",
    "ax[1].set_xticklabels(ax[0].get_xticklabels(),  rotation=45, horizontalalignment=\"right\")\n",
    "ax[1].set_title(\"NMI\", fontsize=16)\n",
    "\n",
    "# kappa\n",
    "ax[2].bar([key for key in res], kappas, color=colors)\n",
    "ax[2].set_xticklabels(ax[0].get_xticklabels(),  rotation=45, horizontalalignment=\"right\")\n",
    "ax[2].set_title(\"Kappa\", fontsize=16)\n",
    "\n",
    "plt.subplots_adjust(top=0.8)\n",
    "plt.suptitle(\"Performance Metrics of Baseline Algorithms\", fontsize=20)\n"
   ]
  },
  {
   "cell_type": "code",
   "execution_count": 41,
   "metadata": {},
   "outputs": [],
   "source": [
    "res_flow_capacity = {}\n",
    "alpha_mod = {}"
   ]
  },
  {
   "cell_type": "markdown",
   "metadata": {},
   "source": [
    "# Flow Capacity"
   ]
  },
  {
   "cell_type": "markdown",
   "metadata": {},
   "source": [
    "## Flow Capacity Louvain"
   ]
  },
  {
   "cell_type": "code",
   "execution_count": 42,
   "metadata": {},
   "outputs": [],
   "source": [
    "def flow_capacity_louvain_mod(G, quality=\"m\"):\n",
    "    metrics = []\n",
    "    alpha_vals = np.arange(0,1, 0.1)\n",
    "    gcl = create_gcl(G)\n",
    "    \n",
    "    for alpha in alpha_vals: #training\n",
    "        A = nx.adjacency_matrix(G, weight=None)\n",
    "        I = nx.adjacency_matrix(G, weight=\"weight\")/np.sum(nx.adjacency_matrix(G, weight=\"weight\"))\n",
    "        F = (1-alpha)*A + alpha*I\n",
    "        F = nx.from_numpy_array(F)\n",
    "        # ---------------------------------- running algorithm --------------------------------- #\n",
    "\n",
    " \n",
    "        generated_communities = [nx.community.louvain_communities(F, weight=\"weight\") for _ in tqdm.tqdm(range(5))]\n",
    "\n",
    "\n",
    "        if quality == \"m\":   # metric = modularity\n",
    "            metrics.append(np.mean([nx.community.modularity(G,c) for c in generated_communities]))\n",
    "\n",
    "        else:\n",
    "            l = []\n",
    "\n",
    "            for comms in generated_communities:\n",
    "                comms = [frozenset(i) for i in comms]\n",
    "                lcl = create_lcl(comms,G)\n",
    "\n",
    "                if quality == \"n\":\n",
    "                    l.append(sk.metrics.cluster.normalized_mutual_info_score(gcl, lcl)) # metric nmi\n",
    "                else:\n",
    "                    l.append(total_kappa(gcl, lcl)) # metric kappa\n",
    "\n",
    "            metrics.append(np.mean(l)) \n",
    "\n",
    "\n",
    "\n",
    "    # ------------------------- applying trained version ------------------------- #\n",
    "\n",
    "    alpha_index, max_metric = metrics.index(max(metrics)), max(metrics) #gets index with highest alpha value, gets highest metric value\n",
    "    max_alpha = alpha_vals[alpha_index]\n",
    "\n",
    "    I = nx.adjacency_matrix(G, weight=\"weight\")/np.sum(nx.adjacency_matrix(G, weight=\"weight\"))\n",
    "    F = (1-max_alpha)*A + max_alpha*I\n",
    "    \n",
    "    F = nx.from_numpy_array(F)\n",
    "\n",
    "    stats_dict = {}\n",
    "    # ----------------------------- generating_labels ---------------------------- #\n",
    "\n",
    "\n",
    "    generated_communities = [nx.community.louvain_communities(F) for _ in range(10)]\n",
    "    \n",
    "    #calculating modularity    \n",
    "    stats_dict[\"a_modularity\"]  = np.mean([nx.community.modularity(G,c) for c in generated_communities])\n",
    "    stats_dict[\"var_modularity\"]  = np.var([nx.community.modularity(G,c) for c in generated_communities])\n",
    "\n",
    "    #calculating nmi and kappa\n",
    "    l_nmi = []\n",
    "    l_kappa = []\n",
    "    l_accur = []\n",
    "\n",
    "\n",
    "    for _ in range(15):\n",
    "        counter =0\n",
    "        comms = nx.community.louvain_communities(F)\n",
    "        comms = [frozenset(i) for i in comms]\n",
    "\n",
    "        lcl = create_lcl(comms,G)\n",
    "\n",
    "        l_nmi.append(sk.metrics.cluster.normalized_mutual_info_score(gcl, lcl))\n",
    "\n",
    "        #calculating kappa   \n",
    "        l_kappa.append(total_kappa(gcl, lcl))\n",
    "        l_accur.append(total_accuracy(gcl, lcl))\n",
    "\n",
    "\n",
    "    stats_dict[\"a_nmi\"]  = np.mean(l_nmi)\n",
    "    stats_dict[\"var_nmi\"]  = np.var(l_nmi) \n",
    "\n",
    "    stats_dict[\"a_kappa\"]  = np.mean(l_kappa)\n",
    "    stats_dict[\"var_kappa\"]  = np.var(l_kappa) \n",
    "    stats_dict[\"accuracy\"] = np.mean(l_accur)\n",
    "\n",
    "    \n",
    "    return stats_dict, max_alpha, metrics"
   ]
  },
  {
   "cell_type": "code",
   "execution_count": 43,
   "metadata": {},
   "outputs": [
    {
     "name": "stderr",
     "output_type": "stream",
     "text": [
      "100%|██████████| 5/5 [00:00<00:00, 555.30it/s]\n",
      "100%|██████████| 5/5 [00:00<00:00, 555.43it/s]\n",
      "100%|██████████| 5/5 [00:00<00:00, 555.40it/s]\n",
      "100%|██████████| 5/5 [00:00<00:00, 555.45it/s]\n",
      "100%|██████████| 5/5 [00:00<00:00, 499.71it/s]\n",
      "100%|██████████| 5/5 [00:00<00:00, 555.45it/s]\n",
      "100%|██████████| 5/5 [00:00<00:00, 555.46it/s]\n",
      "100%|██████████| 5/5 [00:00<00:00, 555.43it/s]\n",
      "100%|██████████| 5/5 [00:00<00:00, 555.43it/s]\n",
      "100%|██████████| 5/5 [00:00<00:00, 499.92it/s]\n"
     ]
    }
   ],
   "source": [
    "stats, alpha, max_mod = flow_capacity_louvain_mod(G_small, quality=\"q\")\n",
    "res_flow_capacity[\"louvain_small_modularity\"] =  stats\n",
    "alpha_mod[\"louvain_small_modularity\"] = [alpha, max_mod]"
   ]
  },
  {
   "cell_type": "code",
   "execution_count": 44,
   "metadata": {},
   "outputs": [
    {
     "name": "stderr",
     "output_type": "stream",
     "text": [
      "100%|██████████| 5/5 [00:00<00:00, 555.48it/s]\n",
      "100%|██████████| 5/5 [00:00<00:00, 555.38it/s]\n",
      "100%|██████████| 5/5 [00:00<00:00, 555.46it/s]\n",
      "100%|██████████| 5/5 [00:00<00:00, 499.87it/s]\n",
      "100%|██████████| 5/5 [00:00<00:00, 555.40it/s]\n",
      "100%|██████████| 5/5 [00:00<00:00, 555.43it/s]\n",
      "100%|██████████| 5/5 [00:00<00:00, 555.46it/s]\n",
      "100%|██████████| 5/5 [00:00<00:00, 555.43it/s]\n",
      "100%|██████████| 5/5 [00:00<00:00, 555.42it/s]\n",
      "100%|██████████| 5/5 [00:00<00:00, 624.93it/s]\n"
     ]
    }
   ],
   "source": [
    "stats, alpha, max_mod = flow_capacity_louvain_mod(G_small, quality=\"k\")\n",
    "res_flow_capacity[\"louvain_small_kappa\"] =  stats\n",
    "alpha_mod[\"louvain_small_kappa\"] = [alpha, max_mod]"
   ]
  },
  {
   "cell_type": "code",
   "execution_count": 45,
   "metadata": {},
   "outputs": [
    {
     "name": "stderr",
     "output_type": "stream",
     "text": [
      "100%|██████████| 5/5 [00:00<00:00, 36.76it/s]\n",
      "100%|██████████| 5/5 [00:00<00:00, 33.47it/s]\n",
      "100%|██████████| 5/5 [00:00<00:00, 33.52it/s]\n",
      "100%|██████████| 5/5 [00:00<00:00, 35.13it/s]\n",
      "100%|██████████| 5/5 [00:00<00:00, 33.28it/s]\n",
      "100%|██████████| 5/5 [00:00<00:00, 33.33it/s]\n",
      "100%|██████████| 5/5 [00:00<00:00, 34.19it/s]\n",
      "100%|██████████| 5/5 [00:00<00:00, 36.52it/s]\n",
      "100%|██████████| 5/5 [00:00<00:00, 37.89it/s]\n",
      "100%|██████████| 5/5 [00:00<00:00, 36.17it/s]\n"
     ]
    }
   ],
   "source": [
    "stats, alpha, max_mod = flow_capacity_louvain_mod(G_medium, quality=\"q\")\n",
    "res_flow_capacity[\"louvain_medium_nmi\"] =  stats\n",
    "alpha_mod[\"louvain_medium_nmi\"] = [alpha, max_mod]\n"
   ]
  },
  {
   "cell_type": "code",
   "execution_count": 46,
   "metadata": {},
   "outputs": [
    {
     "name": "stderr",
     "output_type": "stream",
     "text": [
      "100%|██████████| 5/5 [00:00<00:00, 39.67it/s]\n",
      "100%|██████████| 5/5 [00:00<00:00, 39.67it/s]\n",
      "100%|██████████| 5/5 [00:00<00:00, 39.36it/s]\n",
      "100%|██████████| 5/5 [00:00<00:00, 37.03it/s]\n",
      "100%|██████████| 5/5 [00:00<00:00, 14.92it/s]\n",
      "100%|██████████| 5/5 [00:00<00:00, 38.45it/s]\n",
      "100%|██████████| 5/5 [00:00<00:00, 36.49it/s]\n",
      "100%|██████████| 5/5 [00:00<00:00, 37.73it/s]\n",
      "100%|██████████| 5/5 [00:00<00:00, 37.31it/s]\n",
      "100%|██████████| 5/5 [00:00<00:00, 38.16it/s]\n"
     ]
    }
   ],
   "source": [
    "stats, alpha, max_mod = flow_capacity_louvain_mod(G_medium, quality=\"k\")\n",
    "res_flow_capacity[\"louvain_medium_kappa\"] =  stats\n",
    "alpha_mod[\"louvain_medium_kappa\"] = [alpha, max_mod]"
   ]
  },
  {
   "cell_type": "code",
   "execution_count": 47,
   "metadata": {},
   "outputs": [
    {
     "name": "stderr",
     "output_type": "stream",
     "text": [
      "100%|██████████| 5/5 [00:00<00:00, 37.47it/s]\n",
      "100%|██████████| 5/5 [00:00<00:00, 36.76it/s]\n",
      "100%|██████████| 5/5 [00:00<00:00, 39.67it/s]\n",
      "100%|██████████| 5/5 [00:00<00:00, 39.36it/s]\n",
      "100%|██████████| 5/5 [00:00<00:00, 37.30it/s]\n",
      "100%|██████████| 5/5 [00:00<00:00, 38.45it/s]\n",
      "100%|██████████| 5/5 [00:00<00:00, 38.75it/s]\n",
      "100%|██████████| 5/5 [00:00<00:00, 38.16it/s]\n",
      "100%|██████████| 5/5 [00:00<00:00, 37.87it/s]\n",
      "100%|██████████| 5/5 [00:00<00:00, 38.16it/s]\n"
     ]
    }
   ],
   "source": [
    "stats, alpha, max_mod = flow_capacity_louvain_mod(G_medium, quality=\"n\")\n",
    "res_flow_capacity[\"louvain_medium_nmi\"] =  stats\n",
    "alpha_mod[\"louvain_medium_nmi\"] = [alpha, max_mod]"
   ]
  },
  {
   "cell_type": "code",
   "execution_count": 48,
   "metadata": {},
   "outputs": [
    {
     "name": "stderr",
     "output_type": "stream",
     "text": [
      "100%|██████████| 5/5 [00:00<00:00,  6.30it/s]\n",
      "100%|██████████| 5/5 [00:00<00:00,  6.59it/s]\n",
      "100%|██████████| 5/5 [00:00<00:00,  6.88it/s]\n",
      "100%|██████████| 5/5 [00:00<00:00,  7.54it/s]\n",
      "100%|██████████| 5/5 [00:00<00:00,  5.16it/s]\n",
      "100%|██████████| 5/5 [00:00<00:00,  6.65it/s]\n",
      "100%|██████████| 5/5 [00:00<00:00,  6.15it/s]\n",
      "100%|██████████| 5/5 [00:00<00:00,  7.08it/s]\n",
      "100%|██████████| 5/5 [00:00<00:00,  7.64it/s]\n",
      "100%|██████████| 5/5 [00:00<00:00,  5.74it/s]\n"
     ]
    }
   ],
   "source": [
    "stats, alpha, max_mod = flow_capacity_louvain_mod(G_large, quality=\"n\")\n",
    "res_flow_capacity[\"louvain_large_nmi\"] =  stats\n",
    "alpha_mod[\"louvain_large_nmi\"] = [alpha, max_mod]"
   ]
  },
  {
   "cell_type": "code",
   "execution_count": 49,
   "metadata": {},
   "outputs": [
    {
     "name": "stderr",
     "output_type": "stream",
     "text": [
      "100%|██████████| 5/5 [00:00<00:00,  6.39it/s]\n",
      "100%|██████████| 5/5 [00:00<00:00,  6.66it/s]\n",
      "100%|██████████| 5/5 [00:00<00:00,  7.00it/s]\n",
      "100%|██████████| 5/5 [00:00<00:00,  5.57it/s]\n",
      "100%|██████████| 5/5 [00:00<00:00,  6.11it/s]\n",
      "100%|██████████| 5/5 [00:00<00:00,  7.59it/s]\n",
      "100%|██████████| 5/5 [00:00<00:00,  6.69it/s]\n",
      "100%|██████████| 5/5 [00:00<00:00,  6.53it/s]\n",
      "100%|██████████| 5/5 [00:00<00:00,  6.92it/s]\n",
      "100%|██████████| 5/5 [00:00<00:00,  7.67it/s]\n"
     ]
    },
    {
     "data": {
      "text/plain": [
       "({'a_modularity': 0.42954348459164116,\n",
       "  'var_modularity': 1.3414440224510454e-05,\n",
       "  'a_nmi': 0.15138906874269423,\n",
       "  'var_nmi': 2.80702059735012e-05,\n",
       "  'a_kappa': 0.012653593063520012,\n",
       "  'var_kappa': 3.161607814623122e-05,\n",
       "  'accuracy': 0.0045797851666204295},\n",
       " 0.7000000000000001,\n",
       " [0.012120648508126193,\n",
       "  0.016717295298397907,\n",
       "  0.009322689592308624,\n",
       "  0.01451889900739839,\n",
       "  0.010521814841944727,\n",
       "  0.020114816839033527,\n",
       "  0.013519627966034972,\n",
       "  0.031706360918849166,\n",
       "  0.024311755212759877,\n",
       "  0.02271292154657841])"
      ]
     },
     "execution_count": 49,
     "metadata": {},
     "output_type": "execute_result"
    }
   ],
   "source": [
    "stats, alpha, max_mod = flow_capacity_louvain_mod(eucore, quality=\"k\")\n",
    "res_flow_capacity[\"louvain_eucore_kappa\"] =  stats\n",
    "alpha_mod[\"louvain_eucore_kappa\"] = [alpha, max_mod]\n",
    "\n",
    "stats, alpha, max_mod"
   ]
  },
  {
   "cell_type": "code",
   "execution_count": 50,
   "metadata": {},
   "outputs": [
    {
     "name": "stderr",
     "output_type": "stream",
     "text": [
      "100%|██████████| 5/5 [00:00<00:00,  7.17it/s]\n",
      "100%|██████████| 5/5 [00:00<00:00,  7.32it/s]\n",
      "100%|██████████| 5/5 [00:00<00:00,  5.17it/s]\n",
      "100%|██████████| 5/5 [00:00<00:00,  6.76it/s]\n",
      "100%|██████████| 5/5 [00:00<00:00,  7.21it/s]\n",
      "100%|██████████| 5/5 [00:00<00:00,  5.11it/s]\n",
      "100%|██████████| 5/5 [00:00<00:00,  6.25it/s]\n",
      "100%|██████████| 5/5 [00:00<00:00,  6.47it/s]\n",
      "100%|██████████| 5/5 [00:00<00:00,  5.74it/s]\n",
      "100%|██████████| 5/5 [00:00<00:00,  5.94it/s]\n"
     ]
    },
    {
     "data": {
      "text/plain": [
       "({'a_modularity': 0.4308113948318984,\n",
       "  'var_modularity': 1.4266143322094446e-05,\n",
       "  'a_nmi': 0.14693938219347383,\n",
       "  'var_nmi': 4.322005109313833e-05,\n",
       "  'a_kappa': 0.016783913367822135,\n",
       "  'var_kappa': 0.00023731585665238183,\n",
       "  'accuracy': 0.006599293793486459},\n",
       " 0.8,\n",
       " [0.01631758688185254,\n",
       "  0.017316857923215957,\n",
       "  0.007124293301309109,\n",
       "  0.02051452525557889,\n",
       "  0.018116274756306693,\n",
       "  0.02511117204585061,\n",
       "  0.008523272759217892,\n",
       "  0.019515254214215478,\n",
       "  0.02990767304439501,\n",
       "  0.014319044799125704])"
      ]
     },
     "execution_count": 50,
     "metadata": {},
     "output_type": "execute_result"
    }
   ],
   "source": [
    "stats, alpha, max_mod = flow_capacity_louvain_mod(eucore, quality=\"q\")\n",
    "res_flow_capacity[\"louvain_eucore_modularity\"] =  stats\n",
    "alpha_mod[\"louvain_eucore_modularity\"] = [alpha, max_mod]\n",
    "\n",
    "\n",
    "stats, alpha, max_mod"
   ]
  },
  {
   "cell_type": "code",
   "execution_count": 51,
   "metadata": {},
   "outputs": [
    {
     "name": "stderr",
     "output_type": "stream",
     "text": [
      "100%|██████████| 5/5 [00:00<00:00,  6.76it/s]\n",
      "100%|██████████| 5/5 [00:00<00:00,  8.10it/s]\n",
      "100%|██████████| 5/5 [00:00<00:00,  5.44it/s]\n",
      "100%|██████████| 5/5 [00:00<00:00,  6.54it/s]\n",
      "100%|██████████| 5/5 [00:00<00:00,  6.73it/s]\n",
      "100%|██████████| 5/5 [00:00<00:00,  7.28it/s]\n",
      "100%|██████████| 5/5 [00:00<00:00,  6.61it/s]\n",
      "100%|██████████| 5/5 [00:00<00:00,  6.70it/s]\n",
      "100%|██████████| 5/5 [00:00<00:00,  7.63it/s]\n",
      "100%|██████████| 5/5 [00:00<00:00,  7.37it/s]\n"
     ]
    },
    {
     "data": {
      "text/plain": [
       "({'a_modularity': 0.4315225206600434,\n",
       "  'var_modularity': 2.0949752067445e-06,\n",
       "  'a_nmi': 0.14950051629316813,\n",
       "  'var_nmi': 5.334870031943355e-05,\n",
       "  'a_kappa': 0.014385662868549937,\n",
       "  'var_kappa': 9.341920900872644e-05,\n",
       "  'accuracy': 0.005071807786184371},\n",
       " 0.4,\n",
       " [0.153103021742071,\n",
       "  0.15099496489365422,\n",
       "  0.1504101802285676,\n",
       "  0.14779116574970413,\n",
       "  0.15493841341433506,\n",
       "  0.14785141213549818,\n",
       "  0.14644074604359159,\n",
       "  0.14927273855943807,\n",
       "  0.14881232519510135,\n",
       "  0.1525026241637638])"
      ]
     },
     "execution_count": 51,
     "metadata": {},
     "output_type": "execute_result"
    }
   ],
   "source": [
    "stats, alpha, max_mod = flow_capacity_louvain_mod(eucore, quality=\"n\")\n",
    "res_flow_capacity[\"louvain_eucore_nmi\"] =  stats\n",
    "alpha_mod[\"louvain_eucore_nmi\"] = [alpha, max_mod]\n",
    "\n",
    "stats, alpha, max_mod"
   ]
  },
  {
   "cell_type": "markdown",
   "metadata": {},
   "source": [
    "## Flow Capacity Leidein"
   ]
  },
  {
   "cell_type": "code",
   "execution_count": 52,
   "metadata": {},
   "outputs": [],
   "source": [
    "def flow_capacity_leiden(G, quality=\"m\"):\n",
    "    metrics = []\n",
    "    alpha_vals = np.arange(0,1, 0.1)\n",
    "    gcl = create_gcl(G)\n",
    "    \n",
    "    for alpha in alpha_vals: #training\n",
    "        A = nx.adjacency_matrix(G, weight=None)\n",
    "        I = nx.adjacency_matrix(G, weight=\"weight\")/np.sum(nx.adjacency_matrix(G, weight=\"weight\"))\n",
    "        F = (1-alpha)*A + alpha*I\n",
    "        F = nx.from_numpy_array(F)\n",
    "        # ---------------------------------- running algorithm --------------------------------- #\n",
    "\n",
    " \n",
    "        generated_communities = [run_leiden(F) for _ in tqdm.tqdm(range(10))]\n",
    "\n",
    "\n",
    "        if quality == \"m\":   # metric = modularity\n",
    "            metrics.append(np.mean([nx.community.modularity(G,c) for c in generated_communities]))\n",
    "\n",
    "        else:\n",
    "            l = []\n",
    "\n",
    "            for comms in generated_communities:\n",
    "                comms = [frozenset(i) for i in comms]\n",
    "                lcl = create_lcl(comms,G)\n",
    "\n",
    "                if quality == \"n\":\n",
    "                    l.append(sk.metrics.cluster.normalized_mutual_info_score(gcl, lcl)) # metric nmi\n",
    "                else:\n",
    "                    l.append(total_kappa(gcl, lcl)) # metric kappa\n",
    "\n",
    "            metrics.append(np.mean(l)) \n",
    "\n",
    "\n",
    "\n",
    "    # ------------------------- applying trained version ------------------------- #\n",
    "\n",
    "    alpha_index, max_metric = metrics.index(max(metrics)), max(metrics) #gets index with highest alpha value, gets highest metric value\n",
    "    max_alpha = alpha_vals[alpha_index]\n",
    "\n",
    "    I = nx.adjacency_matrix(G, weight=\"weight\")/np.sum(nx.adjacency_matrix(G, weight=\"weight\"))\n",
    "    F = (1-max_alpha)*A + max_alpha*I\n",
    "    \n",
    "    F = nx.from_numpy_array(F)\n",
    "\n",
    "    stats_dict = {}\n",
    "    # ----------------------------- generating_labels ---------------------------- #\n",
    "\n",
    "\n",
    "    generated_communities = [run_leiden(F) for _ in tqdm.tqdm(range(10))]\n",
    "    \n",
    "    #calculating modularity    \n",
    "    stats_dict[\"a_modularity\"]  = np.mean([nx.community.modularity(G,c) for c in generated_communities])\n",
    "    stats_dict[\"var_modularity\"]  = np.var([nx.community.modularity(G,c) for c in generated_communities])\n",
    "\n",
    "    #calculating nmi and kappa\n",
    "    l_nmi = []\n",
    "    l_kappa = []\n",
    "    l_accur = []\n",
    "\n",
    "\n",
    "    for _ in range(15):\n",
    "        counter =0\n",
    "        comms = nx.community.louvain_communities(F)\n",
    "        comms = [frozenset(i) for i in comms]\n",
    "\n",
    "        lcl = create_lcl(comms,G)\n",
    "\n",
    "        l_nmi.append(sk.metrics.cluster.normalized_mutual_info_score(gcl, lcl))\n",
    "\n",
    "        #calculating kappa   \n",
    "        l_kappa.append(total_kappa(gcl, lcl))\n",
    "        l_accur.append(total_accuracy(gcl, lcl))\n",
    "\n",
    "\n",
    "    stats_dict[\"a_nmi\"]  = np.mean(l_nmi)\n",
    "    stats_dict[\"var_nmi\"]  = np.var(l_nmi) \n",
    "\n",
    "    stats_dict[\"a_kappa\"]  = np.mean(l_kappa)\n",
    "    stats_dict[\"var_kappa\"]  = np.var(l_kappa) \n",
    "    stats_dict[\"accuracy\"] = np.mean(l_accur)\n",
    "\n",
    "    \n",
    "    return stats_dict, max_alpha, metrics"
   ]
  },
  {
   "cell_type": "markdown",
   "metadata": {},
   "source": [
    "## Flow Capacity GN"
   ]
  },
  {
   "cell_type": "code",
   "execution_count": 53,
   "metadata": {},
   "outputs": [],
   "source": [
    "def flow_capacity_gn(G, quality=\"m\"):\n",
    "    metrics = []\n",
    "    alpha_vals = np.arange(0,1, 0.1)\n",
    "    gcl = create_gcl(G)\n",
    "    \n",
    "    for alpha in tqdm.tqdm(alpha_vals): #training\n",
    "        A = nx.adjacency_matrix(G, weight=None)\n",
    "        I = nx.adjacency_matrix(G, weight=\"weight\")/np.sum(nx.adjacency_matrix(G, weight=\"weight\"))\n",
    "        F = (1-alpha)*A + alpha*I\n",
    "        F = nx.from_numpy_array(F)\n",
    "        # ---------------------------------- running algorithm --------------------------------- #\n",
    "\n",
    " \n",
    "        nx.community.girvan_newman(G)\n",
    "        comp = nx.community.girvan_newman(G)\n",
    "        gn = tuple(sorted(c) for c in next(comp))\n",
    "\n",
    "        generated_communities = [{frozenset(c) for c in gn}] \n",
    "\n",
    "\n",
    "        if quality == \"m\":   # metric = modularity\n",
    "            metrics.append(np.mean([nx.community.modularity(G,c) for c in generated_communities]))\n",
    "\n",
    "        else:\n",
    "            l = []\n",
    "\n",
    "            for comms in generated_communities:\n",
    "                comms = frozenset(generated_communities[0]) \n",
    "                lcl = create_lcl(comms,G)\n",
    "\n",
    "                if quality == \"n\":\n",
    "                    l.append(sk.metrics.cluster.normalized_mutual_info_score(gcl, lcl)) # metric nmi\n",
    "                else:\n",
    "                    l.append(total_kappa(gcl, lcl)) # metric kappa\n",
    "\n",
    "            metrics.append(np.mean(l)) \n",
    "\n",
    "\n",
    "\n",
    "    # ------------------------- applying trained version ------------------------- #\n",
    "\n",
    "    alpha_index, max_metric = metrics.index(max(metrics)), max(metrics) #gets index with highest alpha value, gets highest metric value\n",
    "    max_alpha = alpha_vals[alpha_index]\n",
    "\n",
    "    I = nx.adjacency_matrix(G, weight=\"weight\")/np.sum(nx.adjacency_matrix(G, weight=\"weight\"))\n",
    "    F = (1-max_alpha)*A + max_alpha*I\n",
    "    \n",
    "    F = nx.from_numpy_array(F)\n",
    "\n",
    "    stats_dict = {}\n",
    "    # ----------------------------- generating_labels ---------------------------- #\n",
    "\n",
    "\n",
    "    nx.community.girvan_newman(G)\n",
    "    comp = nx.community.girvan_newman(G)\n",
    "    gn = tuple(sorted(c) for c in next(comp))\n",
    "\n",
    "    generated_communities = [{frozenset(c) for c in gn}] \n",
    "    \n",
    "    #calculating modularity    \n",
    "    stats_dict[\"a_modularity\"]  = np.mean([nx.community.modularity(G,c) for c in generated_communities])\n",
    "    stats_dict[\"var_modularity\"]  = np.var([nx.community.modularity(G,c) for c in generated_communities])\n",
    "\n",
    "    #calculating nmi and kappa\n",
    "    l_nmi = []\n",
    "    l_kappa = []\n",
    "    l_accur = []\n",
    "\n",
    "\n",
    "    for _ in range(1):\n",
    "        counter =0\n",
    "        comms = nx.community.louvain_communities(F)\n",
    "        comms = [frozenset(i) for i in comms]\n",
    "\n",
    "        lcl = create_lcl(comms,G)\n",
    "\n",
    "        l_nmi.append(sk.metrics.cluster.normalized_mutual_info_score(gcl, lcl))\n",
    "\n",
    "        #calculating kappa   \n",
    "        l_kappa.append(total_kappa(gcl, lcl))\n",
    "        l_accur.append(total_accuracy(gcl, lcl))\n",
    "\n",
    "\n",
    "    stats_dict[\"a_nmi\"]  = np.mean(l_nmi)\n",
    "    stats_dict[\"var_nmi\"]  = np.var(l_nmi) \n",
    "\n",
    "    stats_dict[\"a_kappa\"]  = np.mean(l_kappa)\n",
    "    stats_dict[\"var_kappa\"]  = np.var(l_kappa) \n",
    "    stats_dict[\"accuracy\"] = np.mean(l_accur)\n",
    "\n",
    "    \n",
    "    return stats_dict, max_alpha, metrics"
   ]
  },
  {
   "cell_type": "code",
   "execution_count": 54,
   "metadata": {},
   "outputs": [
    {
     "name": "stderr",
     "output_type": "stream",
     "text": [
      "100%|██████████| 10/10 [00:00<00:00, 1999.76it/s]\n",
      "100%|██████████| 10/10 [00:00<00:00, 2499.29it/s]\n",
      "100%|██████████| 10/10 [00:00<00:00, 2499.44it/s]\n",
      "100%|██████████| 10/10 [00:00<00:00, 1999.38it/s]\n",
      "100%|██████████| 10/10 [00:00<00:00, 2498.54it/s]\n",
      "100%|██████████| 10/10 [00:00<00:00, 2500.18it/s]\n",
      "100%|██████████| 10/10 [00:00<00:00, 2499.59it/s]\n",
      "100%|██████████| 10/10 [00:00<00:00, 1999.38it/s]\n",
      "100%|██████████| 10/10 [00:00<00:00, 2499.59it/s]\n",
      "100%|██████████| 10/10 [00:00<00:00, 2499.44it/s]\n",
      "100%|██████████| 10/10 [00:00<00:00, 2500.03it/s]\n",
      "100%|██████████| 10/10 [00:00<00:00, 158.65it/s]\n",
      "100%|██████████| 10/10 [00:00<00:00, 204.12it/s]\n",
      "100%|██████████| 10/10 [00:00<00:00, 204.01it/s]\n",
      "100%|██████████| 10/10 [00:00<00:00, 192.26it/s]\n",
      "100%|██████████| 10/10 [00:00<00:00, 204.03it/s]\n",
      "100%|██████████| 10/10 [00:00<00:00, 116.25it/s]\n",
      "100%|██████████| 10/10 [00:00<00:00, 196.03it/s]\n",
      "100%|██████████| 10/10 [00:00<00:00, 204.04it/s]\n",
      "100%|██████████| 10/10 [00:00<00:00, 199.95it/s]\n",
      "100%|██████████| 10/10 [00:00<00:00, 204.04it/s]\n",
      "100%|██████████| 10/10 [00:00<00:00, 210.42it/s]\n",
      "100%|██████████| 10/10 [00:00<00:00, 30.48it/s]\n",
      "100%|██████████| 10/10 [00:00<00:00, 32.67it/s]\n",
      "100%|██████████| 10/10 [00:00<00:00, 29.93it/s]\n",
      "100%|██████████| 10/10 [00:00<00:00, 30.11it/s]\n",
      "100%|██████████| 10/10 [00:00<00:00, 28.90it/s]\n",
      "100%|██████████| 10/10 [00:00<00:00, 30.53it/s]\n",
      "100%|██████████| 10/10 [00:00<00:00, 26.27it/s]\n",
      "100%|██████████| 10/10 [00:00<00:00, 33.22it/s]\n",
      "100%|██████████| 10/10 [00:00<00:00, 34.01it/s]\n",
      "100%|██████████| 10/10 [00:00<00:00, 33.66it/s]\n",
      "100%|██████████| 10/10 [00:00<00:00, 32.89it/s]\n",
      "100%|██████████| 10/10 [00:00<00:00, 40.48it/s]\n",
      "100%|██████████| 10/10 [00:00<00:00, 40.48it/s]\n",
      "100%|██████████| 10/10 [00:00<00:00, 30.67it/s]\n",
      "100%|██████████| 10/10 [00:00<00:00, 33.05it/s]\n",
      "100%|██████████| 10/10 [00:00<00:00, 32.99it/s]\n",
      "100%|██████████| 10/10 [00:00<00:00, 33.66it/s]\n",
      "100%|██████████| 10/10 [00:00<00:00, 32.57it/s]\n",
      "100%|██████████| 10/10 [00:00<00:00, 34.01it/s]\n",
      "100%|██████████| 10/10 [00:00<00:00, 34.53it/s]\n",
      "100%|██████████| 10/10 [00:00<00:00, 35.00it/s]\n",
      "100%|██████████| 10/10 [00:00<00:00, 32.25it/s]\n"
     ]
    }
   ],
   "source": [
    "stats, alpha, max_mod = flow_capacity_leiden(G_small, quality=\"q\")\n",
    "res_flow_capacity[\"leiden_small_modularity\"] =  stats\n",
    "alpha_mod[\"leiden_small_modularity\"] = [alpha, max_mod]\n",
    "\n",
    "stats, alpha, max_mod = flow_capacity_leiden(G_medium, quality=\"q\")\n",
    "res_flow_capacity[\"leiden_medium_modularity\"] =  stats\n",
    "alpha_mod[\"leiden_medium_modularity\"] = [alpha, max_mod]\n",
    "\n",
    "stats, alpha, max_mod = flow_capacity_leiden(G_large, quality=\"q\")\n",
    "res_flow_capacity[\"leiden_large_modularity\"] =  stats\n",
    "alpha_mod[\"leiden_large_modularity\"] = [alpha, max_mod]\n",
    "\n",
    "stats, alpha, max_mod = flow_capacity_leiden(eucore, quality=\"q\")\n",
    "res_flow_capacity[\"leiden_eucore_modularity\"] =  stats\n",
    "alpha_mod[\"leiden_eucore_modularity\"] = [alpha, max_mod]"
   ]
  },
  {
   "cell_type": "code",
   "execution_count": 55,
   "metadata": {},
   "outputs": [
    {
     "name": "stderr",
     "output_type": "stream",
     "text": [
      "100%|██████████| 10/10 [00:00<00:00, 2490.24it/s]\n",
      "100%|██████████| 10/10 [00:00<00:00, 2499.14it/s]\n",
      "100%|██████████| 10/10 [00:00<00:00, 1999.57it/s]\n",
      "100%|██████████| 10/10 [00:00<00:00, 2498.99it/s]\n",
      "100%|██████████| 10/10 [00:00<00:00, 2499.59it/s]\n",
      "100%|██████████| 10/10 [00:00<00:00, 2499.14it/s]\n",
      "100%|██████████| 10/10 [00:00<00:00, 1999.67it/s]\n",
      "100%|██████████| 10/10 [00:00<00:00, 2499.44it/s]\n",
      "100%|██████████| 10/10 [00:00<00:00, 1999.57it/s]\n",
      "100%|██████████| 10/10 [00:00<00:00, 2499.29it/s]\n",
      "100%|██████████| 10/10 [00:00<00:00, 2499.29it/s]\n",
      "100%|██████████| 10/10 [00:00<00:00, 208.29it/s]\n",
      "100%|██████████| 10/10 [00:00<00:00, 192.26it/s]\n",
      "100%|██████████| 10/10 [00:00<00:00, 202.06it/s]\n",
      "100%|██████████| 10/10 [00:00<00:00, 204.04it/s]\n",
      "100%|██████████| 10/10 [00:00<00:00, 202.12it/s]\n",
      "100%|██████████| 10/10 [00:00<00:00, 204.03it/s]\n",
      "100%|██████████| 10/10 [00:00<00:00, 208.29it/s]\n",
      "100%|██████████| 10/10 [00:00<00:00, 192.26it/s]\n",
      "100%|██████████| 10/10 [00:00<00:00, 204.04it/s]\n",
      "100%|██████████| 10/10 [00:00<00:00, 204.03it/s]\n",
      "100%|██████████| 10/10 [00:00<00:00, 192.27it/s]\n",
      "100%|██████████| 10/10 [00:00<00:00, 34.25it/s]\n",
      "100%|██████████| 10/10 [00:00<00:00, 39.05it/s]\n",
      "100%|██████████| 10/10 [00:00<00:00, 38.23it/s]\n",
      "100%|██████████| 10/10 [00:00<00:00, 39.52it/s]\n",
      "100%|██████████| 10/10 [00:00<00:00, 37.37it/s]\n",
      "100%|██████████| 10/10 [00:00<00:00, 31.64it/s]\n",
      "100%|██████████| 10/10 [00:00<00:00, 31.15it/s]\n",
      "100%|██████████| 10/10 [00:00<00:00, 31.89it/s]\n",
      "100%|██████████| 10/10 [00:00<00:00, 32.46it/s]\n",
      "100%|██████████| 10/10 [00:00<00:00, 31.44it/s]\n",
      "100%|██████████| 10/10 [00:00<00:00, 30.39it/s]\n",
      "100%|██████████| 10/10 [00:00<00:00, 34.01it/s]\n",
      "100%|██████████| 10/10 [00:00<00:00, 34.96it/s]\n",
      "100%|██████████| 10/10 [00:00<00:00, 35.71it/s]\n",
      "100%|██████████| 10/10 [00:00<00:00, 39.90it/s]\n",
      "100%|██████████| 10/10 [00:00<00:00, 22.03it/s]\n",
      "100%|██████████| 10/10 [00:00<00:00, 33.49it/s]\n",
      "100%|██████████| 10/10 [00:00<00:00, 32.15it/s]\n",
      "100%|██████████| 10/10 [00:00<00:00, 33.78it/s]\n",
      "100%|██████████| 10/10 [00:00<00:00, 33.33it/s]\n",
      "100%|██████████| 10/10 [00:00<00:00, 29.06it/s]\n",
      "100%|██████████| 10/10 [00:00<00:00, 34.45it/s]\n"
     ]
    }
   ],
   "source": [
    "stats, alpha, max_mod = flow_capacity_leiden(G_small, quality=\"k\")\n",
    "res_flow_capacity[\"leiden_small_kappa\"] =  stats\n",
    "alpha_mod[\"leiden_small_kappa\"] = [alpha, max_mod]\n",
    "\n",
    "stats, alpha, max_mod = flow_capacity_leiden(G_medium, quality=\"k\")\n",
    "res_flow_capacity[\"leiden_medium_kappa\"] =  stats\n",
    "alpha_mod[\"leiden_medium_kappa\"] = [alpha, max_mod]\n",
    "\n",
    "stats, alpha, max_mod = flow_capacity_leiden(G_large, quality=\"k\")\n",
    "res_flow_capacity[\"leiden_large_kappa\"] =  stats\n",
    "alpha_mod[\"leiden_large_kappa\"] = [alpha, max_mod]\n",
    "\n",
    "\n",
    "stats, alpha, max_mod = flow_capacity_leiden(eucore, quality=\"k\")\n",
    "res_flow_capacity[\"leiden_eucore_kappa\"] =  stats\n",
    "alpha_mod[\"leiden_eucore_kappa\"] = [alpha, max_mod]"
   ]
  },
  {
   "cell_type": "code",
   "execution_count": 56,
   "metadata": {},
   "outputs": [
    {
     "name": "stderr",
     "output_type": "stream",
     "text": [
      "100%|██████████| 10/10 [00:00<00:00, 2224.27it/s]\n",
      "100%|██████████| 10/10 [00:00<00:00, 1999.38it/s]\n",
      "100%|██████████| 10/10 [00:00<00:00, 2498.69it/s]\n",
      "100%|██████████| 10/10 [00:00<00:00, 2499.14it/s]\n",
      "100%|██████████| 10/10 [00:00<00:00, 2000.14it/s]\n",
      "100%|██████████| 10/10 [00:00<00:00, 2498.84it/s]\n",
      "100%|██████████| 10/10 [00:00<00:00, 1999.57it/s]\n",
      "100%|██████████| 10/10 [00:00<00:00, 2499.29it/s]\n",
      "100%|██████████| 10/10 [00:00<00:00, 1999.57it/s]\n",
      "100%|██████████| 10/10 [00:00<00:00, 2499.44it/s]\n",
      "100%|██████████| 10/10 [00:00<00:00, 1999.38it/s]\n",
      "100%|██████████| 10/10 [00:00<00:00, 196.03it/s]\n",
      "100%|██████████| 10/10 [00:00<00:00, 204.03it/s]\n",
      "100%|██████████| 10/10 [00:00<00:00, 204.03it/s]\n",
      "100%|██████████| 10/10 [00:00<00:00, 196.03it/s]\n",
      "100%|██████████| 10/10 [00:00<00:00, 199.95it/s]\n",
      "100%|██████████| 10/10 [00:00<00:00, 204.03it/s]\n",
      "100%|██████████| 10/10 [00:00<00:00, 197.93it/s]\n",
      "100%|██████████| 10/10 [00:00<00:00, 185.14it/s]\n",
      "100%|██████████| 10/10 [00:00<00:00, 196.03it/s]\n",
      "100%|██████████| 10/10 [00:00<00:00, 199.96it/s]\n",
      "100%|██████████| 10/10 [00:00<00:00, 196.03it/s]\n",
      "100%|██████████| 10/10 [00:00<00:00, 25.63it/s]\n",
      "100%|██████████| 10/10 [00:00<00:00, 31.94it/s]\n",
      "100%|██████████| 10/10 [00:00<00:00, 32.78it/s]\n",
      "100%|██████████| 10/10 [00:00<00:00, 33.05it/s]\n",
      "100%|██████████| 10/10 [00:00<00:00, 34.47it/s]\n",
      "100%|██████████| 10/10 [00:00<00:00, 38.45it/s]\n",
      "100%|██████████| 10/10 [00:00<00:00, 40.80it/s]\n",
      "100%|██████████| 10/10 [00:00<00:00, 38.28it/s]\n",
      "100%|██████████| 10/10 [00:00<00:00, 38.31it/s]\n",
      "100%|██████████| 10/10 [00:00<00:00, 39.99it/s]\n",
      "100%|██████████| 10/10 [00:00<00:00, 40.63it/s]\n",
      "100%|██████████| 10/10 [00:00<00:00, 33.33it/s]\n",
      "100%|██████████| 10/10 [00:00<00:00, 33.89it/s]\n",
      "100%|██████████| 10/10 [00:00<00:00, 33.00it/s]\n",
      "100%|██████████| 10/10 [00:00<00:00, 34.12it/s]\n",
      "100%|██████████| 10/10 [00:00<00:00, 33.05it/s]\n",
      "100%|██████████| 10/10 [00:00<00:00, 30.90it/s]\n",
      "100%|██████████| 10/10 [00:00<00:00, 30.67it/s]\n",
      "100%|██████████| 10/10 [00:00<00:00, 32.67it/s]\n",
      "100%|██████████| 10/10 [00:00<00:00, 32.41it/s]\n",
      "100%|██████████| 10/10 [00:00<00:00, 34.11it/s]\n",
      "100%|██████████| 10/10 [00:00<00:00, 34.49it/s]\n"
     ]
    }
   ],
   "source": [
    "stats, alpha, max_mod = flow_capacity_leiden(G_small, quality=\"n\")\n",
    "res_flow_capacity[\"leiden_small_nmi\"] =  stats\n",
    "alpha_mod[\"leiden_small_kappa\"] = [alpha, max_mod]\n",
    "\n",
    "stats, alpha, max_mod = flow_capacity_leiden(G_medium, quality=\"n\")\n",
    "res_flow_capacity[\"leiden_medium_nmi\"] =  stats\n",
    "alpha_mod[\"leiden_medium_kappa\"] = [alpha, max_mod]\n",
    "\n",
    "\n",
    "stats, alpha, max_mod = flow_capacity_leiden(G_large, quality=\"n\")\n",
    "res_flow_capacity[\"leiden_large_nmi\"] =  stats\n",
    "alpha_mod[\"leiden_large_kappa\"] = [alpha, max_mod]\n",
    "\n",
    "stats, alpha, max_mod = flow_capacity_leiden(eucore, quality=\"n\")\n",
    "res_flow_capacity[\"leiden_eucore_nmi\"] =  stats\n",
    "alpha_mod[\"leiden_eucore_kappa\"] = [alpha, max_mod]"
   ]
  },
  {
   "cell_type": "code",
   "execution_count": 57,
   "metadata": {},
   "outputs": [
    {
     "name": "stderr",
     "output_type": "stream",
     "text": [
      "100%|██████████| 10/10 [00:00<00:00, 14.96it/s]\n",
      "100%|██████████| 10/10 [00:18<00:00,  1.87s/it]\n",
      "100%|██████████| 10/10 [00:18<00:00,  1.85s/it]\n",
      "100%|██████████| 10/10 [10:40<00:00, 64.07s/it]\n"
     ]
    }
   ],
   "source": [
    "stats, alpha, max_mod = flow_capacity_gn(G_small, quality=\"n\")\n",
    "res_flow_capacity[\"gn_small_nmi\"] =  stats\n",
    "alpha_mod[\"gn_small_kappa\"] = [alpha, max_mod]\n",
    "\n",
    "stats, alpha, max_mod = flow_capacity_gn(G_medium, quality=\"n\")\n",
    "res_flow_capacity[\"gn_medium_nmi\"] =  stats\n",
    "alpha_mod[\"gn_medium_kappa\"] = [alpha, max_mod]\n",
    "\n",
    "stats, alpha, max_mod = flow_capacity_gn(G_medium, quality=\"n\")\n",
    "res_flow_capacity[\"gn_large_nmi\"] =  stats\n",
    "alpha_mod[\"gn_large_kappa\"] = [alpha, max_mod]\n",
    "\n",
    "stats, alpha, max_mod = flow_capacity_gn(eucore, quality=\"n\")\n",
    "res_flow_capacity[\"gn_eucore_nmi\"] =  stats\n",
    "alpha_mod[\"gn_eucore_kappa\"] = [alpha, max_mod]"
   ]
  },
  {
   "cell_type": "markdown",
   "metadata": {},
   "source": [
    "# Graphing\n"
   ]
  },
  {
   "cell_type": "code",
   "execution_count": 58,
   "metadata": {},
   "outputs": [
    {
     "data": {
      "text/plain": [
       "dict_keys(['louvain_small', 'louvain_medium', 'louvain_large', 'louvain_eucore', 'leiden_small', 'leiden_medium', 'leiden_large', 'leiden_eucore', 'gn_small', 'gn_medium', 'gn_large', 'gn_eucore'])"
      ]
     },
     "execution_count": 58,
     "metadata": {},
     "output_type": "execute_result"
    }
   ],
   "source": [
    "modularities = [res_flow_capacity[key][\"a_modularity\"] for key in res_flow_capacity ]\n",
    "nmis = [res_flow_capacity[key][\"a_nmi\"] for key in res_flow_capacity ]\n",
    "kappas = [res_flow_capacity[key][\"a_kappa\"] for key in res_flow_capacity ]\n",
    "\n",
    "\n",
    "\n",
    "colors = [label_colors[str(key).split(\"_\")[0]] for key in res_flow_capacity]\n",
    "res.keys()\n"
   ]
  },
  {
   "cell_type": "code",
   "execution_count": 59,
   "metadata": {},
   "outputs": [
    {
     "name": "stderr",
     "output_type": "stream",
     "text": [
      "C:\\Users\\Felipe Cintra\\AppData\\Local\\Temp\\ipykernel_17328\\4056941909.py:5: UserWarning: set_ticklabels() should only be used with a fixed number of ticks, i.e. after set_ticks() or using a FixedLocator.\n",
      "  ax[0].set_xticklabels(ax[0].get_xticklabels(),  rotation=45, horizontalalignment=\"right\")\n",
      "C:\\Users\\Felipe Cintra\\AppData\\Local\\Temp\\ipykernel_17328\\4056941909.py:11: UserWarning: set_ticklabels() should only be used with a fixed number of ticks, i.e. after set_ticks() or using a FixedLocator.\n",
      "  ax[1].set_xticklabels(ax[0].get_xticklabels(),  rotation=45, horizontalalignment=\"right\")\n",
      "C:\\Users\\Felipe Cintra\\AppData\\Local\\Temp\\ipykernel_17328\\4056941909.py:16: UserWarning: set_ticklabels() should only be used with a fixed number of ticks, i.e. after set_ticks() or using a FixedLocator.\n",
      "  ax[2].set_xticklabels(ax[0].get_xticklabels(),  rotation=45, horizontalalignment=\"right\")\n"
     ]
    },
    {
     "data": {
      "text/plain": [
       "Text(0.5, 0.98, 'Performance Metrics of Flow-Capacity Algorithms')"
      ]
     },
     "execution_count": 59,
     "metadata": {},
     "output_type": "execute_result"
    },
    {
     "data": {
      "image/png": "[encoded data removed]",
      "text/plain": [
       "<Figure size 1800x400 with 3 Axes>"
      ]
     },
     "metadata": {},
     "output_type": "display_data"
    }
   ],
   "source": [
    "fig, ax = plt.subplots(1,3, figsize=(18,4))\n",
    "\n",
    "# modularity\n",
    "ax[0].bar([key for key in res_flow_capacity], modularities, color=colors)\n",
    "ax[0].set_xticklabels(ax[0].get_xticklabels(),  rotation=45, horizontalalignment=\"right\")\n",
    "ax[0].set_title(\"Modularity\", fontsize=16)\n",
    "\n",
    "\n",
    "# nmi\n",
    "ax[1].bar([key for key in res_flow_capacity], nmis, color=colors)\n",
    "ax[1].set_xticklabels(ax[0].get_xticklabels(),  rotation=45, horizontalalignment=\"right\")\n",
    "ax[1].set_title(\"NMI\", fontsize=16)\n",
    "\n",
    "# kappa\n",
    "ax[2].bar([key for key in res_flow_capacity], kappas, color=colors)\n",
    "ax[2].set_xticklabels(ax[0].get_xticklabels(),  rotation=45, horizontalalignment=\"right\")\n",
    "ax[2].set_title(\"Kappa\", fontsize=16)\n",
    "\n",
    "plt.subplots_adjust(top=0.8)\n",
    "plt.suptitle(\"Performance Metrics of Flow-Capacity Algorithms\", fontsize=20)"
   ]
  },
  {
   "cell_type": "code",
   "execution_count": 60,
   "metadata": {},
   "outputs": [],
   "source": [
    "louvain = [s for s in res.keys() if s.split(\"_\")[0] == \"louvain\"]\n",
    "gn = [s for s in res.keys() if s.split(\"_\")[0] == \"gn\"]\n",
    "leiden = [s for s in res.keys() if s.split(\"_\")[0] == \"leiden\"]"
   ]
  },
  {
   "cell_type": "code",
   "execution_count": 61,
   "metadata": {},
   "outputs": [],
   "source": [
    "louvain_mod = [res[k][\"a_modularity\"] for k in louvain ][0:4]\n",
    "leiden_mod = [res[k][\"a_modularity\"] for k in leiden ]\n",
    "gn_mod = [res[k][\"a_modularity\"] for k in gn ]\n"
   ]
  },
  {
   "cell_type": "code",
   "execution_count": 62,
   "metadata": {},
   "outputs": [],
   "source": [
    "louvain_nmi = [res[k][\"a_nmi\"] for k in louvain ][0:4]\n",
    "leiden_nmi = [res[k][\"a_nmi\"] for k in leiden ]\n",
    "gn_nmi = [res[k][\"a_nmi\"] for k in gn ]\n"
   ]
  },
  {
   "cell_type": "code",
   "execution_count": 63,
   "metadata": {},
   "outputs": [],
   "source": [
    "louvain_kappa = [res[k][\"a_kappa\"] for k in louvain ][0:4]\n",
    "leiden_kappa = [res[k][\"a_kappa\"] for k in leiden ]\n",
    "gn_kappa = [res[k][\"a_kappa\"] for k in gn ]"
   ]
  },
  {
   "cell_type": "code",
   "execution_count": 64,
   "metadata": {},
   "outputs": [],
   "source": [
    "x_labels = [\"small50\", \"medium250\",\"large250\", \"eucore\"]"
   ]
  },
  {
   "cell_type": "code",
   "execution_count": 75,
   "metadata": {},
   "outputs": [],
   "source": [
    "def mod_graph(G):    \n",
    "    ground = {frozenset(G.nodes[v][\"community\"]) for v in G}\n",
    "    mod = nx.community.modularity(G, ground)\n",
    "    return mod\n",
    "\n",
    "x =[mod_graph(G) for G in [G_small, G_medium, G_large]] \n",
    "x.append( 0.29999818295402103)\n",
    "base_mods = x"
   ]
  },
  {
   "cell_type": "code",
   "execution_count": 67,
   "metadata": {},
   "outputs": [],
   "source": [
    "dill.dump_session(\"exp\")"
   ]
  },
  {
   "cell_type": "code",
   "execution_count": 76,
   "metadata": {},
   "outputs": [
    {
     "data": {
      "text/plain": [
       "[0.44956956105856094,\n",
       " 0.20706793739429247,\n",
       " 0.3688014109733919,\n",
       " 0.29999818295402103]"
      ]
     },
     "execution_count": 76,
     "metadata": {},
     "output_type": "execute_result"
    }
   ],
   "source": [
    "base_mods"
   ]
  },
  {
   "cell_type": "code",
   "execution_count": 100,
   "metadata": {},
   "outputs": [
    {
     "data": {
      "text/plain": [
       "Text(0.5, 0.98, 'Resulting For the Baseline implementations')"
      ]
     },
     "execution_count": 100,
     "metadata": {},
     "output_type": "execute_result"
    },
    {
     "data": {
      "image/png": "[encoded data removed]",
      "text/plain": [
       "<Figure size 1800x600 with 3 Axes>"
      ]
     },
     "metadata": {},
     "output_type": "display_data"
    }
   ],
   "source": [
    "fig, ax = plt.subplots(1,3, figsize=(18,6))\n",
    "\n",
    "ax[0].plot(x_labels, louvain_mod)\n",
    "ax[0].plot(x_labels, leiden_mod)\n",
    "ax[0].plot(x_labels, gn_mod)\n",
    "ax[0].plot(x_labels, base_mods)\n",
    "\n",
    "plt.legend([\"Louvain\", \"Leiden\", \"Girven-Newman\", \"Real Modularity\"])\n",
    "ax[0].set_ylabel(\"Modularity (Q)\")\n",
    "ax[0].set_xlabel(\"Network\")\n",
    "ax[0].set_ylim(-0.1,1)\n",
    "ax[0].set_title(\"Modularity of Partitions by Baseline Algorithms\", fontsize=16)\n",
    "\n",
    "ax[1].plot(x_labels, louvain_nmi)\n",
    "ax[1].plot(x_labels, leiden_nmi)\n",
    "ax[1].plot(x_labels, gn_nmi)\n",
    "\n",
    "\n",
    "plt.legend([\"Louvain\", \"Leiden\", \"Girven-Newman\", \"Real Modularity\"])\n",
    "ax[1].set_ylabel(\"Normalized Mutual Information (NMI)\")\n",
    "ax[1].set_xlabel(\"Network\")\n",
    "ax[1].set_ylim(-0.1,1)\n",
    "ax[1].set_title(\"NMI of Partitions by Baseline Algorithms\", fontsize=16)\n",
    "\n",
    "\n",
    "ax[2].plot(x_labels, louvain_kappa)\n",
    "ax[2].plot(x_labels, leiden_kappa)\n",
    "ax[2].plot(x_labels, gn_kappa)\n",
    "ax[2].set_ylim(-0.1,1)\n",
    "\n",
    "\n",
    "plt.legend([\"Louvain\", \"Leiden\", \"Girven-Newman\"])\n",
    "ax[2].set_ylabel(\"Kappa\")\n",
    "ax[2].set_xlabel(\"Network\")\n",
    "plt.title(\"Kappa of Partitions by Baseline Algorithms\", fontsize=12)\n",
    "\n",
    "\n",
    "plt.subplots_adjust(top=0.8)\n",
    "plt.suptitle(\"Resulting For the Baseline implementations\", fontsize=16)\n"
   ]
  },
  {
   "cell_type": "code",
   "execution_count": 135,
   "metadata": {},
   "outputs": [
    {
     "data": {
      "text/plain": [
       "24"
      ]
     },
     "execution_count": 135,
     "metadata": {},
     "output_type": "execute_result"
    }
   ],
   "source": [
    "len(res_flow_capacity)"
   ]
  },
  {
   "cell_type": "code",
   "execution_count": 125,
   "metadata": {},
   "outputs": [],
   "source": [
    "modularities = [res_flow_capacity[key][\"a_modularity\"] for key in res_flow_capacity ]\n",
    "mod_baseline = [res[key][\"a_modularity\"] for key in res ]\n",
    "\n",
    "m = []\n",
    "l = []\n",
    "for i in range(len(modularities)):\n",
    "    if i % 4 == 0:\n",
    "        m.append(l)\n",
    "        l = []\n",
    "        l.append(modularities[i])\n",
    "    else:\n",
    "        l.append(modularities[i])\n",
    "\n",
    "m.remove([])"
   ]
  },
  {
   "cell_type": "code",
   "execution_count": 137,
   "metadata": {},
   "outputs": [
    {
     "data": {
      "text/plain": [
       "dict_keys(['louvain_small_modularity', 'louvain_small_kappa', 'louvain_medium_nmi', 'louvain_medium_kappa', 'louvain_large_nmi', 'louvain_eucore_kappa', 'louvain_eucore_modularity', 'louvain_eucore_nmi', 'leiden_small_modularity', 'leiden_medium_modularity', 'leiden_large_modularity', 'leiden_eucore_modularity', 'leiden_small_kappa', 'leiden_medium_kappa', 'leiden_large_kappa', 'leiden_eucore_kappa', 'leiden_small_nmi', 'leiden_medium_nmi', 'leiden_large_nmi', 'leiden_eucore_nmi', 'gn_small_nmi', 'gn_medium_nmi', 'gn_large_nmi', 'gn_eucore_nmi'])"
      ]
     },
     "execution_count": 137,
     "metadata": {},
     "output_type": "execute_result"
    }
   ],
   "source": [
    "res_flow_capacity.keys()"
   ]
  },
  {
   "cell_type": "code",
   "execution_count": 140,
   "metadata": {},
   "outputs": [
    {
     "data": {
      "text/plain": [
       "['louvain_small_modularity',\n",
       " 'louvain_eucore_modularity',\n",
       " 'leiden_small_modularity',\n",
       " 'leiden_medium_modularity',\n",
       " 'leiden_large_modularity',\n",
       " 'leiden_eucore_modularity']"
      ]
     },
     "execution_count": 140,
     "metadata": {},
     "output_type": "execute_result"
    }
   ],
   "source": [
    "modularities_labels = [key for key in res_flow_capacity if key.split(\"_\")[2] == \"modularity\"]\n",
    "modularities_labels"
   ]
  },
  {
   "cell_type": "code",
   "execution_count": null,
   "metadata": {},
   "outputs": [],
   "source": [
    "dill.dump_session(\"exp\")"
   ]
  },
  {
   "cell_type": "code",
   "execution_count": 147,
   "metadata": {},
   "outputs": [
    {
     "data": {
      "text/plain": [
       "{'louvain_small_modularity': {'a_modularity': 0.4931036773302157,\n",
       "  'var_modularity': 6.281327311638286e-05,\n",
       "  'a_nmi': 0.6690336448929682,\n",
       "  'var_nmi': 0.0002537013217674013,\n",
       "  'a_kappa': 0.21639492605493685,\n",
       "  'var_kappa': 0.025833658811953573,\n",
       "  'accuracy': 0.1962355045332566},\n",
       " 'louvain_small_kappa': {'a_modularity': 0.49520804548836217,\n",
       "  'var_modularity': 0.00020036231183499618,\n",
       "  'a_nmi': 0.6796408967992547,\n",
       "  'var_nmi': 0.0017196532748281984,\n",
       "  'a_kappa': 0.19050188882892607,\n",
       "  'var_kappa': 0.02728970399589115,\n",
       "  'accuracy': 0.17917890481329127},\n",
       " 'louvain_medium_nmi': {'a_modularity': 0.2721343585062686,\n",
       "  'var_modularity': 4.826323992965202e-06,\n",
       "  'a_nmi': 0.501339077742608,\n",
       "  'var_nmi': 0.000953006110307398,\n",
       "  'a_kappa': 0.09173007534468187,\n",
       "  'var_kappa': 0.004597091509676207,\n",
       "  'accuracy': 0.0610754925359595},\n",
       " 'louvain_medium_kappa': {'a_modularity': 0.27216366828639693,\n",
       "  'var_modularity': 3.780041486306278e-05,\n",
       "  'a_nmi': 0.5085331697338773,\n",
       "  'var_nmi': 0.0011715380654788248,\n",
       "  'a_kappa': 0.08099085069608218,\n",
       "  'var_kappa': 0.0030235449144643462,\n",
       "  'accuracy': 0.0549585661824707},\n",
       " 'louvain_large_nmi': {'a_modularity': 0.3682677103669031,\n",
       "  'var_modularity': 4.409590239914134e-06,\n",
       "  'a_nmi': 0.9675164177675251,\n",
       "  'var_nmi': 1.232595164407831e-32,\n",
       "  'a_kappa': 0.30297247929709514,\n",
       "  'var_kappa': 0.1267575343045573,\n",
       "  'accuracy': 0.2793240534673503},\n",
       " 'louvain_eucore_kappa': {'a_modularity': 0.42954348459164116,\n",
       "  'var_modularity': 1.3414440224510454e-05,\n",
       "  'a_nmi': 0.15138906874269423,\n",
       "  'var_nmi': 2.80702059735012e-05,\n",
       "  'a_kappa': 0.012653593063520012,\n",
       "  'var_kappa': 3.161607814623122e-05,\n",
       "  'accuracy': 0.0045797851666204295},\n",
       " 'louvain_eucore_modularity': {'a_modularity': 0.4308113948318984,\n",
       "  'var_modularity': 1.4266143322094446e-05,\n",
       "  'a_nmi': 0.14693938219347383,\n",
       "  'var_nmi': 4.322005109313833e-05,\n",
       "  'a_kappa': 0.016783913367822135,\n",
       "  'var_kappa': 0.00023731585665238183,\n",
       "  'accuracy': 0.006599293793486459},\n",
       " 'louvain_eucore_nmi': {'a_modularity': 0.4315225206600434,\n",
       "  'var_modularity': 2.0949752067445e-06,\n",
       "  'a_nmi': 0.14950051629316813,\n",
       "  'var_nmi': 5.334870031943355e-05,\n",
       "  'a_kappa': 0.014385662868549937,\n",
       "  'var_kappa': 9.341920900872644e-05,\n",
       "  'accuracy': 0.005071807786184371},\n",
       " 'leiden_small_modularity': {'a_modularity': 0.4788766075034541,\n",
       "  'var_modularity': 0.0,\n",
       "  'a_nmi': 0.6852802194356472,\n",
       "  'var_nmi': 0.0012979552799608897,\n",
       "  'a_kappa': 0.20685538602430129,\n",
       "  'var_kappa': 0.029150618886586852,\n",
       "  'accuracy': 0.19515850091403425},\n",
       " 'leiden_medium_modularity': {'a_modularity': 0.2724421487825176,\n",
       "  'var_modularity': 0.0,\n",
       "  'a_nmi': 0.5143898356074206,\n",
       "  'var_nmi': 0.0003649564075081854,\n",
       "  'a_kappa': 0.10005297444734661,\n",
       "  'var_kappa': 0.004439232277266039,\n",
       "  'accuracy': 0.06789597908082537},\n",
       " 'leiden_large_modularity': {'a_modularity': 0.36908380835548404,\n",
       "  'var_modularity': 3.0814879110195774e-33,\n",
       "  'a_nmi': 0.9674194118726888,\n",
       "  'var_nmi': 1.3174201086157237e-07,\n",
       "  'a_kappa': 0.09770598981002945,\n",
       "  'var_kappa': 0.0765805749382141,\n",
       "  'accuracy': 0.2422186557428197},\n",
       " 'leiden_eucore_modularity': {'a_modularity': 0.4347161478259962,\n",
       "  'var_modularity': 0.0,\n",
       "  'a_nmi': 0.15082975371678398,\n",
       "  'var_nmi': 2.5042765998353365e-05,\n",
       "  'a_kappa': 0.01605111460415563,\n",
       "  'var_kappa': 0.00011671853667123541,\n",
       "  'accuracy': 0.005943249867880045},\n",
       " 'leiden_small_kappa': {'a_modularity': 0.5007439685407589,\n",
       "  'var_modularity': 0.0,\n",
       "  'a_nmi': 0.6777759667861489,\n",
       "  'var_nmi': 0.0004918727731788599,\n",
       "  'a_kappa': 0.22184609178672862,\n",
       "  'var_kappa': 0.0360185462975577,\n",
       "  'accuracy': 0.20966358009672817},\n",
       " 'leiden_medium_kappa': {'a_modularity': 0.27312110392225286,\n",
       "  'var_modularity': 3.0814879110195774e-33,\n",
       "  'a_nmi': 0.49389568166624875,\n",
       "  'var_nmi': 0.000923476153244105,\n",
       "  'a_kappa': 0.10273778060949655,\n",
       "  'var_kappa': 0.002952183891593997,\n",
       "  'accuracy': 0.0646740641433293},\n",
       " 'leiden_large_kappa': {'a_modularity': 0.36908380835548404,\n",
       "  'var_modularity': 3.0814879110195774e-33,\n",
       "  'a_nmi': 0.9675601575003108,\n",
       "  'var_nmi': 2.6848928374287004e-06,\n",
       "  'a_kappa': 0.08490010073067679,\n",
       "  'var_kappa': 0.03793309307837318,\n",
       "  'accuracy': 0.1982713411625678},\n",
       " 'leiden_eucore_kappa': {'a_modularity': 0.43455021921872017,\n",
       "  'var_modularity': 3.0814879110195774e-33,\n",
       "  'a_nmi': 0.14873036392545655,\n",
       "  'var_nmi': 3.070853317441265e-05,\n",
       "  'a_kappa': 0.020314671047306207,\n",
       "  'var_kappa': 0.00015534660295208838,\n",
       "  'accuracy': 0.0065674835833985975},\n",
       " 'leiden_small_nmi': {'a_modularity': 0.44149218833032206,\n",
       "  'var_modularity': 3.0814879110195774e-33,\n",
       "  'a_nmi': 0.6823589425217012,\n",
       "  'var_nmi': 0.0015281335426046907,\n",
       "  'a_kappa': 0.2886228720011774,\n",
       "  'var_kappa': 0.022074685020767804,\n",
       "  'accuracy': 0.26664261346933504},\n",
       " 'leiden_medium_nmi': {'a_modularity': 0.2755953716878306,\n",
       "  'var_modularity': 3.0814879110195774e-33,\n",
       "  'a_nmi': 0.5061565417285235,\n",
       "  'var_nmi': 0.0006188885384940474,\n",
       "  'a_kappa': 0.07454731590692237,\n",
       "  'var_kappa': 0.00443995309567887,\n",
       "  'accuracy': 0.049742382837866236},\n",
       " 'leiden_large_nmi': {'a_modularity': 0.36908380835548404,\n",
       "  'var_modularity': 3.0814879110195774e-33,\n",
       "  'a_nmi': 0.9633252463874096,\n",
       "  'var_nmi': 0.00024647095562181285,\n",
       "  'a_kappa': 0.25435477250164573,\n",
       "  'var_kappa': 0.14732758088714012,\n",
       "  'accuracy': 0.2351274426163562},\n",
       " 'leiden_eucore_nmi': {'a_modularity': 0.4339911052546893,\n",
       "  'var_modularity': 0.0,\n",
       "  'a_nmi': 0.15126797779156362,\n",
       "  'var_nmi': 6.566258721113744e-05,\n",
       "  'a_kappa': 0.013586246035459203,\n",
       "  'var_kappa': 0.00011421552318520588,\n",
       "  'accuracy': 0.005566048364595703},\n",
       " 'gn_small_nmi': {'a_modularity': 0.3488149643957912,\n",
       "  'var_modularity': 0.0,\n",
       "  'a_nmi': 0.6699981855043541,\n",
       "  'var_nmi': 0.0,\n",
       "  'a_kappa': 0.12099952574858135,\n",
       "  'var_kappa': 0.0,\n",
       "  'accuracy': 0.10776942355889722},\n",
       " 'gn_medium_nmi': {'a_modularity': 0.0008279631667963273,\n",
       "  'var_modularity': 0.0,\n",
       "  'a_nmi': 0.5360697132685379,\n",
       "  'var_nmi': 0.0,\n",
       "  'a_kappa': 0.20261256984147358,\n",
       "  'var_kappa': 0.0,\n",
       "  'accuracy': 0.1305771145947339},\n",
       " 'gn_large_nmi': {'a_modularity': 0.0008279631667963273,\n",
       "  'var_modularity': 0.0,\n",
       "  'a_nmi': 0.5060772690660414,\n",
       "  'var_nmi': 0.0,\n",
       "  'a_kappa': 0.09790512951762669,\n",
       "  'var_kappa': 0.0,\n",
       "  'accuracy': 0.07659313725490195},\n",
       " 'gn_eucore_nmi': {'a_modularity': 0.003109299536853528,\n",
       "  'var_modularity': 0.0,\n",
       "  'a_nmi': 0.14286349689710012,\n",
       "  'var_nmi': 0.0,\n",
       "  'a_kappa': 0.008723126967490573,\n",
       "  'var_kappa': 0.0,\n",
       "  'accuracy': 0.0034657436486805683}}"
      ]
     },
     "execution_count": 147,
     "metadata": {},
     "output_type": "execute_result"
    }
   ],
   "source": []
  },
  {
   "cell_type": "code",
   "execution_count": null,
   "metadata": {},
   "outputs": [
    {
     "ename": "NotAPartition",
     "evalue": "[(14, 53, 65, 93, 95, 129, 133, 167, 168, 172, 176, 183, 197, 198, 199, 200, 201, 202, 203, 206, 207, 232, 256, 270, 275, 276, 280, 290, 291, 292, 294, 399, 401, 403, 413, 419, 425, 426, 440, 450, 457, 458, 464, 484, 486, 493, 515, 522, 523, 526, 534, 542, 543, 544, 556, 562, 563, 567, 568, 572, 574, 576, 584, 585, 600, 611, 620, 623, 626, 655, 664, 688, 689, 694, 702, 705, 706, 714, 727, 732, 744, 749, 789, 790, 791, 801, 802, 813, 817, 822, 829, 835, 836, 840, 843, 844, 850, 874, 902, 909, 910, 936, 938, 940, 959, 961, 965, 992, 1000), (134, 340, 482, 521, 553, 554, 583, 598, 766, 862), (268, 331, 756), (16, 42, 87, 105, 212, 424, 434, 460, 561, 607, 684, 763, 787), (66, 90, 108, 110, 111, 112, 143, 258, 328, 329, 356, 357, 375, 475, 477, 478, 514, 652, 989), (102, 106, 173, 300, 405, 638, 771, 773, 828, 889, 891, 892, 896), (77, 78, 79, 445, 483, 497, 531, 539, 557, 581, 811, 848), (253, 471, 507, 560, 726, 759, 831, 875), (5, 6, 64, 489, 528, 644), (10, 20, 21, 22, 72, 92, 259, 260, 306, 325, 326, 327, 400, 416, 524, 535, 538, 703, 723, 733, 777, 825, 858, 881, 885, 887, 890, 894, 923, 945, 962, 975), (15, 45, 46, 139, 140, 164, 216, 269, 272, 273, 274, 322, 334, 335, 428, 429, 446, 447, 448, 461, 579, 592, 617, 657, 660, 676, 735, 760, 794, 796, 819, 838, 854, 929, 933), (41, 51, 94, 128, 196, 204, 205, 593, 751, 776, 820, 861, 908, 917, 918, 955, 970, 974), (122, 130, 148, 149, 156, 157, 178, 179, 180, 191, 214, 231, 257, 262, 277, 278, 284, 289, 342, 343, 344, 345, 346, 347, 348, 349, 350, 351, 352, 402, 511, 575, 621, 656, 668, 680, 681, 682, 692, 712, 781, 814, 824, 839, 851, 857, 871, 903, 907), (47, 48, 75, 76, 113, 114, 119, 151, 171, 229, 245, 261, 263, 318, 333, 361, 367, 370, 417, 423, 442, 443, 444, 485, 527, 547, 704, 725, 753, 757, 795, 847, 895, 897, 919, 925, 976, 981, 983), (117, 127, 255, 435, 453, 472, 490, 491, 537, 548, 610, 613, 616, 619, 642, 647, 659, 686, 745, 782, 834, 837, 939, 942, 948, 960, 995, 1003), (50, 70, 71, 84, 152, 162, 217, 288, 364, 431, 432, 433, 612, 643, 654), (147, 230, 279, 465, 495, 512, 519, 541, 589, 591, 596, 597, 641, 669, 673, 695, 730, 742, 748, 783, 786, 793, 906, 920, 944, 946, 979), (767,), (97, 98, 99, 100, 101, 124, 125, 185, 323, 353, 354, 371, 404, 580, 618, 640, 662, 687, 708, 709, 768, 770, 842, 935, 937), (163, 614, 717, 788, 792, 821), (144, 186, 254, 492), (174, 175, 665, 812, 859, 886, 888, 971, 991), (427, 470, 980), (1, 17, 18, 73, 74, 85, 120, 177, 215, 218, 219, 220, 221, 222, 223, 224, 225, 226, 227, 228, 248, 297, 307, 308, 309, 310, 311, 312, 313, 314, 315, 316, 317, 341, 414, 415, 449, 459, 468, 479, 516, 517, 603, 605, 629, 645, 650, 675, 696, 697, 731, 734, 743, 764, 775, 797, 798, 846, 852, 872, 904, 905, 916, 1002), (88, 89, 96, 252, 302, 303, 304, 369, 630, 740, 750, 806, 808, 924), (145, 154, 155, 363, 422, 513, 518, 533, 546, 615, 934, 954, 984), (49, 62, 82, 83, 86, 107, 121, 142, 160, 166, 282, 283, 366, 372, 373, 494, 594, 601, 693, 752, 932, 950), (109, 153, 355, 410, 454, 559, 577, 578, 736, 769), (13, 118, 301, 409, 420, 624, 651, 677, 810), (870,), (115, 116, 123, 135, 136, 165, 169, 170, 251, 330, 336, 337, 338, 339, 436, 437, 438, 439, 609, 724, 816, 860, 883, 900, 914, 978), (462, 463, 701, 876), (158, 159, 209, 210, 233, 234, 235, 236, 237, 238, 239, 240, 241, 242, 243, 244, 319, 564, 599, 631, 637, 639, 879, 926, 927, 930, 931, 963, 977), (80, 671, 679, 716, 966), (52, 60, 61, 103, 104, 150, 181, 182, 250, 295, 296, 320, 321, 368, 376, 377, 378, 379, 380, 381, 382, 383, 384, 385, 386, 387, 388, 389, 390, 391, 392, 393, 394, 395, 396, 397, 398, 628, 632, 653, 719, 741, 761, 772, 841, 853, 868, 869, 943, 947, 985), (758, 941), (2, 3, 4, 56, 57, 58, 59, 63, 137, 138, 192, 193, 194, 195, 281, 286, 305, 408, 412, 456, 520, 532, 571, 586, 587, 606, 622, 625, 633, 634, 635, 636, 648, 670, 685, 691, 711, 718, 755, 762, 774, 803, 815, 826, 832, 845, 849, 863, 865, 880, 882, 884, 899, 901, 921, 928, 982, 990, 993, 994, 1001), (131, 132, 271, 411, 737, 784, 807, 864), (54, 55, 126, 208, 211, 285, 455, 469, 481, 552, 604, 646, 683, 698, 728, 738, 809, 866, 867, 898, 949, 986, 987, 988, 1004), (7, 8, 9, 11, 12, 19, 43, 44, 141, 161, 213, 246, 247, 249, 264, 265, 266, 267, 293, 324, 332, 358, 359, 360, 362, 365, 374, 406, 407, 421, 430, 441, 451, 452, 466, 487, 488, 496, 498, 499, 500, 501, 502, 503, 504, 505, 506, 510, 525, 529, 530, 555, 558, 565, 566, 569, 570, 573, 602, 608, 649, 658, 661, 666, 672, 674, 699, 700, 707, 720, 729, 739, 754, 765, 804, 805, 823, 827, 830, 833, 856, 893, 912, 913, 922, 951, 956, 957, 967, 973, 996, 998), (67, 68, 69, 81, 91, 146, 184, 187, 188, 189, 190, 287, 298, 299, 418, 467, 473, 474, 476, 480, 508, 509, 536, 540, 549, 550, 551, 582, 595, 627, 663, 667, 678, 690, 710, 713, 715, 746, 747, 778, 779, 780, 799, 800, 818, 855, 873, 877, 911, 952, 958, 968, 969, 972, 999), (23, 24, 25, 26, 27, 28, 29, 30, 31, 32, 33, 34, 35, 36, 37, 38, 39, 40, 545, 588, 590, 721, 722, 785, 878, 915, 953, 964, 997)] is not a valid partition of the graph Graph with 1005 nodes and 16704 edges",
     "output_type": "error",
     "traceback": [
      "\u001b[1;31m---------------------------------------------------------------------------\u001b[0m",
      "\u001b[1;31mNotAPartition\u001b[0m                             Traceback (most recent call last)",
      "Cell \u001b[1;32mIn[326], line 2\u001b[0m\n\u001b[0;32m      1\u001b[0m \u001b[38;5;66;03m#x ={tuple(eucore.nodes[x][\"community\"]) for x in eucore.nodes}\u001b[39;00m\n\u001b[1;32m----> 2\u001b[0m \u001b[43mnx\u001b[49m\u001b[38;5;241;43m.\u001b[39;49m\u001b[43mcommunity\u001b[49m\u001b[38;5;241;43m.\u001b[39;49m\u001b[43mmodularity\u001b[49m\u001b[43m(\u001b[49m\u001b[43meucore\u001b[49m\u001b[43m,\u001b[49m\u001b[43mx\u001b[49m\u001b[43m)\u001b[49m\n",
      "File \u001b[1;32m<class 'networkx.utils.decorators.argmap'> compilation 42:3\u001b[0m, in \u001b[0;36margmap_modularity_39\u001b[1;34m(G, communities, weight, resolution, backend, **backend_kwargs)\u001b[0m\n\u001b[0;32m      1\u001b[0m \u001b[38;5;28;01mimport\u001b[39;00m \u001b[38;5;21;01mbz2\u001b[39;00m\n\u001b[0;32m      2\u001b[0m \u001b[38;5;28;01mimport\u001b[39;00m \u001b[38;5;21;01mcollections\u001b[39;00m\n\u001b[1;32m----> 3\u001b[0m \u001b[38;5;28;01mimport\u001b[39;00m \u001b[38;5;21;01mgzip\u001b[39;00m\n\u001b[0;32m      4\u001b[0m \u001b[38;5;28;01mimport\u001b[39;00m \u001b[38;5;21;01minspect\u001b[39;00m\n\u001b[0;32m      5\u001b[0m \u001b[38;5;28;01mimport\u001b[39;00m \u001b[38;5;21;01mitertools\u001b[39;00m\n",
      "File \u001b[1;32mc:\\Users\\Felipe Cintra\\Documents\\TUE_2324\\JBG-100 BEP\\Code2\\.venv\\Lib\\site-packages\\networkx\\utils\\backends.py:633\u001b[0m, in \u001b[0;36m_dispatchable.__call__\u001b[1;34m(self, backend, *args, **kwargs)\u001b[0m\n\u001b[0;32m    628\u001b[0m \u001b[38;5;250m\u001b[39m\u001b[38;5;124;03m\"\"\"Returns the result of the original function, or the backend function if\u001b[39;00m\n\u001b[0;32m    629\u001b[0m \u001b[38;5;124;03mthe backend is specified and that backend implements `func`.\"\"\"\u001b[39;00m\n\u001b[0;32m    631\u001b[0m \u001b[38;5;28;01mif\u001b[39;00m \u001b[38;5;129;01mnot\u001b[39;00m backends:\n\u001b[0;32m    632\u001b[0m     \u001b[38;5;66;03m# Fast path if no backends are installed\u001b[39;00m\n\u001b[1;32m--> 633\u001b[0m     \u001b[38;5;28;01mreturn\u001b[39;00m \u001b[38;5;28;43mself\u001b[39;49m\u001b[38;5;241;43m.\u001b[39;49m\u001b[43morig_func\u001b[49m\u001b[43m(\u001b[49m\u001b[38;5;241;43m*\u001b[39;49m\u001b[43margs\u001b[49m\u001b[43m,\u001b[49m\u001b[43m \u001b[49m\u001b[38;5;241;43m*\u001b[39;49m\u001b[38;5;241;43m*\u001b[39;49m\u001b[43mkwargs\u001b[49m\u001b[43m)\u001b[49m\n\u001b[0;32m    635\u001b[0m \u001b[38;5;66;03m# Use `backend_name` in this function instead of `backend`\u001b[39;00m\n\u001b[0;32m    636\u001b[0m backend_name \u001b[38;5;241m=\u001b[39m backend\n",
      "File \u001b[1;32mc:\\Users\\Felipe Cintra\\Documents\\TUE_2324\\JBG-100 BEP\\Code2\\.venv\\Lib\\site-packages\\networkx\\algorithms\\community\\quality.py:232\u001b[0m, in \u001b[0;36mmodularity\u001b[1;34m(G, communities, weight, resolution)\u001b[0m\n\u001b[0;32m    230\u001b[0m     communities \u001b[38;5;241m=\u001b[39m \u001b[38;5;28mlist\u001b[39m(communities)\n\u001b[0;32m    231\u001b[0m \u001b[38;5;28;01mif\u001b[39;00m \u001b[38;5;129;01mnot\u001b[39;00m is_partition(G, communities):\n\u001b[1;32m--> 232\u001b[0m     \u001b[38;5;28;01mraise\u001b[39;00m NotAPartition(G, communities)\n\u001b[0;32m    234\u001b[0m directed \u001b[38;5;241m=\u001b[39m G\u001b[38;5;241m.\u001b[39mis_directed()\n\u001b[0;32m    235\u001b[0m \u001b[38;5;28;01mif\u001b[39;00m directed:\n",
      "\u001b[1;31mNotAPartition\u001b[0m: [(14, 53, 65, 93, 95, 129, 133, 167, 168, 172, 176, 183, 197, 198, 199, 200, 201, 202, 203, 206, 207, 232, 256, 270, 275, 276, 280, 290, 291, 292, 294, 399, 401, 403, 413, 419, 425, 426, 440, 450, 457, 458, 464, 484, 486, 493, 515, 522, 523, 526, 534, 542, 543, 544, 556, 562, 563, 567, 568, 572, 574, 576, 584, 585, 600, 611, 620, 623, 626, 655, 664, 688, 689, 694, 702, 705, 706, 714, 727, 732, 744, 749, 789, 790, 791, 801, 802, 813, 817, 822, 829, 835, 836, 840, 843, 844, 850, 874, 902, 909, 910, 936, 938, 940, 959, 961, 965, 992, 1000), (134, 340, 482, 521, 553, 554, 583, 598, 766, 862), (268, 331, 756), (16, 42, 87, 105, 212, 424, 434, 460, 561, 607, 684, 763, 787), (66, 90, 108, 110, 111, 112, 143, 258, 328, 329, 356, 357, 375, 475, 477, 478, 514, 652, 989), (102, 106, 173, 300, 405, 638, 771, 773, 828, 889, 891, 892, 896), (77, 78, 79, 445, 483, 497, 531, 539, 557, 581, 811, 848), (253, 471, 507, 560, 726, 759, 831, 875), (5, 6, 64, 489, 528, 644), (10, 20, 21, 22, 72, 92, 259, 260, 306, 325, 326, 327, 400, 416, 524, 535, 538, 703, 723, 733, 777, 825, 858, 881, 885, 887, 890, 894, 923, 945, 962, 975), (15, 45, 46, 139, 140, 164, 216, 269, 272, 273, 274, 322, 334, 335, 428, 429, 446, 447, 448, 461, 579, 592, 617, 657, 660, 676, 735, 760, 794, 796, 819, 838, 854, 929, 933), (41, 51, 94, 128, 196, 204, 205, 593, 751, 776, 820, 861, 908, 917, 918, 955, 970, 974), (122, 130, 148, 149, 156, 157, 178, 179, 180, 191, 214, 231, 257, 262, 277, 278, 284, 289, 342, 343, 344, 345, 346, 347, 348, 349, 350, 351, 352, 402, 511, 575, 621, 656, 668, 680, 681, 682, 692, 712, 781, 814, 824, 839, 851, 857, 871, 903, 907), (47, 48, 75, 76, 113, 114, 119, 151, 171, 229, 245, 261, 263, 318, 333, 361, 367, 370, 417, 423, 442, 443, 444, 485, 527, 547, 704, 725, 753, 757, 795, 847, 895, 897, 919, 925, 976, 981, 983), (117, 127, 255, 435, 453, 472, 490, 491, 537, 548, 610, 613, 616, 619, 642, 647, 659, 686, 745, 782, 834, 837, 939, 942, 948, 960, 995, 1003), (50, 70, 71, 84, 152, 162, 217, 288, 364, 431, 432, 433, 612, 643, 654), (147, 230, 279, 465, 495, 512, 519, 541, 589, 591, 596, 597, 641, 669, 673, 695, 730, 742, 748, 783, 786, 793, 906, 920, 944, 946, 979), (767,), (97, 98, 99, 100, 101, 124, 125, 185, 323, 353, 354, 371, 404, 580, 618, 640, 662, 687, 708, 709, 768, 770, 842, 935, 937), (163, 614, 717, 788, 792, 821), (144, 186, 254, 492), (174, 175, 665, 812, 859, 886, 888, 971, 991), (427, 470, 980), (1, 17, 18, 73, 74, 85, 120, 177, 215, 218, 219, 220, 221, 222, 223, 224, 225, 226, 227, 228, 248, 297, 307, 308, 309, 310, 311, 312, 313, 314, 315, 316, 317, 341, 414, 415, 449, 459, 468, 479, 516, 517, 603, 605, 629, 645, 650, 675, 696, 697, 731, 734, 743, 764, 775, 797, 798, 846, 852, 872, 904, 905, 916, 1002), (88, 89, 96, 252, 302, 303, 304, 369, 630, 740, 750, 806, 808, 924), (145, 154, 155, 363, 422, 513, 518, 533, 546, 615, 934, 954, 984), (49, 62, 82, 83, 86, 107, 121, 142, 160, 166, 282, 283, 366, 372, 373, 494, 594, 601, 693, 752, 932, 950), (109, 153, 355, 410, 454, 559, 577, 578, 736, 769), (13, 118, 301, 409, 420, 624, 651, 677, 810), (870,), (115, 116, 123, 135, 136, 165, 169, 170, 251, 330, 336, 337, 338, 339, 436, 437, 438, 439, 609, 724, 816, 860, 883, 900, 914, 978), (462, 463, 701, 876), (158, 159, 209, 210, 233, 234, 235, 236, 237, 238, 239, 240, 241, 242, 243, 244, 319, 564, 599, 631, 637, 639, 879, 926, 927, 930, 931, 963, 977), (80, 671, 679, 716, 966), (52, 60, 61, 103, 104, 150, 181, 182, 250, 295, 296, 320, 321, 368, 376, 377, 378, 379, 380, 381, 382, 383, 384, 385, 386, 387, 388, 389, 390, 391, 392, 393, 394, 395, 396, 397, 398, 628, 632, 653, 719, 741, 761, 772, 841, 853, 868, 869, 943, 947, 985), (758, 941), (2, 3, 4, 56, 57, 58, 59, 63, 137, 138, 192, 193, 194, 195, 281, 286, 305, 408, 412, 456, 520, 532, 571, 586, 587, 606, 622, 625, 633, 634, 635, 636, 648, 670, 685, 691, 711, 718, 755, 762, 774, 803, 815, 826, 832, 845, 849, 863, 865, 880, 882, 884, 899, 901, 921, 928, 982, 990, 993, 994, 1001), (131, 132, 271, 411, 737, 784, 807, 864), (54, 55, 126, 208, 211, 285, 455, 469, 481, 552, 604, 646, 683, 698, 728, 738, 809, 866, 867, 898, 949, 986, 987, 988, 1004), (7, 8, 9, 11, 12, 19, 43, 44, 141, 161, 213, 246, 247, 249, 264, 265, 266, 267, 293, 324, 332, 358, 359, 360, 362, 365, 374, 406, 407, 421, 430, 441, 451, 452, 466, 487, 488, 496, 498, 499, 500, 501, 502, 503, 504, 505, 506, 510, 525, 529, 530, 555, 558, 565, 566, 569, 570, 573, 602, 608, 649, 658, 661, 666, 672, 674, 699, 700, 707, 720, 729, 739, 754, 765, 804, 805, 823, 827, 830, 833, 856, 893, 912, 913, 922, 951, 956, 957, 967, 973, 996, 998), (67, 68, 69, 81, 91, 146, 184, 187, 188, 189, 190, 287, 298, 299, 418, 467, 473, 474, 476, 480, 508, 509, 536, 540, 549, 550, 551, 582, 595, 627, 663, 667, 678, 690, 710, 713, 715, 746, 747, 778, 779, 780, 799, 800, 818, 855, 873, 877, 911, 952, 958, 968, 969, 972, 999), (23, 24, 25, 26, 27, 28, 29, 30, 31, 32, 33, 34, 35, 36, 37, 38, 39, 40, 545, 588, 590, 721, 722, 785, 878, 915, 953, 964, 997)] is not a valid partition of the graph Graph with 1005 nodes and 16704 edges"
     ]
    }
   ],
   "source": []
  },
  {
   "cell_type": "code",
   "execution_count": null,
   "metadata": {},
   "outputs": [
    {
     "ename": "KeyError",
     "evalue": "'community'",
     "output_type": "error",
     "traceback": [
      "\u001b[1;31m---------------------------------------------------------------------------\u001b[0m",
      "\u001b[1;31mKeyError\u001b[0m                                  Traceback (most recent call last)",
      "Cell \u001b[1;32mIn[324], line 1\u001b[0m\n\u001b[1;32m----> 1\u001b[0m \u001b[43mmod_graph\u001b[49m\u001b[43m(\u001b[49m\u001b[43meucore\u001b[49m\u001b[43m)\u001b[49m\n",
      "Cell \u001b[1;32mIn[270], line 14\u001b[0m, in \u001b[0;36mmod_graph\u001b[1;34m(G)\u001b[0m\n\u001b[0;32m     13\u001b[0m \u001b[38;5;28;01mdef\u001b[39;00m \u001b[38;5;21mmod_graph\u001b[39m(G):    \n\u001b[1;32m---> 14\u001b[0m     ground \u001b[38;5;241m=\u001b[39m {\u001b[38;5;28mfrozenset\u001b[39m(\u001b[43mG\u001b[49m\u001b[38;5;241;43m.\u001b[39;49m\u001b[43mnodes\u001b[49m\u001b[43m[\u001b[49m\u001b[43mv\u001b[49m\u001b[43m]\u001b[49m\u001b[43m[\u001b[49m\u001b[38;5;124;43m\"\u001b[39;49m\u001b[38;5;124;43mcommunity\u001b[39;49m\u001b[38;5;124;43m\"\u001b[39;49m\u001b[43m]\u001b[49m) \u001b[38;5;28;01mfor\u001b[39;00m v \u001b[38;5;129;01min\u001b[39;00m G}\n\u001b[0;32m     15\u001b[0m     mod \u001b[38;5;241m=\u001b[39m nx\u001b[38;5;241m.\u001b[39mcommunity\u001b[38;5;241m.\u001b[39mmodularity(G, ground)\n\u001b[0;32m     16\u001b[0m     \u001b[38;5;28;01mreturn\u001b[39;00m mod\n",
      "\u001b[1;31mKeyError\u001b[0m: 'community'"
     ]
    }
   ],
   "source": [
    "mod_graph(eucore)"
   ]
  }
 ],
 "metadata": {
  "kernelspec": {
   "display_name": ".venv",
   "language": "python",
   "name": "python3"
  },
  "language_info": {
   "codemirror_mode": {
    "name": "ipython",
    "version": 3
   },
   "file_extension": ".py",
   "mimetype": "text/x-python",
   "name": "python",
   "nbconvert_exporter": "python",
   "pygments_lexer": "ipython3",
   "version": "3.12.2"
  }
 },
 "nbformat": 4,
 "nbformat_minor": 2
}

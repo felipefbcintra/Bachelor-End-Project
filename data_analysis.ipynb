{
 "cells": [
  {
   "cell_type": "code",
   "execution_count": 45,
   "metadata": {},
   "outputs": [],
   "source": [
    "import pandas as pd\n",
    "import networkx as nx\n",
    "import pandas as pd\n",
    "import numpy as np\n",
    "import tqdm\n",
    "from collections import defaultdict\n",
    "from sklearn.metrics import confusion_matrix\n",
    "from munkres import Munkres, print_matrix\n",
    "import matplotlib.pyplot as plt\n",
    "import itertools\n",
    "import seaborn as sns\n",
    "sns.set_theme()\n",
    "import sys\n",
    "import gzip\n",
    "from collections import Counter"
   ]
  },
  {
   "cell_type": "code",
   "execution_count": 43,
   "metadata": {},
   "outputs": [
    {
     "data": {
      "text/plain": [
       "'data\\\\Cisco_22_networks\\\\dir_g22_extra_graph_with_gt/'"
      ]
     },
     "execution_count": 43,
     "metadata": {},
     "output_type": "execute_result"
    }
   ],
   "source": [
    "path = r\"data\\Cisco_22_networks\\dir_g22_extra_graph_with_gt\\dir_edges\\out2021_1_1.txt.gz\"\n"
   ]
  },
  {
   "cell_type": "code",
   "execution_count": 46,
   "metadata": {},
   "outputs": [],
   "source": [
    "def read_edges_with_ports_to_stats(edges_file,\n",
    "                                   wload_to_graph=None,  wload_to_port_info=None,\n",
    "                                   wload_to_directed_longevity=None):\n",
    "    if wload_to_graph is None:  # Otherwise, add to existing graph\n",
    "        wload_to_graph = {}\n",
    "    if wload_to_port_info is None:  # Otherwise, add to existing graph\n",
    "        wload_to_port_info = {}\n",
    "    directed_longevity = defaultdict(Counter)\n",
    "    port_to_freq = Counter()\n",
    "    # Assume gzip file.\n",
    "    with gzip.open(edges_file, mode='rt') as fopen: # open in rt=read-text mode\n",
    "        for line in fopen:\n",
    "            if line.startswith('#'): # skip comment lines\n",
    "                continue\n",
    "            parts = line.split()\n",
    "            if len(parts) < 3:\n",
    "                continue\n",
    "            wload_id = parts[0]\n",
    "            v1 = parts[1]  # node1, consumer / client\n",
    "            v2 = parts[2]\n",
    "            \n",
    "            if wload_id not in wload_to_graph:\n",
    "                wload_to_graph[ wload_id ] = defaultdict(Counter)\n",
    "            v_to_u = wload_to_graph[wload_id]\n",
    "            port_info = parts[3]\n",
    "            ports = port_info.split( ',' )\n",
    "            stats = wload_to_port_info.get(wload_id, None)\n",
    "            if stats is None:\n",
    "                stats = defaultdict(set)\n",
    "                wload_to_port_info[ wload_id ] = stats\n",
    "\n",
    "            ports_added = False\n",
    "            for port_tuple in ports:\n",
    "                #if 0 and '-' not in port_tuple:\n",
    "                #    continue\n",
    "                if 'p' not in port_tuple:\n",
    "                    continue\n",
    "                port_part = port_tuple.split('-')[0]\n",
    "                if port_part == '':\n",
    "                    continue\n",
    "                port_to_freq[port_part] += 1\n",
    "                stats[port_part].add((v1, v2))\n",
    "                ports_added = True\n",
    "                directed_longevity[wload_id][(v1, v2, port_part)] = 1\n",
    "                \n",
    "            if ports_added:\n",
    "                v_to_u[v1][v2] += 1\n",
    "                v_to_u[v2][v1] += 1"
   ]
  },
  {
   "cell_type": "code",
   "execution_count": 47,
   "metadata": {},
   "outputs": [
    {
     "ename": "PermissionError",
     "evalue": "[Errno 13] Permission denied: 'data\\\\Cisco_22_networks\\\\dir_g22_extra_graph_with_gt/'",
     "output_type": "error",
     "traceback": [
      "\u001b[1;31m---------------------------------------------------------------------------\u001b[0m",
      "\u001b[1;31mPermissionError\u001b[0m                           Traceback (most recent call last)",
      "Cell \u001b[1;32mIn[47], line 1\u001b[0m\n\u001b[1;32m----> 1\u001b[0m \u001b[43mread_edges_with_ports_to_stats\u001b[49m\u001b[43m(\u001b[49m\u001b[43mpath\u001b[49m\u001b[43m)\u001b[49m\n",
      "Cell \u001b[1;32mIn[46], line 11\u001b[0m, in \u001b[0;36mread_edges_with_ports_to_stats\u001b[1;34m(edges_file, wload_to_graph, wload_to_port_info, wload_to_directed_longevity)\u001b[0m\n\u001b[0;32m      9\u001b[0m port_to_freq \u001b[38;5;241m=\u001b[39m Counter()\n\u001b[0;32m     10\u001b[0m \u001b[38;5;66;03m# Assume gzip file.\u001b[39;00m\n\u001b[1;32m---> 11\u001b[0m \u001b[38;5;28;01mwith\u001b[39;00m \u001b[43mgzip\u001b[49m\u001b[38;5;241;43m.\u001b[39;49m\u001b[43mopen\u001b[49m\u001b[43m(\u001b[49m\u001b[43medges_file\u001b[49m\u001b[43m,\u001b[49m\u001b[43m \u001b[49m\u001b[43mmode\u001b[49m\u001b[38;5;241;43m=\u001b[39;49m\u001b[38;5;124;43m'\u001b[39;49m\u001b[38;5;124;43mrt\u001b[39;49m\u001b[38;5;124;43m'\u001b[39;49m\u001b[43m)\u001b[49m \u001b[38;5;28;01mas\u001b[39;00m fopen: \u001b[38;5;66;03m# open in rt=read-text mode\u001b[39;00m\n\u001b[0;32m     12\u001b[0m     \u001b[38;5;28;01mfor\u001b[39;00m line \u001b[38;5;129;01min\u001b[39;00m fopen:\n\u001b[0;32m     13\u001b[0m         \u001b[38;5;28;01mif\u001b[39;00m line\u001b[38;5;241m.\u001b[39mstartswith(\u001b[38;5;124m'\u001b[39m\u001b[38;5;124m#\u001b[39m\u001b[38;5;124m'\u001b[39m): \u001b[38;5;66;03m# skip comment lines\u001b[39;00m\n",
      "File \u001b[1;32m~\\AppData\\Local\\Programs\\Python\\Python312\\Lib\\gzip.py:61\u001b[0m, in \u001b[0;36mopen\u001b[1;34m(filename, mode, compresslevel, encoding, errors, newline)\u001b[0m\n\u001b[0;32m     59\u001b[0m gz_mode \u001b[38;5;241m=\u001b[39m mode\u001b[38;5;241m.\u001b[39mreplace(\u001b[38;5;124m\"\u001b[39m\u001b[38;5;124mt\u001b[39m\u001b[38;5;124m\"\u001b[39m, \u001b[38;5;124m\"\u001b[39m\u001b[38;5;124m\"\u001b[39m)\n\u001b[0;32m     60\u001b[0m \u001b[38;5;28;01mif\u001b[39;00m \u001b[38;5;28misinstance\u001b[39m(filename, (\u001b[38;5;28mstr\u001b[39m, \u001b[38;5;28mbytes\u001b[39m, os\u001b[38;5;241m.\u001b[39mPathLike)):\n\u001b[1;32m---> 61\u001b[0m     binary_file \u001b[38;5;241m=\u001b[39m \u001b[43mGzipFile\u001b[49m\u001b[43m(\u001b[49m\u001b[43mfilename\u001b[49m\u001b[43m,\u001b[49m\u001b[43m \u001b[49m\u001b[43mgz_mode\u001b[49m\u001b[43m,\u001b[49m\u001b[43m \u001b[49m\u001b[43mcompresslevel\u001b[49m\u001b[43m)\u001b[49m\n\u001b[0;32m     62\u001b[0m \u001b[38;5;28;01melif\u001b[39;00m \u001b[38;5;28mhasattr\u001b[39m(filename, \u001b[38;5;124m\"\u001b[39m\u001b[38;5;124mread\u001b[39m\u001b[38;5;124m\"\u001b[39m) \u001b[38;5;129;01mor\u001b[39;00m \u001b[38;5;28mhasattr\u001b[39m(filename, \u001b[38;5;124m\"\u001b[39m\u001b[38;5;124mwrite\u001b[39m\u001b[38;5;124m\"\u001b[39m):\n\u001b[0;32m     63\u001b[0m     binary_file \u001b[38;5;241m=\u001b[39m GzipFile(\u001b[38;5;28;01mNone\u001b[39;00m, gz_mode, compresslevel, filename)\n",
      "File \u001b[1;32m~\\AppData\\Local\\Programs\\Python\\Python312\\Lib\\gzip.py:192\u001b[0m, in \u001b[0;36mGzipFile.__init__\u001b[1;34m(self, filename, mode, compresslevel, fileobj, mtime)\u001b[0m\n\u001b[0;32m    190\u001b[0m     mode \u001b[38;5;241m+\u001b[39m\u001b[38;5;241m=\u001b[39m \u001b[38;5;124m'\u001b[39m\u001b[38;5;124mb\u001b[39m\u001b[38;5;124m'\u001b[39m\n\u001b[0;32m    191\u001b[0m \u001b[38;5;28;01mif\u001b[39;00m fileobj \u001b[38;5;129;01mis\u001b[39;00m \u001b[38;5;28;01mNone\u001b[39;00m:\n\u001b[1;32m--> 192\u001b[0m     fileobj \u001b[38;5;241m=\u001b[39m \u001b[38;5;28mself\u001b[39m\u001b[38;5;241m.\u001b[39mmyfileobj \u001b[38;5;241m=\u001b[39m \u001b[43mbuiltins\u001b[49m\u001b[38;5;241;43m.\u001b[39;49m\u001b[43mopen\u001b[49m\u001b[43m(\u001b[49m\u001b[43mfilename\u001b[49m\u001b[43m,\u001b[49m\u001b[43m \u001b[49m\u001b[43mmode\u001b[49m\u001b[43m \u001b[49m\u001b[38;5;129;43;01mor\u001b[39;49;00m\u001b[43m \u001b[49m\u001b[38;5;124;43m'\u001b[39;49m\u001b[38;5;124;43mrb\u001b[39;49m\u001b[38;5;124;43m'\u001b[39;49m\u001b[43m)\u001b[49m\n\u001b[0;32m    193\u001b[0m \u001b[38;5;28;01mif\u001b[39;00m filename \u001b[38;5;129;01mis\u001b[39;00m \u001b[38;5;28;01mNone\u001b[39;00m:\n\u001b[0;32m    194\u001b[0m     filename \u001b[38;5;241m=\u001b[39m \u001b[38;5;28mgetattr\u001b[39m(fileobj, \u001b[38;5;124m'\u001b[39m\u001b[38;5;124mname\u001b[39m\u001b[38;5;124m'\u001b[39m, \u001b[38;5;124m'\u001b[39m\u001b[38;5;124m'\u001b[39m)\n",
      "\u001b[1;31mPermissionError\u001b[0m: [Errno 13] Permission denied: 'data\\\\Cisco_22_networks\\\\dir_g22_extra_graph_with_gt/'"
     ]
    }
   ],
   "source": [
    "read_edges_with_ports_to_stats(path)"
   ]
  },
  {
   "cell_type": "code",
   "execution_count": 5,
   "metadata": {},
   "outputs": [],
   "source": [
    "path = r\"C:\\Users\\Felipe Cintra\\Documents\\TUE_2324\\JBG-100 BEP\\Code\\data\\email-Eu-core-department-labels.txt.gz\"\n",
    "labels = pd.read_csv(path)"
   ]
  },
  {
   "cell_type": "code",
   "execution_count": 6,
   "metadata": {},
   "outputs": [],
   "source": [
    "data = pd.read_csv(r\"C:\\Users\\Felipe Cintra\\Documents\\TUE_2324\\JBG-100 BEP\\Code\\data\\email-Eu-core.txt.gz\")\n",
    "data = data.map(str.split)\n",
    "series_0 = data.map(lambda x:x[0]).values.flatten()\n",
    "series_1 = data.map(lambda x:x[1]).values.flatten()\n",
    "\n",
    "to_integer = np.vectorize(int)\n",
    "series_0 = to_integer(series_0)\n",
    "\n",
    "\n",
    "df = pd.DataFrame({\"zero\": to_integer(series_0), \"one\": to_integer(series_1)})\n",
    "df = df.dropna()"
   ]
  },
  {
   "cell_type": "code",
   "execution_count": 7,
   "metadata": {},
   "outputs": [],
   "source": [
    "def create_adjacency(df:pd.DataFrame)->np.array:\n",
    "    m = max(max(df[\"zero\"].value_counts().index), max(df[\"one\"].value_counts().index)) + 1\n",
    "    A = np.zeros((m,m))\n",
    "    a,b = df[\"zero\"].to_numpy(dtype=int), df[\"one\"].to_numpy(dtype=int)\n",
    "\n",
    "    A[a,b] =1\n",
    "            \n",
    "    return A\n"
   ]
  },
  {
   "cell_type": "code",
   "execution_count": 8,
   "metadata": {},
   "outputs": [],
   "source": [
    "A = create_adjacency(df)\n",
    "G = nx.from_numpy_array(A, parallel_edges=True,create_using=nx.DiGraph, edge_attr=\"capacity\")\n",
    "m = A.shape[0]\n",
    "ind_i = ind_j = np.arange(0,m)\n",
    "Id = np.zeros([m,m])\n"
   ]
  },
  {
   "cell_type": "code",
   "execution_count": 10,
   "metadata": {},
   "outputs": [],
   "source": [
    "labels = pd.read_csv(r\"C:\\Users\\Felipe Cintra\\Documents\\TUE_2324\\JBG-100 BEP\\Code\\data\\email-Eu-core-department-labels.txt.gz\")\n",
    "labels= labels.map(str.split)\n",
    "series_0 = labels.map(lambda x:x[0]).values.flatten()\n",
    "series_1 = labels.map(lambda x:x[1]).values.flatten()\n",
    "\n",
    "to_integer = np.vectorize(int)\n",
    "series_0 = to_integer(series_0)\n",
    "\n",
    "labels = pd.DataFrame({\"node\": to_integer(series_0), \"community\": to_integer(series_1)})\n",
    "labels = labels.dropna()"
   ]
  },
  {
   "cell_type": "code",
   "execution_count": 11,
   "metadata": {},
   "outputs": [],
   "source": [
    "def assign_com(comms, node, comm):\n",
    "    comms[comm].append(node)\n",
    "    return node, comm\n",
    "\n",
    "assign_com = np.vectorize(assign_com)\n",
    "\n",
    "def create_communities(df:pd.DataFrame):\n",
    "    comms = defaultdict(list)\n",
    "    nodes = df[\"node\"].to_numpy(dtype = int)\n",
    "    communities =df[\"community\"].to_numpy(dtype = int)\n",
    "    \n",
    "    [assign_com(comms, node,  c) for (node, c) in zip(nodes, communities)]\n",
    "\n",
    "    return comms"
   ]
  },
  {
   "cell_type": "code",
   "execution_count": 12,
   "metadata": {},
   "outputs": [],
   "source": [
    "comms = create_communities(labels)"
   ]
  },
  {
   "cell_type": "code",
   "execution_count": 13,
   "metadata": {},
   "outputs": [
    {
     "data": {
      "text/html": [
       "<div>\n",
       "<style scoped>\n",
       "    .dataframe tbody tr th:only-of-type {\n",
       "        vertical-align: middle;\n",
       "    }\n",
       "\n",
       "    .dataframe tbody tr th {\n",
       "        vertical-align: top;\n",
       "    }\n",
       "\n",
       "    .dataframe thead th {\n",
       "        text-align: right;\n",
       "    }\n",
       "</style>\n",
       "<table border=\"1\" class=\"dataframe\">\n",
       "  <thead>\n",
       "    <tr style=\"text-align: right;\">\n",
       "      <th></th>\n",
       "      <th>node</th>\n",
       "      <th>community</th>\n",
       "    </tr>\n",
       "  </thead>\n",
       "  <tbody>\n",
       "    <tr>\n",
       "      <th>501</th>\n",
       "      <td>1</td>\n",
       "      <td>14</td>\n",
       "    </tr>\n",
       "    <tr>\n",
       "      <th>0</th>\n",
       "      <td>2</td>\n",
       "      <td>0</td>\n",
       "    </tr>\n",
       "    <tr>\n",
       "      <th>1</th>\n",
       "      <td>3</td>\n",
       "      <td>0</td>\n",
       "    </tr>\n",
       "    <tr>\n",
       "      <th>2</th>\n",
       "      <td>4</td>\n",
       "      <td>0</td>\n",
       "    </tr>\n",
       "    <tr>\n",
       "      <th>3</th>\n",
       "      <td>5</td>\n",
       "      <td>0</td>\n",
       "    </tr>\n",
       "    <tr>\n",
       "      <th>...</th>\n",
       "      <td>...</td>\n",
       "      <td>...</td>\n",
       "    </tr>\n",
       "    <tr>\n",
       "      <th>825</th>\n",
       "      <td>1000</td>\n",
       "      <td>22</td>\n",
       "    </tr>\n",
       "    <tr>\n",
       "      <th>145</th>\n",
       "      <td>1001</td>\n",
       "      <td>0</td>\n",
       "    </tr>\n",
       "    <tr>\n",
       "      <th>561</th>\n",
       "      <td>1002</td>\n",
       "      <td>14</td>\n",
       "    </tr>\n",
       "    <tr>\n",
       "      <th>380</th>\n",
       "      <td>1003</td>\n",
       "      <td>1</td>\n",
       "    </tr>\n",
       "    <tr>\n",
       "      <th>146</th>\n",
       "      <td>1004</td>\n",
       "      <td>0</td>\n",
       "    </tr>\n",
       "  </tbody>\n",
       "</table>\n",
       "<p>1004 rows × 2 columns</p>\n",
       "</div>"
      ],
      "text/plain": [
       "     node  community\n",
       "501     1         14\n",
       "0       2          0\n",
       "1       3          0\n",
       "2       4          0\n",
       "3       5          0\n",
       "..    ...        ...\n",
       "825  1000         22\n",
       "145  1001          0\n",
       "561  1002         14\n",
       "380  1003          1\n",
       "146  1004          0\n",
       "\n",
       "[1004 rows x 2 columns]"
      ]
     },
     "execution_count": 13,
     "metadata": {},
     "output_type": "execute_result"
    }
   ],
   "source": [
    "graph_A = nx.from_numpy_array(A)\n",
    "lv_A = nx.community.louvain_communities(graph_A)\n",
    "\n",
    "\n",
    "community_lva = []\n",
    "node_lva = []\n",
    "\n",
    "for i,set in enumerate(lv_A):\n",
    "    for n in list(set):\n",
    "        node_lva.append(n)\n",
    "        community_lva.append(i)\n",
    "\n",
    "gen_labels_lva = pd.DataFrame({\"node\": node_lva, \"community\":community_lva})\n",
    "gen_labels_lva = gen_labels_lva.sort_values(by=\"node\")\n",
    "gen_labels_lva = gen_labels_lva[gen_labels_lva[\"node\"]!=0]\n",
    "gen_labels_lva\n"
   ]
  },
  {
   "cell_type": "code",
   "execution_count": 14,
   "metadata": {},
   "outputs": [
    {
     "data": {
      "text/plain": [
       "72.32992626581499"
      ]
     },
     "execution_count": 14,
     "metadata": {},
     "output_type": "execute_result"
    }
   ],
   "source": [
    "gen_labels_lva[\"community\"].value_counts().mean()\n",
    "gen_labels_lva[\"community\"].value_counts().std()"
   ]
  },
  {
   "cell_type": "code",
   "execution_count": 30,
   "metadata": {},
   "outputs": [
    {
     "data": {
      "text/plain": [
       "(Text(0.5, 0, 'Community Size'), Text(0, 0.5, 'Number of communities'))"
      ]
     },
     "execution_count": 30,
     "metadata": {},
     "output_type": "execute_result"
    },
    {
     "data": {
      "image/png": "[encoded data removed]",
      "text/plain": [
       "<Figure size 640x480 with 1 Axes>"
      ]
     },
     "metadata": {},
     "output_type": "display_data"
    }
   ],
   "source": [
    "fig, ax = plt.subplots()\n",
    "ax.hist(gen_labels_lva[\"community\"].value_counts())\n",
    "plt.title(\"Community Size Distribution\", fontsize=16)\n",
    "ax.set_xlabel(\"Community Size\"), ax.set_ylabel(\"Number of communities\")"
   ]
  },
  {
   "cell_type": "code",
   "execution_count": null,
   "metadata": {},
   "outputs": [],
   "source": []
  }
 ],
 "metadata": {
  "kernelspec": {
   "display_name": ".venv",
   "language": "python",
   "name": "python3"
  },
  "language_info": {
   "codemirror_mode": {
    "name": "ipython",
    "version": 3
   },
   "file_extension": ".py",
   "mimetype": "text/x-python",
   "name": "python",
   "nbconvert_exporter": "python",
   "pygments_lexer": "ipython3",
   "version": "3.12.2"
  }
 },
 "nbformat": 4,
 "nbformat_minor": 2
}
